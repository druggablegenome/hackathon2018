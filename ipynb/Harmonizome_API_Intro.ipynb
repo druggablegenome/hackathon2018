{
  "nbformat": 4,
  "nbformat_minor": 0,
  "metadata": {
    "colab": {
      "name": "Harmonizome_API_Intro.ipynb",
      "version": "0.3.2",
      "provenance": []
    },
    "kernelspec": {
      "name": "python3",
      "display_name": "Python 3"
    }
  },
  "cells": [
    {
      "metadata": {
        "id": "oyDe26O0d6Jt",
        "colab_type": "text"
      },
      "cell_type": "markdown",
      "source": [
        "<img align=\"right\" src=\"https://druggablegenome.net/IDG_Images_Index/IDGLOGO.png\" width=\"400\">\n",
        "# Harmonizome API Intro\n",
        "  * http://amp.pharm.mssm.edu/Harmonizome/documentation\n",
        "  * http://amp.pharm.mssm.edu/Harmonizome/static/harmonizomeapi.py\n",
        "  * http://amp.pharm.mssm.edu/Harmonizome/about\n",
        "  "
      ]
    },
    {
      "metadata": {
        "id": "G0Zt2tGIdcVc",
        "colab_type": "code",
        "colab": {}
      },
      "cell_type": "code",
      "source": [
        "import sys,os,importlib\n",
        "import pandas\n",
        "import urllib.request"
      ],
      "execution_count": 0,
      "outputs": []
    },
    {
      "metadata": {
        "id": "WgtjLmBWmuWS",
        "colab_type": "code",
        "colab": {}
      },
      "cell_type": "code",
      "source": [
        "url='http://amp.pharm.mssm.edu/Harmonizome/static/harmonizomeapi.py'\n",
        "open('harmonizomeapi.py', 'wb').write(urllib.request.urlopen(url).read())\n",
        "harmonizomeapi = importlib.import_module('harmonizomeapi')\n",
        "from harmonizomeapi import Harmonizome, Entity"
      ],
      "execution_count": 0,
      "outputs": []
    },
    {
      "metadata": {
        "id": "9AIIsJCYjfjs",
        "colab_type": "text"
      },
      "cell_type": "markdown",
      "source": [
        "### Datasets"
      ]
    },
    {
      "metadata": {
        "id": "NTanGv9ovrvI",
        "colab_type": "code",
        "colab": {
          "base_uri": "https://localhost:8080/",
          "height": 222
        },
        "outputId": "cbd08ca8-a136-40f9-fd07-2c16f29f9399"
      },
      "cell_type": "code",
      "source": [
        "datasets = Harmonizome.get(Entity.DATASET)\n",
        "print('Datasets: %d'%(datasets['count']))\n",
        "datasets = pandas.DataFrame(datasets['entities'])\n",
        "datasets.head()"
      ],
      "execution_count": 36,
      "outputs": [
        {
          "output_type": "stream",
          "text": [
            "Datasets: 114\n"
          ],
          "name": "stdout"
        },
        {
          "output_type": "execute_result",
          "data": {
            "text/html": [
              "<div>\n",
              "<style scoped>\n",
              "    .dataframe tbody tr th:only-of-type {\n",
              "        vertical-align: middle;\n",
              "    }\n",
              "\n",
              "    .dataframe tbody tr th {\n",
              "        vertical-align: top;\n",
              "    }\n",
              "\n",
              "    .dataframe thead th {\n",
              "        text-align: right;\n",
              "    }\n",
              "</style>\n",
              "<table border=\"1\" class=\"dataframe\">\n",
              "  <thead>\n",
              "    <tr style=\"text-align: right;\">\n",
              "      <th></th>\n",
              "      <th>href</th>\n",
              "      <th>name</th>\n",
              "    </tr>\n",
              "  </thead>\n",
              "  <tbody>\n",
              "    <tr>\n",
              "      <th>0</th>\n",
              "      <td>/api/1.0/dataset/Achilles+Cell+Line+Gene+Essen...</td>\n",
              "      <td>Achilles Cell Line Gene Essentiality Profiles</td>\n",
              "    </tr>\n",
              "    <tr>\n",
              "      <th>1</th>\n",
              "      <td>/api/1.0/dataset/Allen+Brain+Atlas+Adult+Human...</td>\n",
              "      <td>Allen Brain Atlas Adult Human Brain Tissue Gen...</td>\n",
              "    </tr>\n",
              "    <tr>\n",
              "      <th>2</th>\n",
              "      <td>/api/1.0/dataset/Allen+Brain+Atlas+Adult+Mouse...</td>\n",
              "      <td>Allen Brain Atlas Adult Mouse Brain Tissue Gen...</td>\n",
              "    </tr>\n",
              "    <tr>\n",
              "      <th>3</th>\n",
              "      <td>/api/1.0/dataset/Allen+Brain+Atlas+Developing+...</td>\n",
              "      <td>Allen Brain Atlas Developing Human Brain Tissu...</td>\n",
              "    </tr>\n",
              "    <tr>\n",
              "      <th>4</th>\n",
              "      <td>/api/1.0/dataset/Allen+Brain+Atlas+Developing+...</td>\n",
              "      <td>Allen Brain Atlas Developing Human Brain Tissu...</td>\n",
              "    </tr>\n",
              "  </tbody>\n",
              "</table>\n",
              "</div>"
            ],
            "text/plain": [
              "                                                href  \\\n",
              "0  /api/1.0/dataset/Achilles+Cell+Line+Gene+Essen...   \n",
              "1  /api/1.0/dataset/Allen+Brain+Atlas+Adult+Human...   \n",
              "2  /api/1.0/dataset/Allen+Brain+Atlas+Adult+Mouse...   \n",
              "3  /api/1.0/dataset/Allen+Brain+Atlas+Developing+...   \n",
              "4  /api/1.0/dataset/Allen+Brain+Atlas+Developing+...   \n",
              "\n",
              "                                                name  \n",
              "0      Achilles Cell Line Gene Essentiality Profiles  \n",
              "1  Allen Brain Atlas Adult Human Brain Tissue Gen...  \n",
              "2  Allen Brain Atlas Adult Mouse Brain Tissue Gen...  \n",
              "3  Allen Brain Atlas Developing Human Brain Tissu...  \n",
              "4  Allen Brain Atlas Developing Human Brain Tissu...  "
            ]
          },
          "metadata": {
            "tags": []
          },
          "execution_count": 36
        }
      ]
    },
    {
      "metadata": {
        "id": "Q_WB524p0mmD",
        "colab_type": "text"
      },
      "cell_type": "markdown",
      "source": [
        "### Dataset: Reactome Pathways"
      ]
    },
    {
      "metadata": {
        "id": "K9cEa6Y7xPMV",
        "colab_type": "code",
        "colab": {
          "base_uri": "https://localhost:8080/",
          "height": 420
        },
        "outputId": "62e67de0-6e18-4802-84fa-33a13e3d082c"
      },
      "cell_type": "code",
      "source": [
        "reactome_dataset = Harmonizome.get(Entity.DATASET, name='Reactome Pathways')\n",
        "for key in reactome_dataset.keys():\n",
        "  if isinstance(reactome_dataset[key], str):\n",
        "    print('%18s: %s'%(key, reactome_dataset[key]))\n",
        "  else:\n",
        "    print('%18s: %s'%(key, type(reactome_dataset[key])))\n",
        "print('PubMedIDs: %d'%(len(reactome_dataset['pubMedIds'])))\n",
        "print('GeneSets: %d'%(len(reactome_dataset['geneSets'])))\n",
        "genesets = pandas.DataFrame(reactome_dataset['geneSets'])\n",
        "genesets.head()"
      ],
      "execution_count": 37,
      "outputs": [
        {
          "output_type": "stream",
          "text": [
            "              name: Reactome Pathways\n",
            "          resource: <class 'dict'>\n",
            "       association: protein-pathway associations from curated pathways\n",
            "       description: sets of proteins participating in pathways\n",
            "      datasetGroup: structural or functional annotations\n",
            "       measurement: association by literature curation\n",
            "    attributeGroup: functional term, phrase or reference\n",
            "     attributeType: pathway\n",
            "         pubMedIds: <class 'list'>\n",
            "          geneSets: <class 'list'>\n",
            "PubMedIDs: 2\n",
            "GeneSets: 1638\n"
          ],
          "name": "stdout"
        },
        {
          "output_type": "execute_result",
          "data": {
            "text/html": [
              "<div>\n",
              "<style scoped>\n",
              "    .dataframe tbody tr th:only-of-type {\n",
              "        vertical-align: middle;\n",
              "    }\n",
              "\n",
              "    .dataframe tbody tr th {\n",
              "        vertical-align: top;\n",
              "    }\n",
              "\n",
              "    .dataframe thead th {\n",
              "        text-align: right;\n",
              "    }\n",
              "</style>\n",
              "<table border=\"1\" class=\"dataframe\">\n",
              "  <thead>\n",
              "    <tr style=\"text-align: right;\">\n",
              "      <th></th>\n",
              "      <th>href</th>\n",
              "      <th>name</th>\n",
              "    </tr>\n",
              "  </thead>\n",
              "  <tbody>\n",
              "    <tr>\n",
              "      <th>0</th>\n",
              "      <td>/api/1.0/gene_set/2-LTR+circle+formation/React...</td>\n",
              "      <td>2-LTR circle formation/Reactome Pathways</td>\n",
              "    </tr>\n",
              "    <tr>\n",
              "      <th>1</th>\n",
              "      <td>/api/1.0/gene_set/3%27+-UTR-mediated+translati...</td>\n",
              "      <td>3' -UTR-mediated translational regulation/Reac...</td>\n",
              "    </tr>\n",
              "    <tr>\n",
              "      <th>2</th>\n",
              "      <td>/api/1.0/gene_set/5-Phosphoribose+1-diphosphat...</td>\n",
              "      <td>5-Phosphoribose 1-diphosphate biosynthesis/Rea...</td>\n",
              "    </tr>\n",
              "    <tr>\n",
              "      <th>3</th>\n",
              "      <td>/api/1.0/gene_set/A+tetrasaccharide+linker+seq...</td>\n",
              "      <td>A tetrasaccharide linker sequence is required ...</td>\n",
              "    </tr>\n",
              "    <tr>\n",
              "      <th>4</th>\n",
              "      <td>/api/1.0/gene_set/A+third+proteolytic+cleavage...</td>\n",
              "      <td>A third proteolytic cleavage releases NICD/Rea...</td>\n",
              "    </tr>\n",
              "  </tbody>\n",
              "</table>\n",
              "</div>"
            ],
            "text/plain": [
              "                                                href  \\\n",
              "0  /api/1.0/gene_set/2-LTR+circle+formation/React...   \n",
              "1  /api/1.0/gene_set/3%27+-UTR-mediated+translati...   \n",
              "2  /api/1.0/gene_set/5-Phosphoribose+1-diphosphat...   \n",
              "3  /api/1.0/gene_set/A+tetrasaccharide+linker+seq...   \n",
              "4  /api/1.0/gene_set/A+third+proteolytic+cleavage...   \n",
              "\n",
              "                                                name  \n",
              "0           2-LTR circle formation/Reactome Pathways  \n",
              "1  3' -UTR-mediated translational regulation/Reac...  \n",
              "2  5-Phosphoribose 1-diphosphate biosynthesis/Rea...  \n",
              "3  A tetrasaccharide linker sequence is required ...  \n",
              "4  A third proteolytic cleavage releases NICD/Rea...  "
            ]
          },
          "metadata": {
            "tags": []
          },
          "execution_count": 37
        }
      ]
    },
    {
      "metadata": {
        "id": "muikj-elvw35",
        "colab_type": "text"
      },
      "cell_type": "markdown",
      "source": [
        "### Genes"
      ]
    },
    {
      "metadata": {
        "id": "nV-gBlgoiTqK",
        "colab_type": "code",
        "outputId": "89e2dc67-0af3-4035-ab04-a47fbbea2719",
        "colab": {
          "base_uri": "https://localhost:8080/",
          "height": 222
        }
      },
      "cell_type": "code",
      "source": [
        "genes = Harmonizome.get(Entity.GENE)\n",
        "print('Genes: %d'%(genes['count']))\n",
        "genes = pandas.DataFrame(genes['entities'])\n",
        "genes.head()"
      ],
      "execution_count": 38,
      "outputs": [
        {
          "output_type": "stream",
          "text": [
            "Genes: 56720\n"
          ],
          "name": "stdout"
        },
        {
          "output_type": "execute_result",
          "data": {
            "text/html": [
              "<div>\n",
              "<style scoped>\n",
              "    .dataframe tbody tr th:only-of-type {\n",
              "        vertical-align: middle;\n",
              "    }\n",
              "\n",
              "    .dataframe tbody tr th {\n",
              "        vertical-align: top;\n",
              "    }\n",
              "\n",
              "    .dataframe thead th {\n",
              "        text-align: right;\n",
              "    }\n",
              "</style>\n",
              "<table border=\"1\" class=\"dataframe\">\n",
              "  <thead>\n",
              "    <tr style=\"text-align: right;\">\n",
              "      <th></th>\n",
              "      <th>href</th>\n",
              "      <th>symbol</th>\n",
              "    </tr>\n",
              "  </thead>\n",
              "  <tbody>\n",
              "    <tr>\n",
              "      <th>0</th>\n",
              "      <td>/api/1.0/gene/LOC105377913</td>\n",
              "      <td>LOC105377913</td>\n",
              "    </tr>\n",
              "    <tr>\n",
              "      <th>1</th>\n",
              "      <td>/api/1.0/gene/LOC105377912</td>\n",
              "      <td>LOC105377912</td>\n",
              "    </tr>\n",
              "    <tr>\n",
              "      <th>2</th>\n",
              "      <td>/api/1.0/gene/LOC105377911</td>\n",
              "      <td>LOC105377911</td>\n",
              "    </tr>\n",
              "    <tr>\n",
              "      <th>3</th>\n",
              "      <td>/api/1.0/gene/PPATP2</td>\n",
              "      <td>PPATP2</td>\n",
              "    </tr>\n",
              "    <tr>\n",
              "      <th>4</th>\n",
              "      <td>/api/1.0/gene/LOC102724608</td>\n",
              "      <td>LOC102724608</td>\n",
              "    </tr>\n",
              "  </tbody>\n",
              "</table>\n",
              "</div>"
            ],
            "text/plain": [
              "                         href        symbol\n",
              "0  /api/1.0/gene/LOC105377913  LOC105377913\n",
              "1  /api/1.0/gene/LOC105377912  LOC105377912\n",
              "2  /api/1.0/gene/LOC105377911  LOC105377911\n",
              "3        /api/1.0/gene/PPATP2        PPATP2\n",
              "4  /api/1.0/gene/LOC102724608  LOC102724608"
            ]
          },
          "metadata": {
            "tags": []
          },
          "execution_count": 38
        }
      ]
    }
  ]
}
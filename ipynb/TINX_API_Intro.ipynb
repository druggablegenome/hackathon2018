{
  "nbformat": 4,
  "nbformat_minor": 0,
  "metadata": {
    "colab": {
      "name": "TINX_API_Intro.ipynb",
      "version": "0.3.2",
      "provenance": []
    },
    "kernelspec": {
      "name": "python3",
      "display_name": "Python 3"
    }
  },
  "cells": [
    {
      "metadata": {
        "id": "546EQVlOnggz",
        "colab_type": "text"
      },
      "cell_type": "markdown",
      "source": [
        "<img align=\"right\" src=\"https://druggablegenome.net/IDG_Images_Index/IDGLOGO.png\" width=\"400\">\n",
        "# TIN-X API Introduction\n",
        "### TIN-X REST API examples.\n",
        "  * http://api.newdrugtargets.org/\n",
        "  * http://api.newdrugtargets.org/docs/\n",
        "  * http://newdrugtargets.org/\n",
        " \n",
        "<a href=\"https://academic.oup.com/bioinformatics/article/3111842/TIN-X-Target-Importance-and-Novelty-Explorer\" target=\"_blank\">TIN-X: Target Importance and Novelty Explorer</a>, DC Cannon, JJ Yang, SL Mathias, O Ursu, S Mani, A Waller, SC Schürer, LJ Jensen, LA Sklar, CG Bologa, TI Oprea, Bioinformatics, 2017, btx200, doi: 10.1093/bioinformatics/btx200."
      ]
    },
    {
      "metadata": {
        "id": "gtixXtjfx8Ch",
        "colab_type": "text"
      },
      "cell_type": "markdown",
      "source": [
        "### Imports"
      ]
    },
    {
      "metadata": {
        "id": "Zua5AOM3nWmY",
        "colab_type": "code",
        "colab": {
          "base_uri": "https://localhost:8080/",
          "height": 55
        },
        "outputId": "3e46ef4e-8454-4f83-912d-cacc3800500a"
      },
      "cell_type": "code",
      "source": [
        "import sys,os\n",
        "import scipy,numpy\n",
        "import pandas\n",
        "import matplotlib,matplotlib.pyplot\n",
        "import altair\n",
        "print('Python: %s; Pandas: %s; Scipy: %s ; Numpy: %s; Matplotlib: %s; Altair: %s'%(sys.version.split()[0],pandas.__version__,scipy.__version__,numpy.__version__,matplotlib.__version__, altair.__version__))"
      ],
      "execution_count": 1,
      "outputs": [
        {
          "output_type": "stream",
          "text": [
            "Python: 3.6.6; Pandas: 0.22.0; Scipy: 0.19.1 ; Numpy: 1.14.6; Matplotlib: 2.1.2; Altair: 2.2.2\n"
          ],
          "name": "stdout"
        }
      ]
    },
    {
      "metadata": {
        "id": "sczw367kpMrA",
        "colab_type": "text"
      },
      "cell_type": "markdown",
      "source": [
        "### Install coreapi"
      ]
    },
    {
      "metadata": {
        "id": "CVX7XkX1oOI1",
        "colab_type": "code",
        "colab": {
          "base_uri": "https://localhost:8080/",
          "height": 451
        },
        "outputId": "8fffe593-c392-46f5-b4a3-97942e604eee"
      },
      "cell_type": "code",
      "source": [
        "!pip install coreapi\n",
        "import coreapi\n",
        "print('Coreapi: %s'%(coreapi.__version__))"
      ],
      "execution_count": 2,
      "outputs": [
        {
          "output_type": "stream",
          "text": [
            "Collecting coreapi\n",
            "  Downloading https://files.pythonhosted.org/packages/fc/3a/9dedaad22962770edd334222f2b3c3e7ad5e1c8cab1d6a7992c30329e2e5/coreapi-2.3.3-py2.py3-none-any.whl\n",
            "Requirement already satisfied: requests in /usr/local/lib/python3.6/dist-packages (from coreapi) (2.18.4)\n",
            "Collecting itypes (from coreapi)\n",
            "  Downloading https://files.pythonhosted.org/packages/d3/24/5e511590f95582efe64b8ad2f6dadd85c5563c9dcf40171ea5a70adbf5a9/itypes-1.1.0.tar.gz\n",
            "Requirement already satisfied: uritemplate in /usr/local/lib/python3.6/dist-packages (from coreapi) (3.0.0)\n",
            "Collecting coreschema (from coreapi)\n",
            "  Downloading https://files.pythonhosted.org/packages/93/08/1d105a70104e078718421e6c555b8b293259e7fc92f7e9a04869947f198f/coreschema-0.0.4.tar.gz\n",
            "Requirement already satisfied: certifi>=2017.4.17 in /usr/local/lib/python3.6/dist-packages (from requests->coreapi) (2018.10.15)\n",
            "Requirement already satisfied: urllib3<1.23,>=1.21.1 in /usr/local/lib/python3.6/dist-packages (from requests->coreapi) (1.22)\n",
            "Requirement already satisfied: chardet<3.1.0,>=3.0.2 in /usr/local/lib/python3.6/dist-packages (from requests->coreapi) (3.0.4)\n",
            "Requirement already satisfied: idna<2.7,>=2.5 in /usr/local/lib/python3.6/dist-packages (from requests->coreapi) (2.6)\n",
            "Requirement already satisfied: jinja2 in /usr/local/lib/python3.6/dist-packages (from coreschema->coreapi) (2.10)\n",
            "Requirement already satisfied: MarkupSafe>=0.23 in /usr/local/lib/python3.6/dist-packages (from jinja2->coreschema->coreapi) (1.0)\n",
            "Building wheels for collected packages: itypes, coreschema\n",
            "  Running setup.py bdist_wheel for itypes ... \u001b[?25l-\b \bdone\n",
            "\u001b[?25h  Stored in directory: /root/.cache/pip/wheels/7b/52/af/4e27324812e7ab7bbbc30f748d317f3739477562325cb4c723\n",
            "  Running setup.py bdist_wheel for coreschema ... \u001b[?25l-\b \bdone\n",
            "\u001b[?25h  Stored in directory: /root/.cache/pip/wheels/10/7b/ba/04fcd6b33e6123ca11a5f5ab56decb1a2d87ced028377a1377\n",
            "Successfully built itypes coreschema\n",
            "Installing collected packages: itypes, coreschema, coreapi\n",
            "Successfully installed coreapi-2.3.3 coreschema-0.0.4 itypes-1.1.0\n",
            "Coreapi: 2.3.3\n"
          ],
          "name": "stdout"
        }
      ]
    },
    {
      "metadata": {
        "id": "Fn1CG7NEpWGf",
        "colab_type": "text"
      },
      "cell_type": "markdown",
      "source": [
        "### Instantiate Coreapi client. Fetch TIN-X API schema."
      ]
    },
    {
      "metadata": {
        "id": "h5Qsxs7Bou1u",
        "colab_type": "code",
        "colab": {}
      },
      "cell_type": "code",
      "source": [
        "client = coreapi.Client()\n",
        "schema = client.get(\"http://api.newdrugtargets.org/docs/\")"
      ],
      "execution_count": 0,
      "outputs": []
    },
    {
      "metadata": {
        "id": "3OZfzaospc9w",
        "colab_type": "text"
      },
      "cell_type": "markdown",
      "source": [
        "### Search for \"Gout\", rank by name length."
      ]
    },
    {
      "metadata": {
        "id": "pSv73PdCobuV",
        "colab_type": "code",
        "colab": {
          "base_uri": "https://localhost:8080/",
          "height": 134
        },
        "outputId": "ec73f19e-1228-4d73-b9ac-9e0ba14671e8"
      },
      "cell_type": "code",
      "source": [
        "action = [\"diseases\", \"list\"]\n",
        "params = { \"search\": \"Gout\", \"limit\": 10, \"offset\": 0 }\n",
        "response = client.action(schema, action, params=params)\n",
        "diseases = pandas.DataFrame(response['results'])\n",
        "diseases[['id', 'doid', 'name', 'summary']]\n",
        "diseases.reindex(diseases.name.str.len().sort_values().index)"
      ],
      "execution_count": 4,
      "outputs": [
        {
          "output_type": "execute_result",
          "data": {
            "text/html": [
              "<div>\n",
              "<style scoped>\n",
              "    .dataframe tbody tr th:only-of-type {\n",
              "        vertical-align: middle;\n",
              "    }\n",
              "\n",
              "    .dataframe tbody tr th {\n",
              "        vertical-align: top;\n",
              "    }\n",
              "\n",
              "    .dataframe thead th {\n",
              "        text-align: right;\n",
              "    }\n",
              "</style>\n",
              "<table border=\"1\" class=\"dataframe\">\n",
              "  <thead>\n",
              "    <tr style=\"text-align: right;\">\n",
              "      <th></th>\n",
              "      <th>id</th>\n",
              "      <th>doid</th>\n",
              "      <th>name</th>\n",
              "      <th>summary</th>\n",
              "      <th>novelty</th>\n",
              "      <th>targets</th>\n",
              "      <th>children</th>\n",
              "    </tr>\n",
              "  </thead>\n",
              "  <tbody>\n",
              "    <tr>\n",
              "      <th>0</th>\n",
              "      <td>62</td>\n",
              "      <td>DOID:13189</td>\n",
              "      <td>gout</td>\n",
              "      <td>An arthritis that has_material_basis_in uric a...</td>\n",
              "      <td>0.0009847300000000</td>\n",
              "      <td>http://api.newdrugtargets.org/diseases/62/targ...</td>\n",
              "      <td>http://api.newdrugtargets.org/diseases/62/chil...</td>\n",
              "    </tr>\n",
              "  </tbody>\n",
              "</table>\n",
              "</div>"
            ],
            "text/plain": [
              "   id        doid  name                                            summary  \\\n",
              "0  62  DOID:13189  gout  An arthritis that has_material_basis_in uric a...   \n",
              "\n",
              "              novelty                                            targets  \\\n",
              "0  0.0009847300000000  http://api.newdrugtargets.org/diseases/62/targ...   \n",
              "\n",
              "                                            children  \n",
              "0  http://api.newdrugtargets.org/diseases/62/chil...  "
            ]
          },
          "metadata": {
            "tags": []
          },
          "execution_count": 4
        }
      ]
    },
    {
      "metadata": {
        "id": "mhIVSp8HqHu6",
        "colab_type": "text"
      },
      "cell_type": "markdown",
      "source": [
        "### Fetch targets for top hit disease ID."
      ]
    },
    {
      "metadata": {
        "id": "KtvsILVsqNcC",
        "colab_type": "code",
        "colab": {}
      },
      "cell_type": "code",
      "source": [
        "disease_id = int(diseases.id[0])\n",
        "disease_name = diseases.name[0]\n",
        "action = [\"diseases\", \"targets\", \"list\"]\n",
        "params = { \"disease_id\":disease_id, \"limit\":1000, \"offset\":0 }\n",
        "response = client.action(schema, action, params=params)"
      ],
      "execution_count": 0,
      "outputs": []
    },
    {
      "metadata": {
        "id": "viaEB9HKZRZF",
        "colab_type": "code",
        "colab": {
          "base_uri": "https://localhost:8080/",
          "height": 253
        },
        "outputId": "6af3d137-87f3-4443-e7af-dd333bb849a8"
      },
      "cell_type": "code",
      "source": [
        "tinx = pandas.DataFrame(response['results'])\n",
        "tinx['id'] = tinx.target.apply(lambda v: v['id'])\n",
        "tinx.set_index(tinx.id, inplace=True)\n",
        "tinx.drop(columns='id', inplace=True)\n",
        "print(\"Rows: %d\"%(tinx.shape[0]))\n",
        "tinx.head()"
      ],
      "execution_count": 6,
      "outputs": [
        {
          "output_type": "stream",
          "text": [
            "Rows: 500\n"
          ],
          "name": "stdout"
        },
        {
          "output_type": "execute_result",
          "data": {
            "text/html": [
              "<div>\n",
              "<style scoped>\n",
              "    .dataframe tbody tr th:only-of-type {\n",
              "        vertical-align: middle;\n",
              "    }\n",
              "\n",
              "    .dataframe tbody tr th {\n",
              "        vertical-align: top;\n",
              "    }\n",
              "\n",
              "    .dataframe thead th {\n",
              "        text-align: right;\n",
              "    }\n",
              "</style>\n",
              "<table border=\"1\" class=\"dataframe\">\n",
              "  <thead>\n",
              "    <tr style=\"text-align: right;\">\n",
              "      <th></th>\n",
              "      <th>target</th>\n",
              "      <th>articles</th>\n",
              "      <th>importance</th>\n",
              "    </tr>\n",
              "    <tr>\n",
              "      <th>id</th>\n",
              "      <th></th>\n",
              "      <th></th>\n",
              "      <th></th>\n",
              "    </tr>\n",
              "  </thead>\n",
              "  <tbody>\n",
              "    <tr>\n",
              "      <th>9591</th>\n",
              "      <td>{'id': 9591, 'name': 'Tyrosine-protein kinase ...</td>\n",
              "      <td>http://api.newdrugtargets.org/diseases/62/targ...</td>\n",
              "      <td>0.0138888900000000</td>\n",
              "    </tr>\n",
              "    <tr>\n",
              "      <th>3720</th>\n",
              "      <td>{'id': 3720, 'name': 'Contactin-4', 'uniprot':...</td>\n",
              "      <td>http://api.newdrugtargets.org/diseases/62/targ...</td>\n",
              "      <td>0.0080000000000000</td>\n",
              "    </tr>\n",
              "    <tr>\n",
              "      <th>1984</th>\n",
              "      <td>{'id': 1984, 'name': 'Calnexin', 'uniprot': 'P...</td>\n",
              "      <td>http://api.newdrugtargets.org/diseases/62/targ...</td>\n",
              "      <td>0.1442307700000000</td>\n",
              "    </tr>\n",
              "    <tr>\n",
              "      <th>2995</th>\n",
              "      <td>{'id': 2995, 'name': 'T-lymphocyte activation ...</td>\n",
              "      <td>http://api.newdrugtargets.org/diseases/62/targ...</td>\n",
              "      <td>0.0416666700000000</td>\n",
              "    </tr>\n",
              "    <tr>\n",
              "      <th>7</th>\n",
              "      <td>{'id': 7, 'name': 'HLA class I histocompatibil...</td>\n",
              "      <td>http://api.newdrugtargets.org/diseases/62/targ...</td>\n",
              "      <td>0.0084833900000000</td>\n",
              "    </tr>\n",
              "  </tbody>\n",
              "</table>\n",
              "</div>"
            ],
            "text/plain": [
              "                                                 target  \\\n",
              "id                                                        \n",
              "9591  {'id': 9591, 'name': 'Tyrosine-protein kinase ...   \n",
              "3720  {'id': 3720, 'name': 'Contactin-4', 'uniprot':...   \n",
              "1984  {'id': 1984, 'name': 'Calnexin', 'uniprot': 'P...   \n",
              "2995  {'id': 2995, 'name': 'T-lymphocyte activation ...   \n",
              "7     {'id': 7, 'name': 'HLA class I histocompatibil...   \n",
              "\n",
              "                                               articles          importance  \n",
              "id                                                                           \n",
              "9591  http://api.newdrugtargets.org/diseases/62/targ...  0.0138888900000000  \n",
              "3720  http://api.newdrugtargets.org/diseases/62/targ...  0.0080000000000000  \n",
              "1984  http://api.newdrugtargets.org/diseases/62/targ...  0.1442307700000000  \n",
              "2995  http://api.newdrugtargets.org/diseases/62/targ...  0.0416666700000000  \n",
              "7     http://api.newdrugtargets.org/diseases/62/targ...  0.0084833900000000  "
            ]
          },
          "metadata": {
            "tags": []
          },
          "execution_count": 6
        }
      ]
    },
    {
      "metadata": {
        "id": "s7HX9M6xykwl",
        "colab_type": "text"
      },
      "cell_type": "markdown",
      "source": [
        "### For each target, extract protein data, merge assuming one protein per target."
      ]
    },
    {
      "metadata": {
        "id": "nNGblUmJaEDB",
        "colab_type": "code",
        "colab": {
          "base_uri": "https://localhost:8080/",
          "height": 235
        },
        "outputId": "51d9a990-9557-49fb-bd65-58f81221b7e5"
      },
      "cell_type": "code",
      "source": [
        "targets = tinx[['target']].reset_index(drop=True)\n",
        "tinx.drop(columns='target', inplace=True)\n",
        "for key in dict(targets.target[0]).keys():\n",
        "  targets[key] = targets.target.apply(lambda v: v[key])\n",
        "targets.drop(columns=\"target\", inplace=True)\n",
        "targets.set_index(targets.id, inplace=True)\n",
        "targets.drop(columns='id', inplace=True)\n",
        "targets.head()"
      ],
      "execution_count": 7,
      "outputs": [
        {
          "output_type": "execute_result",
          "data": {
            "text/html": [
              "<div>\n",
              "<style scoped>\n",
              "    .dataframe tbody tr th:only-of-type {\n",
              "        vertical-align: middle;\n",
              "    }\n",
              "\n",
              "    .dataframe tbody tr th {\n",
              "        vertical-align: top;\n",
              "    }\n",
              "\n",
              "    .dataframe thead th {\n",
              "        text-align: right;\n",
              "    }\n",
              "</style>\n",
              "<table border=\"1\" class=\"dataframe\">\n",
              "  <thead>\n",
              "    <tr style=\"text-align: right;\">\n",
              "      <th></th>\n",
              "      <th>name</th>\n",
              "      <th>uniprot</th>\n",
              "      <th>fam</th>\n",
              "      <th>famext</th>\n",
              "      <th>tdl</th>\n",
              "      <th>novelty</th>\n",
              "    </tr>\n",
              "    <tr>\n",
              "      <th>id</th>\n",
              "      <th></th>\n",
              "      <th></th>\n",
              "      <th></th>\n",
              "      <th></th>\n",
              "      <th></th>\n",
              "      <th></th>\n",
              "    </tr>\n",
              "  </thead>\n",
              "  <tbody>\n",
              "    <tr>\n",
              "      <th>9591</th>\n",
              "      <td>Tyrosine-protein kinase Lyn</td>\n",
              "      <td>P07948</td>\n",
              "      <td>Kinase</td>\n",
              "      <td>Kinase</td>\n",
              "      <td>Tclin</td>\n",
              "      <td>0.001457</td>\n",
              "    </tr>\n",
              "    <tr>\n",
              "      <th>3720</th>\n",
              "      <td>Contactin-4</td>\n",
              "      <td>Q8IWV2</td>\n",
              "      <td>None</td>\n",
              "      <td>None</td>\n",
              "      <td>Tbio</td>\n",
              "      <td>0.028293</td>\n",
              "    </tr>\n",
              "    <tr>\n",
              "      <th>1984</th>\n",
              "      <td>Calnexin</td>\n",
              "      <td>P27824</td>\n",
              "      <td>None</td>\n",
              "      <td>None</td>\n",
              "      <td>Tbio</td>\n",
              "      <td>0.001332</td>\n",
              "    </tr>\n",
              "    <tr>\n",
              "      <th>2995</th>\n",
              "      <td>T-lymphocyte activation antigen CD80</td>\n",
              "      <td>P33681</td>\n",
              "      <td>None</td>\n",
              "      <td>None</td>\n",
              "      <td>Tclin</td>\n",
              "      <td>0.000405</td>\n",
              "    </tr>\n",
              "    <tr>\n",
              "      <th>7</th>\n",
              "      <td>HLA class I histocompatibility antigen, B-13 a...</td>\n",
              "      <td>P30461</td>\n",
              "      <td>None</td>\n",
              "      <td>None</td>\n",
              "      <td>Tbio</td>\n",
              "      <td>0.012956</td>\n",
              "    </tr>\n",
              "  </tbody>\n",
              "</table>\n",
              "</div>"
            ],
            "text/plain": [
              "                                                   name uniprot     fam  \\\n",
              "id                                                                        \n",
              "9591                        Tyrosine-protein kinase Lyn  P07948  Kinase   \n",
              "3720                                        Contactin-4  Q8IWV2    None   \n",
              "1984                                           Calnexin  P27824    None   \n",
              "2995               T-lymphocyte activation antigen CD80  P33681    None   \n",
              "7     HLA class I histocompatibility antigen, B-13 a...  P30461    None   \n",
              "\n",
              "      famext    tdl   novelty  \n",
              "id                             \n",
              "9591  Kinase  Tclin  0.001457  \n",
              "3720    None   Tbio  0.028293  \n",
              "1984    None   Tbio  0.001332  \n",
              "2995    None  Tclin  0.000405  \n",
              "7       None   Tbio  0.012956  "
            ]
          },
          "metadata": {
            "tags": []
          },
          "execution_count": 7
        }
      ]
    },
    {
      "metadata": {
        "id": "Zs_Tf-FegCxC",
        "colab_type": "code",
        "colab": {
          "base_uri": "https://localhost:8080/",
          "height": 286
        },
        "outputId": "fed33537-88c9-4428-d7a1-79bd801bc151"
      },
      "cell_type": "code",
      "source": [
        "tinx = pandas.merge(targets, tinx, left_index=True, right_index=True)\n",
        "tinx.novelty = tinx.novelty.astype(numpy.double)\n",
        "tinx.importance = tinx.importance.astype(numpy.double)\n",
        "tinx['id'] = tinx.index\n",
        "tinx.round(3).head()"
      ],
      "execution_count": 8,
      "outputs": [
        {
          "output_type": "execute_result",
          "data": {
            "text/html": [
              "<div>\n",
              "<style scoped>\n",
              "    .dataframe tbody tr th:only-of-type {\n",
              "        vertical-align: middle;\n",
              "    }\n",
              "\n",
              "    .dataframe tbody tr th {\n",
              "        vertical-align: top;\n",
              "    }\n",
              "\n",
              "    .dataframe thead th {\n",
              "        text-align: right;\n",
              "    }\n",
              "</style>\n",
              "<table border=\"1\" class=\"dataframe\">\n",
              "  <thead>\n",
              "    <tr style=\"text-align: right;\">\n",
              "      <th></th>\n",
              "      <th>name</th>\n",
              "      <th>uniprot</th>\n",
              "      <th>fam</th>\n",
              "      <th>famext</th>\n",
              "      <th>tdl</th>\n",
              "      <th>novelty</th>\n",
              "      <th>articles</th>\n",
              "      <th>importance</th>\n",
              "      <th>id</th>\n",
              "    </tr>\n",
              "    <tr>\n",
              "      <th>id</th>\n",
              "      <th></th>\n",
              "      <th></th>\n",
              "      <th></th>\n",
              "      <th></th>\n",
              "      <th></th>\n",
              "      <th></th>\n",
              "      <th></th>\n",
              "      <th></th>\n",
              "      <th></th>\n",
              "    </tr>\n",
              "  </thead>\n",
              "  <tbody>\n",
              "    <tr>\n",
              "      <th>9591</th>\n",
              "      <td>Tyrosine-protein kinase Lyn</td>\n",
              "      <td>P07948</td>\n",
              "      <td>Kinase</td>\n",
              "      <td>Kinase</td>\n",
              "      <td>Tclin</td>\n",
              "      <td>0.001</td>\n",
              "      <td>http://api.newdrugtargets.org/diseases/62/targ...</td>\n",
              "      <td>0.014</td>\n",
              "      <td>9591</td>\n",
              "    </tr>\n",
              "    <tr>\n",
              "      <th>3720</th>\n",
              "      <td>Contactin-4</td>\n",
              "      <td>Q8IWV2</td>\n",
              "      <td>None</td>\n",
              "      <td>None</td>\n",
              "      <td>Tbio</td>\n",
              "      <td>0.028</td>\n",
              "      <td>http://api.newdrugtargets.org/diseases/62/targ...</td>\n",
              "      <td>0.008</td>\n",
              "      <td>3720</td>\n",
              "    </tr>\n",
              "    <tr>\n",
              "      <th>1984</th>\n",
              "      <td>Calnexin</td>\n",
              "      <td>P27824</td>\n",
              "      <td>None</td>\n",
              "      <td>None</td>\n",
              "      <td>Tbio</td>\n",
              "      <td>0.001</td>\n",
              "      <td>http://api.newdrugtargets.org/diseases/62/targ...</td>\n",
              "      <td>0.144</td>\n",
              "      <td>1984</td>\n",
              "    </tr>\n",
              "    <tr>\n",
              "      <th>2995</th>\n",
              "      <td>T-lymphocyte activation antigen CD80</td>\n",
              "      <td>P33681</td>\n",
              "      <td>None</td>\n",
              "      <td>None</td>\n",
              "      <td>Tclin</td>\n",
              "      <td>0.000</td>\n",
              "      <td>http://api.newdrugtargets.org/diseases/62/targ...</td>\n",
              "      <td>0.042</td>\n",
              "      <td>2995</td>\n",
              "    </tr>\n",
              "    <tr>\n",
              "      <th>7</th>\n",
              "      <td>HLA class I histocompatibility antigen, B-13 a...</td>\n",
              "      <td>P30461</td>\n",
              "      <td>None</td>\n",
              "      <td>None</td>\n",
              "      <td>Tbio</td>\n",
              "      <td>0.013</td>\n",
              "      <td>http://api.newdrugtargets.org/diseases/62/targ...</td>\n",
              "      <td>0.008</td>\n",
              "      <td>7</td>\n",
              "    </tr>\n",
              "  </tbody>\n",
              "</table>\n",
              "</div>"
            ],
            "text/plain": [
              "                                                   name uniprot     fam  \\\n",
              "id                                                                        \n",
              "9591                        Tyrosine-protein kinase Lyn  P07948  Kinase   \n",
              "3720                                        Contactin-4  Q8IWV2    None   \n",
              "1984                                           Calnexin  P27824    None   \n",
              "2995               T-lymphocyte activation antigen CD80  P33681    None   \n",
              "7     HLA class I histocompatibility antigen, B-13 a...  P30461    None   \n",
              "\n",
              "      famext    tdl  novelty  \\\n",
              "id                             \n",
              "9591  Kinase  Tclin    0.001   \n",
              "3720    None   Tbio    0.028   \n",
              "1984    None   Tbio    0.001   \n",
              "2995    None  Tclin    0.000   \n",
              "7       None   Tbio    0.013   \n",
              "\n",
              "                                               articles  importance    id  \n",
              "id                                                                         \n",
              "9591  http://api.newdrugtargets.org/diseases/62/targ...       0.014  9591  \n",
              "3720  http://api.newdrugtargets.org/diseases/62/targ...       0.008  3720  \n",
              "1984  http://api.newdrugtargets.org/diseases/62/targ...       0.144  1984  \n",
              "2995  http://api.newdrugtargets.org/diseases/62/targ...       0.042  2995  \n",
              "7     http://api.newdrugtargets.org/diseases/62/targ...       0.008     7  "
            ]
          },
          "metadata": {
            "tags": []
          },
          "execution_count": 8
        }
      ]
    },
    {
      "metadata": {
        "id": "3i7f4yiHwSjA",
        "colab_type": "text"
      },
      "cell_type": "markdown",
      "source": [
        "### Check data"
      ]
    },
    {
      "metadata": {
        "id": "UPj7-fWGkdHE",
        "colab_type": "code",
        "colab": {
          "base_uri": "https://localhost:8080/",
          "height": 269
        },
        "outputId": "4c9f9d61-af18-4f51-8b1d-84be85b18507"
      },
      "cell_type": "code",
      "source": [
        "tinx.info()"
      ],
      "execution_count": 9,
      "outputs": [
        {
          "output_type": "stream",
          "text": [
            "<class 'pandas.core.frame.DataFrame'>\n",
            "Int64Index: 500 entries, 9591 to 10562\n",
            "Data columns (total 9 columns):\n",
            "name          500 non-null object\n",
            "uniprot       500 non-null object\n",
            "fam           232 non-null object\n",
            "famext        172 non-null object\n",
            "tdl           500 non-null object\n",
            "novelty       500 non-null float64\n",
            "articles      500 non-null object\n",
            "importance    500 non-null float64\n",
            "id            500 non-null int64\n",
            "dtypes: float64(2), int64(1), object(6)\n",
            "memory usage: 59.1+ KB\n"
          ],
          "name": "stdout"
        }
      ]
    },
    {
      "metadata": {
        "id": "6vkNXG5im-8F",
        "colab_type": "code",
        "colab": {
          "base_uri": "https://localhost:8080/",
          "height": 297
        },
        "outputId": "58c8946a-4dff-4892-fdfe-dfaba3767573"
      },
      "cell_type": "code",
      "source": [
        "tinx[['importance','novelty']].describe()"
      ],
      "execution_count": 10,
      "outputs": [
        {
          "output_type": "execute_result",
          "data": {
            "text/html": [
              "<div>\n",
              "<style scoped>\n",
              "    .dataframe tbody tr th:only-of-type {\n",
              "        vertical-align: middle;\n",
              "    }\n",
              "\n",
              "    .dataframe tbody tr th {\n",
              "        vertical-align: top;\n",
              "    }\n",
              "\n",
              "    .dataframe thead th {\n",
              "        text-align: right;\n",
              "    }\n",
              "</style>\n",
              "<table border=\"1\" class=\"dataframe\">\n",
              "  <thead>\n",
              "    <tr style=\"text-align: right;\">\n",
              "      <th></th>\n",
              "      <th>importance</th>\n",
              "      <th>novelty</th>\n",
              "    </tr>\n",
              "  </thead>\n",
              "  <tbody>\n",
              "    <tr>\n",
              "      <th>count</th>\n",
              "      <td>500.000000</td>\n",
              "      <td>500.000000</td>\n",
              "    </tr>\n",
              "    <tr>\n",
              "      <th>mean</th>\n",
              "      <td>0.210427</td>\n",
              "      <td>0.032650</td>\n",
              "    </tr>\n",
              "    <tr>\n",
              "      <th>std</th>\n",
              "      <td>1.212336</td>\n",
              "      <td>0.376659</td>\n",
              "    </tr>\n",
              "    <tr>\n",
              "      <th>min</th>\n",
              "      <td>0.005714</td>\n",
              "      <td>0.000010</td>\n",
              "    </tr>\n",
              "    <tr>\n",
              "      <th>25%</th>\n",
              "      <td>0.018717</td>\n",
              "      <td>0.000479</td>\n",
              "    </tr>\n",
              "    <tr>\n",
              "      <th>50%</th>\n",
              "      <td>0.041667</td>\n",
              "      <td>0.001552</td>\n",
              "    </tr>\n",
              "    <tr>\n",
              "      <th>75%</th>\n",
              "      <td>0.118877</td>\n",
              "      <td>0.006775</td>\n",
              "    </tr>\n",
              "    <tr>\n",
              "      <th>max</th>\n",
              "      <td>24.570641</td>\n",
              "      <td>8.242424</td>\n",
              "    </tr>\n",
              "  </tbody>\n",
              "</table>\n",
              "</div>"
            ],
            "text/plain": [
              "       importance     novelty\n",
              "count  500.000000  500.000000\n",
              "mean     0.210427    0.032650\n",
              "std      1.212336    0.376659\n",
              "min      0.005714    0.000010\n",
              "25%      0.018717    0.000479\n",
              "50%      0.041667    0.001552\n",
              "75%      0.118877    0.006775\n",
              "max     24.570641    8.242424"
            ]
          },
          "metadata": {
            "tags": []
          },
          "execution_count": 10
        }
      ]
    },
    {
      "metadata": {
        "id": "9mvPBQxqhWMF",
        "colab_type": "text"
      },
      "cell_type": "markdown",
      "source": [
        "### Matplotlib Plot"
      ]
    },
    {
      "metadata": {
        "id": "a8FknEC7hVfk",
        "colab_type": "code",
        "colab": {
          "base_uri": "https://localhost:8080/",
          "height": 380
        },
        "outputId": "0ebaaa5b-fcbf-490b-8bb6-0c4fdf127652"
      },
      "cell_type": "code",
      "source": [
        "matplotlib.pyplot.scatter(tinx.novelty, tinx.importance)\n",
        "matplotlib.pyplot.xscale('log')\n",
        "matplotlib.pyplot.yscale('log')\n",
        "matplotlib.pyplot.xlabel('Novelty')\n",
        "matplotlib.pyplot.ylabel('Importance')\n",
        "matplotlib.pyplot.title('TIN-X')\n",
        "matplotlib.pyplot.grid(True)\n",
        "matplotlib.pyplot.xlim((max(tinx.novelty.min(),1e-3)/2,tinx.novelty.max()*2))\n",
        "matplotlib.pyplot.ylim(max(tinx.importance.min()/2,1e-6), tinx.importance.max()*2)\n",
        "matplotlib.pyplot.show()"
      ],
      "execution_count": 11,
      "outputs": [
        {
          "output_type": "display_data",
          "data": {
            "image/png": "[encoded data removed]",
            "text/plain": [
              "<matplotlib.figure.Figure at 0x7fd202524390>"
            ]
          },
          "metadata": {
            "tags": []
          }
        }
      ]
    },
    {
      "metadata": {
        "id": "4prNjVOOr6tR",
        "colab_type": "text"
      },
      "cell_type": "markdown",
      "source": [
        "### Altair interactive plot\n",
        "  * https://altair-viz.github.io/"
      ]
    },
    {
      "metadata": {
        "id": "qDO8sXG1DfYR",
        "colab_type": "code",
        "colab": {
          "base_uri": "https://localhost:8080/",
          "height": 406
        },
        "outputId": "d4aa3dfa-4ff6-448d-c5ef-fe43f88452cc"
      },
      "cell_type": "code",
      "source": [
        "palette = altair.Scale(domain=['Tclin', 'Tchem', 'Tbio', 'Tdark'], range=['green', 'blue', 'red', 'gray'])\n",
        "click = altair.selection_multi(fields=['tdl'])\n",
        "altair.Chart(tinx, title='TIN-X: %s'%disease_name).transform_calculate(\n",
        "    url='http://pharos.nih.gov/idg/targets/'+altair.datum.uniprot\n",
        "    ).mark_point().encode(\n",
        "      x=altair.X('novelty', scale=altair.Scale(type='log', domain=(tinx.novelty.min()*2, tinx.novelty.max()))),\n",
        "      y=altair.Y('importance', scale=altair.Scale(type='log', domain=(tinx.importance.min(), tinx.importance.max()))),\n",
        "      color=altair.condition(click,\n",
        "                        'tdl:N', altair.value('lightgray'), \n",
        "                        scale=palette, legend=altair.Legend(title='TDL')),\n",
        "    shape=altair.Shape('fam', legend=altair.Legend(title='Family')),\n",
        "      href='url:N',\n",
        "      tooltip=['id:N', 'name:N', 'fam:N', 'tdl:N', 'uniprot:N', 'url:N']\n",
        ").properties(selection=click)"
      ],
      "execution_count": 12,
      "outputs": [
        {
          "output_type": "execute_result",
          "data": {
            "text/plain": [
              "Chart({\n",
              "  data:                                                     name uniprot     fam  \\\n",
              "  id                                                                         \n",
              "  9591                         Tyrosine-protein kinase Lyn  P07948  Kinase   \n",
              "  3720                                         Contactin-4  Q8IWV2    None   \n",
              "  1984                                            Calnexin  P27824    None   \n",
              "  2995                T-lymphocyte activation antigen CD80  P33681    None   \n",
              "  7      HLA class I histocompatibility antigen, B-13 a...  P30461    None   \n",
              "  2352                Antigen-presenting glycoprotein CD1d  P15813    None   \n",
              "  10440                                Protein Mis18-alpha  Q9NYP9    None   \n",
              "  2387                                  Carboxypeptidase B  P15086  Enzyme   \n",
              "  13071  Polycystic kidney disease and receptor for egg...  Q9NTG1      IC   \n",
              "  7009                                          Granzyme K  P49863  Enzyme   \n",
              "  14099                                        GTPase KRas  P01116  Enzyme   \n",
              "  9705                       Melanoma-associated antigen 3  P43357    None   \n",
              "  18074                 Ubiquitin-conjugating enzyme E2 Q2  Q8WVN8    None   \n",
              "  3681              C-type lectin domain family 7 member A  Q9BXN2    None   \n",
              "  6932                               GTP-binding protein 1  O00178    None   \n",
              "  295    HLA class I histocompatibility antigen, B-59 a...  Q29940    None   \n",
              "  3376                 Leukocyte cell-derived chemotaxin 1  O75829    None   \n",
              "  1793                                           Caspase-5  P51878  Enzyme   \n",
              "  174                       APOBEC1 complementation factor  Q9NQ94    None   \n",
              "  6845                                  Glucosylceramidase  P04062  Enzyme   \n",
              "  10885                            Beta-microseminoprotein  P08118    None   \n",
              "  10301                 Mitogen-activated protein kinase 1  P28482  Kinase   \n",
              "  12642                                   Pyridoxal kinase  O00764  Kinase   \n",
              "  1064      Arachidonate 5-lipoxygenase-activating protein  P20292  Enzyme   \n",
              "  19     HLA class I histocompatibility antigen, B-52 a...  P30490    None   \n",
              "  1892                               C-C motif chemokine 4  P13236    None   \n",
              "  4222                                 Cytochrome P450 2B6  P20813    None   \n",
              "  3390                                     Complement C4-A  P0C0L4    None   \n",
              "  11607                        GATOR complex protein NPRL3  Q12980  Enzyme   \n",
              "  14121  RNA-binding motif, single-stranded-interacting...  P29558    None   \n",
              "  ...                                                  ...     ...     ...   \n",
              "  1693                   Calcitonin gene-related peptide 2  P10092    None   \n",
              "  3126          Hematopoietic progenitor cell antigen CD34  P28906    None   \n",
              "  907                         AP-1 complex subunit sigma-2  P56377    None   \n",
              "  14909           Ras-responsive element-binding protein 1  Q92766      TF   \n",
              "  3963                                        Cytochrome c  P99999    None   \n",
              "  294    HLA class I histocompatibility antigen, B-58 a...  P10319    None   \n",
              "  3989                     Connective tissue growth factor  P29279    None   \n",
              "  11600                                     Nephrocystin-4  O75161    None   \n",
              "  8261                                     Integrin beta-1  P05556    None   \n",
              "  10758                         Myc proto-oncogene protein  P01106      TF   \n",
              "  15551  Basic helix-loop-helix transcription factor sc...  Q7RTU7      TF   \n",
              "  8530          Interleukin-1 receptor-associated kinase 4  Q9NWZ3  Kinase   \n",
              "  7745                   Hepatocyte nuclear factor 4-gamma  Q14541      NR   \n",
              "  8988           Mast/stem cell growth factor receptor Kit  P10721  Kinase   \n",
              "  3516                          Complement receptor type 1  P17927    None   \n",
              "  7911               Insulin-like growth factor 1 receptor  P08069  Kinase   \n",
              "  6808          Putative glutathione hydrolase 3 proenzyme  A6NGU5  Enzyme   \n",
              "  15815                      Peroxisomal sarcosine oxidase  Q9P0Z9  Enzyme   \n",
              "  5336   Elongation of very long chain fatty acids prot...  Q9H5J4    None   \n",
              "  3878                                          Cystatin-B  P04080    None   \n",
              "  15920                           Transcription factor Sp7  Q8TDD2      TF   \n",
              "  5821   Low affinity immunoglobulin gamma Fc region re...  P12318    None   \n",
              "  8046           Interleukin-1 receptor antagonist protein  P18510    None   \n",
              "  5360                            Ephrin type-A receptor 8  P29322  Kinase   \n",
              "  864                                      AMP deaminase 2  Q01433  Enzyme   \n",
              "  14544                                RILP-like protein 1  Q5EBL4    None   \n",
              "  244                             Alcohol dehydrogenase 1C  P00326  Enzyme   \n",
              "  17265                    Taste receptor type 2 member 43  P59537    GPCR   \n",
              "  14456                                              Renin  P00797  Enzyme   \n",
              "  10562                UPF0160 protein MYG1, mitochondrial  Q9HB07    None   \n",
              "  \n",
              "                                        famext    tdl   novelty  \\\n",
              "  id                                                              \n",
              "  9591                                  Kinase  Tclin  0.001457   \n",
              "  3720                                    None   Tbio  0.028293   \n",
              "  1984                                    None   Tbio  0.001332   \n",
              "  2995                                    None  Tclin  0.000405   \n",
              "  7                                       None   Tbio  0.012956   \n",
              "  2352                                    None   Tbio  0.000673   \n",
              "  10440                                   None   Tbio  0.007241   \n",
              "  2387                               peptidase  Tchem  0.001054   \n",
              "  13071                                     IC  Tdark  0.000372   \n",
              "  7009                               peptidase   Tbio  0.008029   \n",
              "  14099                           small GTPase   Tbio  0.000157   \n",
              "  9705                                    None   Tbio  0.003386   \n",
              "  18074                                   None   Tbio  0.128911   \n",
              "  3681                                    None   Tbio  0.002264   \n",
              "  6932                                    None   Tbio  0.002964   \n",
              "  295                                     None   Tbio  0.012956   \n",
              "  3376                                    None   Tbio  0.009811   \n",
              "  1793                                    None  Tchem  0.009673   \n",
              "  174                                     None   Tbio  0.011372   \n",
              "  6845                      glycosyl_hydrolase  Tchem  0.000601   \n",
              "  10885                                   None   Tbio  0.003316   \n",
              "  10301                                 Kinase  Tchem  0.000648   \n",
              "  12642                                 Kinase   Tbio  0.003381   \n",
              "  1064                                    None  Tchem  0.002083   \n",
              "  19                                      None   Tbio  0.012956   \n",
              "  1892                                    None   Tbio  0.000933   \n",
              "  4222                                    None  Tchem  0.000197   \n",
              "  3390                                    None   Tbio  0.000901   \n",
              "  11607                                   None   Tbio  0.008084   \n",
              "  14121                                   None   Tbio  0.003165   \n",
              "  ...                                      ...    ...       ...   \n",
              "  1693                                    None   Tbio  0.034206   \n",
              "  3126                                    None   Tbio  0.000071   \n",
              "  907                                     None   Tbio  0.002005   \n",
              "  14909                                     TF   Tbio  0.021325   \n",
              "  3963                                    None   Tbio  0.000171   \n",
              "  294                                     None   Tbio  0.012956   \n",
              "  3989                                    None   Tbio  0.000526   \n",
              "  11600                                   None   Tbio  0.038498   \n",
              "  8261                                    None  Tclin  0.000701   \n",
              "  10758                                     TF   Tbio  0.000077   \n",
              "  15551                                     TF   Tbio  0.001440   \n",
              "  8530                                  Kinase  Tchem  0.005150   \n",
              "  7745                                      NR   Tbio  0.081900   \n",
              "  8988                                  Kinase  Tclin  0.000157   \n",
              "  3516                                    None   Tbio  0.000431   \n",
              "  7911                                  Kinase  Tclin  0.000425   \n",
              "  6808               gamma-glutamyltransferase  Tdark  0.000809   \n",
              "  15815                                   None   Tbio  0.006171   \n",
              "  5336                                    None  Tchem  0.013033   \n",
              "  3878                                    None   Tbio  0.001656   \n",
              "  15920                                     TF   Tbio  0.001548   \n",
              "  5821                                    None   Tbio  0.001289   \n",
              "  8046                                    None  Tchem  0.000789   \n",
              "  5360                                  Kinase  Tchem  0.021039   \n",
              "  864            adenosine_and _AMP_deaminases  Tchem  0.018055   \n",
              "  14544                                   None   Tbio  0.004147   \n",
              "  244    zinc-containing_alcohol_dehydrogenase  Tclin  0.003775   \n",
              "  17265                                   GPCR   Tbio  0.153846   \n",
              "  14456                              peptidase  Tclin  0.000029   \n",
              "  10562                                   None   Tbio  0.003432   \n",
              "  \n",
              "                                                  articles  importance     id  \n",
              "  id                                                                           \n",
              "  9591   http://api.newdrugtargets.org/diseases/62/targ...    0.013889   9591  \n",
              "  3720   http://api.newdrugtargets.org/diseases/62/targ...    0.008000   3720  \n",
              "  1984   http://api.newdrugtargets.org/diseases/62/targ...    0.144231   1984  \n",
              "  2995   http://api.newdrugtargets.org/diseases/62/targ...    0.041667   2995  \n",
              "  7      http://api.newdrugtargets.org/diseases/62/targ...    0.008483      7  \n",
              "  2352   http://api.newdrugtargets.org/diseases/62/targ...    0.031250   2352  \n",
              "  10440  http://api.newdrugtargets.org/diseases/62/targ...    0.125000  10440  \n",
              "  2387   http://api.newdrugtargets.org/diseases/62/targ...    0.035714   2387  \n",
              "  13071  http://api.newdrugtargets.org/diseases/62/targ...    0.179894  13071  \n",
              "  7009   http://api.newdrugtargets.org/diseases/62/targ...    0.041667   7009  \n",
              "  14099  http://api.newdrugtargets.org/diseases/62/targ...    0.076923  14099  \n",
              "  9705   http://api.newdrugtargets.org/diseases/62/targ...    0.028571   9705  \n",
              "  18074  http://api.newdrugtargets.org/diseases/62/targ...    0.007353  18074  \n",
              "  3681   http://api.newdrugtargets.org/diseases/62/targ...    0.031250   3681  \n",
              "  6932   http://api.newdrugtargets.org/diseases/62/targ...    0.071429   6932  \n",
              "  295    http://api.newdrugtargets.org/diseases/62/targ...    0.008483    295  \n",
              "  3376   http://api.newdrugtargets.org/diseases/62/targ...    0.050000   3376  \n",
              "  1793   http://api.newdrugtargets.org/diseases/62/targ...    0.041667   1793  \n",
              "  174    http://api.newdrugtargets.org/diseases/62/targ...    0.139929    174  \n",
              "  6845   http://api.newdrugtargets.org/diseases/62/targ...    0.008929   6845  \n",
              "  10885  http://api.newdrugtargets.org/diseases/62/targ...    0.059343  10885  \n",
              "  10301  http://api.newdrugtargets.org/diseases/62/targ...    0.027222  10301  \n",
              "  12642  http://api.newdrugtargets.org/diseases/62/targ...    0.025000  12642  \n",
              "  1064   http://api.newdrugtargets.org/diseases/62/targ...    0.041667   1064  \n",
              "  19     http://api.newdrugtargets.org/diseases/62/targ...    0.008483     19  \n",
              "  1892   http://api.newdrugtargets.org/diseases/62/targ...    0.015873   1892  \n",
              "  4222   http://api.newdrugtargets.org/diseases/62/targ...    0.015152   4222  \n",
              "  3390   http://api.newdrugtargets.org/diseases/62/targ...    0.066667   3390  \n",
              "  11607  http://api.newdrugtargets.org/diseases/62/targ...    0.015625  11607  \n",
              "  14121  http://api.newdrugtargets.org/diseases/62/targ...    0.010989  14121  \n",
              "  ...                                                  ...         ...    ...  \n",
              "  1693   http://api.newdrugtargets.org/diseases/62/targ...    0.025000   1693  \n",
              "  3126   http://api.newdrugtargets.org/diseases/62/targ...    0.020000   3126  \n",
              "  907    http://api.newdrugtargets.org/diseases/62/targ...    0.111111    907  \n",
              "  14909  http://api.newdrugtargets.org/diseases/62/targ...    0.008929  14909  \n",
              "  3963   http://api.newdrugtargets.org/diseases/62/targ...    0.022727   3963  \n",
              "  294    http://api.newdrugtargets.org/diseases/62/targ...    0.008483    294  \n",
              "  3989   http://api.newdrugtargets.org/diseases/62/targ...    0.063508   3989  \n",
              "  11600  http://api.newdrugtargets.org/diseases/62/targ...    0.010764  11600  \n",
              "  8261   http://api.newdrugtargets.org/diseases/62/targ...    0.025000   8261  \n",
              "  10758  http://api.newdrugtargets.org/diseases/62/targ...    0.020833  10758  \n",
              "  15551  http://api.newdrugtargets.org/diseases/62/targ...    0.187500  15551  \n",
              "  8530   http://api.newdrugtargets.org/diseases/62/targ...    0.060574   8530  \n",
              "  7745   http://api.newdrugtargets.org/diseases/62/targ...    0.018717   7745  \n",
              "  8988   http://api.newdrugtargets.org/diseases/62/targ...    0.020833   8988  \n",
              "  3516   http://api.newdrugtargets.org/diseases/62/targ...    0.062500   3516  \n",
              "  7911   http://api.newdrugtargets.org/diseases/62/targ...    0.039099   7911  \n",
              "  6808   http://api.newdrugtargets.org/diseases/62/targ...    0.053472   6808  \n",
              "  15815  http://api.newdrugtargets.org/diseases/62/targ...    0.016129  15815  \n",
              "  5336   http://api.newdrugtargets.org/diseases/62/targ...    0.062500   5336  \n",
              "  3878   http://api.newdrugtargets.org/diseases/62/targ...    0.340909   3878  \n",
              "  15920  http://api.newdrugtargets.org/diseases/62/targ...    0.032937  15920  \n",
              "  5821   http://api.newdrugtargets.org/diseases/62/targ...    0.017857   5821  \n",
              "  8046   http://api.newdrugtargets.org/diseases/62/targ...    3.441795   8046  \n",
              "  5360   http://api.newdrugtargets.org/diseases/62/targ...    0.033333   5360  \n",
              "  864    http://api.newdrugtargets.org/diseases/62/targ...    0.041667    864  \n",
              "  14544  http://api.newdrugtargets.org/diseases/62/targ...    0.248333  14544  \n",
              "  244    http://api.newdrugtargets.org/diseases/62/targ...    0.022727    244  \n",
              "  17265  http://api.newdrugtargets.org/diseases/62/targ...    0.025000  17265  \n",
              "  14456  http://api.newdrugtargets.org/diseases/62/targ...    0.912011  14456  \n",
              "  10562  http://api.newdrugtargets.org/diseases/62/targ...    0.125000  10562  \n",
              "  \n",
              "  [500 rows x 9 columns],\n",
              "  encoding: EncodingWithFacet({\n",
              "    color: ColorValue({\n",
              "      condition: Color({\n",
              "        legend: Legend({\n",
              "          title: 'TDL'\n",
              "        }),\n",
              "        scale: Scale({\n",
              "          domain: ['Tclin', 'Tchem', 'Tbio', 'Tdark'],\n",
              "          range: ['green', 'blue', 'red', 'gray']\n",
              "        }),\n",
              "        selection: 'selector001',\n",
              "        shorthand: 'tdl:N'\n",
              "      }),\n",
              "      value: 'lightgray'\n",
              "    }),\n",
              "    href: Href({\n",
              "      shorthand: 'url:N'\n",
              "    }),\n",
              "    shape: Shape({\n",
              "      legend: Legend({\n",
              "        title: 'Family'\n",
              "      }),\n",
              "      shorthand: 'fam'\n",
              "    }),\n",
              "    tooltip: [Tooltip({\n",
              "      shorthand: 'id:N'\n",
              "    }), Tooltip({\n",
              "      shorthand: 'name:N'\n",
              "    }), Tooltip({\n",
              "      shorthand: 'fam:N'\n",
              "    }), Tooltip({\n",
              "      shorthand: 'tdl:N'\n",
              "    }), Tooltip({\n",
              "      shorthand: 'uniprot:N'\n",
              "    }), Tooltip({\n",
              "      shorthand: 'url:N'\n",
              "    })],\n",
              "    x: X({\n",
              "      scale: Scale({\n",
              "        domain: (1.944e-05, 8.24242424),\n",
              "        type: 'log'\n",
              "      }),\n",
              "      shorthand: 'novelty'\n",
              "    }),\n",
              "    y: Y({\n",
              "      scale: Scale({\n",
              "        domain: (0.00571429, 24.57064056),\n",
              "        type: 'log'\n",
              "      }),\n",
              "      shorthand: 'importance'\n",
              "    })\n",
              "  }),\n",
              "  mark: 'point',\n",
              "  selection: NamedSelection({\n",
              "    selector001: SelectionDef({\n",
              "      fields: ['tdl'],\n",
              "      type: 'multi'\n",
              "    })\n",
              "  }),\n",
              "  title: 'TIN-X: gout',\n",
              "  transform: [CalculateTransform({\n",
              "    as: 'url',\n",
              "    calculate: ('http://pharos.nih.gov/idg/targets/' + datum.uniprot)\n",
              "  })]\n",
              "})"
            ],
            "text/html": [
              "\n",
              "<!DOCTYPE html>\n",
              "<html>\n",
              "<head>\n",
              "  <style>\n",
              "    .vega-actions a {\n",
              "        margin-right: 12px;\n",
              "        color: #757575;\n",
              "        font-weight: normal;\n",
              "        font-size: 13px;\n",
              "    }\n",
              "    .error {\n",
              "        color: red;\n",
              "    }\n",
              "  </style>\n",
              "\n",
              "<script src=\"https://cdn.jsdelivr.net/npm//vega@3.3.1\"></script>\n",
              "<script src=\"https://cdn.jsdelivr.net/npm//vega-lite@2.6.0\"></script>\n",
              "<script src=\"https://cdn.jsdelivr.net/npm//vega-embed@3.14\"></script>\n",
              "\n",
              "</head>\n",
              "<body>\n",
              "  <div id=\"vis\"></div>\n",
              "  <script type=\"text/javascript\">\n",
              "    var spec = {\"config\": {\"view\": {\"width\": 400, \"height\": 300}}, \"data\": {\"name\": \"data-14bd1ad5c00792741263b34e423e2702\"}, \"mark\": \"point\", \"encoding\": {\"color\": {\"condition\": {\"type\": \"nominal\", \"field\": \"tdl\", \"legend\": {\"title\": \"TDL\"}, \"scale\": {\"domain\": [\"Tclin\", \"Tchem\", \"Tbio\", \"Tdark\"], \"range\": [\"green\", \"blue\", \"red\", \"gray\"]}, \"selection\": \"selector001\"}, \"value\": \"lightgray\"}, \"href\": {\"type\": \"nominal\", \"field\": \"url\"}, \"shape\": {\"type\": \"nominal\", \"field\": \"fam\", \"legend\": {\"title\": \"Family\"}}, \"tooltip\": [{\"type\": \"nominal\", \"field\": \"id\"}, {\"type\": \"nominal\", \"field\": \"name\"}, {\"type\": \"nominal\", \"field\": \"fam\"}, {\"type\": \"nominal\", \"field\": \"tdl\"}, {\"type\": \"nominal\", \"field\": \"uniprot\"}, {\"type\": \"nominal\", \"field\": \"url\"}], \"x\": {\"type\": \"quantitative\", \"field\": \"novelty\", \"scale\": {\"domain\": [1.944e-05, 8.24242424], \"type\": \"log\"}}, \"y\": {\"type\": \"quantitative\", \"field\": \"importance\", \"scale\": {\"domain\": [0.00571429, 24.57064056], \"type\": \"log\"}}}, \"selection\": {\"selector001\": {\"type\": \"multi\", \"fields\": [\"tdl\"]}}, \"title\": \"TIN-X: gout\", \"transform\": [{\"calculate\": \"('http://pharos.nih.gov/idg/targets/' + datum.uniprot)\", \"as\": \"url\"}], \"$schema\": \"https://vega.github.io/schema/vega-lite/v2.6.0.json\", \"datasets\": {\"data-14bd1ad5c00792741263b34e423e2702\": [{\"name\": \"Tyrosine-protein kinase Lyn\", \"uniprot\": \"P07948\", \"fam\": \"Kinase\", \"famext\": \"Kinase\", \"tdl\": \"Tclin\", \"novelty\": 0.00145734, \"articles\": \"http://api.newdrugtargets.org/diseases/62/targets/9591/articles\", \"importance\": 0.01388889, \"id\": 9591}, {\"name\": \"Contactin-4\", \"uniprot\": \"Q8IWV2\", \"fam\": null, \"famext\": null, \"tdl\": \"Tbio\", \"novelty\": 0.02829339, \"articles\": \"http://api.newdrugtargets.org/diseases/62/targets/3720/articles\", \"importance\": 0.008, \"id\": 3720}, {\"name\": \"Calnexin\", \"uniprot\": \"P27824\", \"fam\": null, \"famext\": null, \"tdl\": \"Tbio\", \"novelty\": 0.00133238, \"articles\": \"http://api.newdrugtargets.org/diseases/62/targets/1984/articles\", \"importance\": 0.14423077, \"id\": 1984}, {\"name\": \"T-lymphocyte activation antigen CD80\", \"uniprot\": \"P33681\", \"fam\": null, \"famext\": null, \"tdl\": \"Tclin\", \"novelty\": 0.00040536, \"articles\": \"http://api.newdrugtargets.org/diseases/62/targets/2995/articles\", \"importance\": 0.04166667, \"id\": 2995}, {\"name\": \"HLA class I histocompatibility antigen, B-13 alpha chain\", \"uniprot\": \"P30461\", \"fam\": null, \"famext\": null, \"tdl\": \"Tbio\", \"novelty\": 0.01295613, \"articles\": \"http://api.newdrugtargets.org/diseases/62/targets/7/articles\", \"importance\": 0.00848339, \"id\": 7}, {\"name\": \"Antigen-presenting glycoprotein CD1d\", \"uniprot\": \"P15813\", \"fam\": null, \"famext\": null, \"tdl\": \"Tbio\", \"novelty\": 0.00067254, \"articles\": \"http://api.newdrugtargets.org/diseases/62/targets/2352/articles\", \"importance\": 0.03125, \"id\": 2352}, {\"name\": \"Protein Mis18-alpha\", \"uniprot\": \"Q9NYP9\", \"fam\": null, \"famext\": null, \"tdl\": \"Tbio\", \"novelty\": 0.0072415, \"articles\": \"http://api.newdrugtargets.org/diseases/62/targets/10440/articles\", \"importance\": 0.125, \"id\": 10440}, {\"name\": \"Carboxypeptidase B\", \"uniprot\": \"P15086\", \"fam\": \"Enzyme\", \"famext\": \"peptidase\", \"tdl\": \"Tchem\", \"novelty\": 0.00105448, \"articles\": \"http://api.newdrugtargets.org/diseases/62/targets/2387/articles\", \"importance\": 0.03571429, \"id\": 2387}, {\"name\": \"Polycystic kidney disease and receptor for egg jelly-related protein\", \"uniprot\": \"Q9NTG1\", \"fam\": \"IC\", \"famext\": \"IC\", \"tdl\": \"Tdark\", \"novelty\": 0.00037204, \"articles\": \"http://api.newdrugtargets.org/diseases/62/targets/13071/articles\", \"importance\": 0.17989418, \"id\": 13071}, {\"name\": \"Granzyme K\", \"uniprot\": \"P49863\", \"fam\": \"Enzyme\", \"famext\": \"peptidase\", \"tdl\": \"Tbio\", \"novelty\": 0.00802909, \"articles\": \"http://api.newdrugtargets.org/diseases/62/targets/7009/articles\", \"importance\": 0.04166667, \"id\": 7009}, {\"name\": \"GTPase KRas\", \"uniprot\": \"P01116\", \"fam\": \"Enzyme\", \"famext\": \"small GTPase\", \"tdl\": \"Tbio\", \"novelty\": 0.0001574, \"articles\": \"http://api.newdrugtargets.org/diseases/62/targets/14099/articles\", \"importance\": 0.07692308, \"id\": 14099}, {\"name\": \"Melanoma-associated antigen 3\", \"uniprot\": \"P43357\", \"fam\": null, \"famext\": null, \"tdl\": \"Tbio\", \"novelty\": 0.00338587, \"articles\": \"http://api.newdrugtargets.org/diseases/62/targets/9705/articles\", \"importance\": 0.02857143, \"id\": 9705}, {\"name\": \"Ubiquitin-conjugating enzyme E2 Q2\", \"uniprot\": \"Q8WVN8\", \"fam\": null, \"famext\": null, \"tdl\": \"Tbio\", \"novelty\": 0.12891129, \"articles\": \"http://api.newdrugtargets.org/diseases/62/targets/18074/articles\", \"importance\": 0.00735294, \"id\": 18074}, {\"name\": \"C-type lectin domain family 7 member A\", \"uniprot\": \"Q9BXN2\", \"fam\": null, \"famext\": null, \"tdl\": \"Tbio\", \"novelty\": 0.00226366, \"articles\": \"http://api.newdrugtargets.org/diseases/62/targets/3681/articles\", \"importance\": 0.03125, \"id\": 3681}, {\"name\": \"GTP-binding protein 1\", \"uniprot\": \"O00178\", \"fam\": null, \"famext\": null, \"tdl\": \"Tbio\", \"novelty\": 0.0029642, \"articles\": \"http://api.newdrugtargets.org/diseases/62/targets/6932/articles\", \"importance\": 0.07142857, \"id\": 6932}, {\"name\": \"HLA class I histocompatibility antigen, B-59 alpha chain\", \"uniprot\": \"Q29940\", \"fam\": null, \"famext\": null, \"tdl\": \"Tbio\", \"novelty\": 0.01295613, \"articles\": \"http://api.newdrugtargets.org/diseases/62/targets/295/articles\", \"importance\": 0.00848339, \"id\": 295}, {\"name\": \"Leukocyte cell-derived chemotaxin 1\", \"uniprot\": \"O75829\", \"fam\": null, \"famext\": null, \"tdl\": \"Tbio\", \"novelty\": 0.00981089, \"articles\": \"http://api.newdrugtargets.org/diseases/62/targets/3376/articles\", \"importance\": 0.05, \"id\": 3376}, {\"name\": \"Caspase-5\", \"uniprot\": \"P51878\", \"fam\": \"Enzyme\", \"famext\": null, \"tdl\": \"Tchem\", \"novelty\": 0.00967283, \"articles\": \"http://api.newdrugtargets.org/diseases/62/targets/1793/articles\", \"importance\": 0.04166667, \"id\": 1793}, {\"name\": \"APOBEC1 complementation factor\", \"uniprot\": \"Q9NQ94\", \"fam\": null, \"famext\": null, \"tdl\": \"Tbio\", \"novelty\": 0.01137173, \"articles\": \"http://api.newdrugtargets.org/diseases/62/targets/174/articles\", \"importance\": 0.1399287, \"id\": 174}, {\"name\": \"Glucosylceramidase\", \"uniprot\": \"P04062\", \"fam\": \"Enzyme\", \"famext\": \"glycosyl_hydrolase\", \"tdl\": \"Tchem\", \"novelty\": 0.00060145, \"articles\": \"http://api.newdrugtargets.org/diseases/62/targets/6845/articles\", \"importance\": 0.00892857, \"id\": 6845}, {\"name\": \"Beta-microseminoprotein\", \"uniprot\": \"P08118\", \"fam\": null, \"famext\": null, \"tdl\": \"Tbio\", \"novelty\": 0.00331647, \"articles\": \"http://api.newdrugtargets.org/diseases/62/targets/10885/articles\", \"importance\": 0.05934343, \"id\": 10885}, {\"name\": \"Mitogen-activated protein kinase 1\", \"uniprot\": \"P28482\", \"fam\": \"Kinase\", \"famext\": \"Kinase\", \"tdl\": \"Tchem\", \"novelty\": 0.0006483, \"articles\": \"http://api.newdrugtargets.org/diseases/62/targets/10301/articles\", \"importance\": 0.02722222, \"id\": 10301}, {\"name\": \"Pyridoxal kinase\", \"uniprot\": \"O00764\", \"fam\": \"Kinase\", \"famext\": \"Kinase\", \"tdl\": \"Tbio\", \"novelty\": 0.00338069, \"articles\": \"http://api.newdrugtargets.org/diseases/62/targets/12642/articles\", \"importance\": 0.025, \"id\": 12642}, {\"name\": \"Arachidonate 5-lipoxygenase-activating protein\", \"uniprot\": \"P20292\", \"fam\": \"Enzyme\", \"famext\": null, \"tdl\": \"Tchem\", \"novelty\": 0.00208286, \"articles\": \"http://api.newdrugtargets.org/diseases/62/targets/1064/articles\", \"importance\": 0.04166667, \"id\": 1064}, {\"name\": \"HLA class I histocompatibility antigen, B-52 alpha chain\", \"uniprot\": \"P30490\", \"fam\": null, \"famext\": null, \"tdl\": \"Tbio\", \"novelty\": 0.01295613, \"articles\": \"http://api.newdrugtargets.org/diseases/62/targets/19/articles\", \"importance\": 0.00848339, \"id\": 19}, {\"name\": \"C-C motif chemokine 4\", \"uniprot\": \"P13236\", \"fam\": null, \"famext\": null, \"tdl\": \"Tbio\", \"novelty\": 0.0009334, \"articles\": \"http://api.newdrugtargets.org/diseases/62/targets/1892/articles\", \"importance\": 0.01587302, \"id\": 1892}, {\"name\": \"Cytochrome P450 2B6\", \"uniprot\": \"P20813\", \"fam\": null, \"famext\": null, \"tdl\": \"Tchem\", \"novelty\": 0.00019722, \"articles\": \"http://api.newdrugtargets.org/diseases/62/targets/4222/articles\", \"importance\": 0.01515152, \"id\": 4222}, {\"name\": \"Complement C4-A\", \"uniprot\": \"P0C0L4\", \"fam\": null, \"famext\": null, \"tdl\": \"Tbio\", \"novelty\": 0.00090079, \"articles\": \"http://api.newdrugtargets.org/diseases/62/targets/3390/articles\", \"importance\": 0.06666667, \"id\": 3390}, {\"name\": \"GATOR complex protein NPRL3\", \"uniprot\": \"Q12980\", \"fam\": \"Enzyme\", \"famext\": null, \"tdl\": \"Tbio\", \"novelty\": 0.00808358, \"articles\": \"http://api.newdrugtargets.org/diseases/62/targets/11607/articles\", \"importance\": 0.015625, \"id\": 11607}, {\"name\": \"RNA-binding motif, single-stranded-interacting protein 1\", \"uniprot\": \"P29558\", \"fam\": null, \"famext\": null, \"tdl\": \"Tbio\", \"novelty\": 0.0031651, \"articles\": \"http://api.newdrugtargets.org/diseases/62/targets/14121/articles\", \"importance\": 0.01098901, \"id\": 14121}, {\"name\": \"Nischarin\", \"uniprot\": \"Q9Y2I1\", \"fam\": null, \"famext\": null, \"tdl\": \"Tclin\", \"novelty\": 0.00153755, \"articles\": \"http://api.newdrugtargets.org/diseases/62/targets/11574/articles\", \"importance\": 0.125, \"id\": 11574}, {\"name\": \"Single-strand selective monofunctional uracil DNA glycosylase\", \"uniprot\": \"Q53HV7\", \"fam\": \"Enzyme\", \"famext\": null, \"tdl\": \"Tbio\", \"novelty\": 4.805e-05, \"articles\": \"http://api.newdrugtargets.org/diseases/62/targets/16052/articles\", \"importance\": 0.45923913, \"id\": 16052}, {\"name\": \"Cathelicidin antimicrobial peptide\", \"uniprot\": \"P49913\", \"fam\": null, \"famext\": null, \"tdl\": \"Tbio\", \"novelty\": 0.00048795, \"articles\": \"http://api.newdrugtargets.org/diseases/62/targets/1698/articles\", \"importance\": 0.00877193, \"id\": 1698}, {\"name\": \"Mitochondrial uncoupling protein 2\", \"uniprot\": \"P55851\", \"fam\": null, \"famext\": null, \"tdl\": \"Tbio\", \"novelty\": 0.00099647, \"articles\": \"http://api.newdrugtargets.org/diseases/62/targets/18712/articles\", \"importance\": 0.09090909, \"id\": 18712}, {\"name\": \"AMP deaminase 1\", \"uniprot\": \"P23109\", \"fam\": \"Enzyme\", \"famext\": \"adenosine_and _AMP_deaminases\", \"tdl\": \"Tchem\", \"novelty\": 0.00440532, \"articles\": \"http://api.newdrugtargets.org/diseases/62/targets/863/articles\", \"importance\": 0.04166667, \"id\": 863}, {\"name\": \"Twist-related protein 1\", \"uniprot\": \"Q15672\", \"fam\": \"TF\", \"famext\": \"TF\", \"tdl\": \"Tbio\", \"novelty\": 0.00012055, \"articles\": \"http://api.newdrugtargets.org/diseases/62/targets/18658/articles\", \"importance\": 0.07692308, \"id\": 18658}, {\"name\": \"Cytochrome b-245 heavy chain\", \"uniprot\": \"P04839\", \"fam\": \"IC\", \"famext\": \"IC\", \"tdl\": \"Tchem\", \"novelty\": 0.00079988, \"articles\": \"http://api.newdrugtargets.org/diseases/62/targets/3961/articles\", \"importance\": 0.04213564, \"id\": 3961}, {\"name\": \"Heme oxygenase 1\", \"uniprot\": \"P09601\", \"fam\": \"Enzyme\", \"famext\": null, \"tdl\": \"Tbio\", \"novelty\": 0.00017781, \"articles\": \"http://api.newdrugtargets.org/diseases/62/targets/7477/articles\", \"importance\": 0.0457265, \"id\": 7477}, {\"name\": \"Sodium-dependent phosphate transport protein 4\", \"uniprot\": \"O00476\", \"fam\": \"Transporter\", \"famext\": \"SLC17A_transporter\", \"tdl\": \"Tbio\", \"novelty\": 0.07784483, \"articles\": \"http://api.newdrugtargets.org/diseases/62/targets/11547/articles\", \"importance\": 0.24997017, \"id\": 11547}, {\"name\": \"Putative interleukin-17 receptor E-like\", \"uniprot\": \"Q6ZVW7\", \"fam\": null, \"famext\": null, \"tdl\": \"Tdark\", \"novelty\": 0.30456853, \"articles\": \"http://api.newdrugtargets.org/diseases/62/targets/8630/articles\", \"importance\": 0.04166667, \"id\": 8630}, {\"name\": \"DNA-(apurinic or apyrimidinic site) lyase\", \"uniprot\": \"P27695\", \"fam\": \"Enzyme\", \"famext\": null, \"tdl\": \"Tchem\", \"novelty\": 0.00033307, \"articles\": \"http://api.newdrugtargets.org/diseases/62/targets/1091/articles\", \"importance\": 0.1875, \"id\": 1091}, {\"name\": \"Serine/threonine-protein kinase PLK1\", \"uniprot\": \"P53350\", \"fam\": \"Kinase\", \"famext\": \"Kinase\", \"tdl\": \"Tchem\", \"novelty\": 0.00080149, \"articles\": \"http://api.newdrugtargets.org/diseases/62/targets/13226/articles\", \"importance\": 0.09090909, \"id\": 13226}, {\"name\": \"Ribose-phosphate pyrophosphokinase 1\", \"uniprot\": \"P60891\", \"fam\": \"Kinase\", \"famext\": \"Kinase\", \"tdl\": \"Tbio\", \"novelty\": 0.01571041, \"articles\": \"http://api.newdrugtargets.org/diseases/62/targets/13026/articles\", \"importance\": 0.41695735, \"id\": 13026}, {\"name\": \"Solute carrier family 2, facilitated glucose transporter member 5\", \"uniprot\": \"P22732\", \"fam\": \"Transporter\", \"famext\": \"SLC2A_transporter\", \"tdl\": \"Tbio\", \"novelty\": 0.00465694, \"articles\": \"http://api.newdrugtargets.org/diseases/62/targets/7273/articles\", \"importance\": 0.09914622, \"id\": 7273}, {\"name\": \"2,4-dienoyl-CoA reductase, mitochondrial\", \"uniprot\": \"Q16698\", \"fam\": \"Enzyme\", \"famext\": \"short-chain_dehydrogenase/reductase\", \"tdl\": \"Tbio\", \"novelty\": 6.013e-05, \"articles\": \"http://api.newdrugtargets.org/diseases/62/targets/4583/articles\", \"importance\": 0.05128205, \"id\": 4583}, {\"name\": \"LARGE xylosyl- and glucuronyltransferase 1\", \"uniprot\": \"O95461\", \"fam\": \"Enzyme\", \"famext\": \"glycosyltransferase\", \"tdl\": \"Tbio\", \"novelty\": 0.00165626, \"articles\": \"http://api.newdrugtargets.org/diseases/62/targets/9358/articles\", \"importance\": 0.02777778, \"id\": 9358}, {\"name\": \"Complement C3\", \"uniprot\": \"P01024\", \"fam\": null, \"famext\": null, \"tdl\": \"Tbio\", \"novelty\": 0.00027566, \"articles\": \"http://api.newdrugtargets.org/diseases/62/targets/3730/articles\", \"importance\": 0.03125, \"id\": 3730}, {\"name\": \"HLA class I histocompatibility antigen, B-81 alpha chain\", \"uniprot\": \"Q31610\", \"fam\": null, \"famext\": null, \"tdl\": \"Tbio\", \"novelty\": 0.01295613, \"articles\": \"http://api.newdrugtargets.org/diseases/62/targets/298/articles\", \"importance\": 0.00848339, \"id\": 298}, {\"name\": \"Neural cell adhesion molecule 1\", \"uniprot\": \"P13591\", \"fam\": null, \"famext\": null, \"tdl\": \"Tbio\", \"novelty\": 0.00025757, \"articles\": \"http://api.newdrugtargets.org/diseases/62/targets/10603/articles\", \"importance\": 0.01818182, \"id\": 10603}, {\"name\": \"Pancreatic alpha-amylase\", \"uniprot\": \"P04746\", \"fam\": \"Enzyme\", \"famext\": \"glycosyl_hydrolase\", \"tdl\": \"Tclin\", \"novelty\": 0.0011725, \"articles\": \"http://api.newdrugtargets.org/diseases/62/targets/868/articles\", \"importance\": 0.125, \"id\": 868}, {\"name\": \"Toll-like receptor 2\", \"uniprot\": \"O60603\", \"fam\": null, \"famext\": null, \"tdl\": \"Tchem\", \"novelty\": 0.00031238, \"articles\": \"http://api.newdrugtargets.org/diseases/62/targets/17567/articles\", \"importance\": 0.3858243, \"id\": 17567}, {\"name\": \"Apolipoprotein E\", \"uniprot\": \"P02649\", \"fam\": null, \"famext\": null, \"tdl\": \"Tbio\", \"novelty\": 6.284e-05, \"articles\": \"http://api.newdrugtargets.org/diseases/62/targets/764/articles\", \"importance\": 0.29236111, \"id\": 764}, {\"name\": \"Synaptotagmin-2\", \"uniprot\": \"Q8N9I0\", \"fam\": null, \"famext\": null, \"tdl\": \"Tbio\", \"novelty\": 0.01161381, \"articles\": \"http://api.newdrugtargets.org/diseases/62/targets/16955/articles\", \"importance\": 0.04166667, \"id\": 16955}, {\"name\": \"Vasopressin-neurophysin 2-copeptin\", \"uniprot\": \"P01185\", \"fam\": null, \"famext\": null, \"tdl\": \"Tbio\", \"novelty\": 0.00011866, \"articles\": \"http://api.newdrugtargets.org/diseases/62/targets/11334/articles\", \"importance\": 0.02272727, \"id\": 11334}, {\"name\": \"Muscarinic acetylcholine receptor M1\", \"uniprot\": \"P11229\", \"fam\": \"GPCR\", \"famext\": \"GPCR\", \"tdl\": \"Tclin\", \"novelty\": 0.00689298, \"articles\": \"http://api.newdrugtargets.org/diseases/62/targets/42/articles\", \"importance\": 0.01428571, \"id\": 42}, {\"name\": \"Probable ATP-dependent RNA helicase DDX41\", \"uniprot\": \"Q9UJV9\", \"fam\": \"Enzyme\", \"famext\": null, \"tdl\": \"Tbio\", \"novelty\": 0.00023478, \"articles\": \"http://api.newdrugtargets.org/diseases/62/targets/4392/articles\", \"importance\": 0.125, \"id\": 4392}, {\"name\": \"Neurogenic locus notch homolog protein 1\", \"uniprot\": \"P46531\", \"fam\": null, \"famext\": null, \"tdl\": \"Tchem\", \"novelty\": 8.304e-05, \"articles\": \"http://api.newdrugtargets.org/diseases/62/targets/11101/articles\", \"importance\": 0.1875, \"id\": 11101}, {\"name\": \"Nucleolar transcription factor 1\", \"uniprot\": \"P17480\", \"fam\": \"TF\", \"famext\": \"TF\", \"tdl\": \"Tbio\", \"novelty\": 0.00491626, \"articles\": \"http://api.newdrugtargets.org/diseases/62/targets/18680/articles\", \"importance\": 0.09090909, \"id\": 18680}, {\"name\": \"Cathepsin K\", \"uniprot\": \"P43235\", \"fam\": \"Enzyme\", \"famext\": \"peptidase\", \"tdl\": \"Tchem\", \"novelty\": 0.00104381, \"articles\": \"http://api.newdrugtargets.org/diseases/62/targets/1709/articles\", \"importance\": 0.05069444, \"id\": 1709}, {\"name\": \"Growth-regulated alpha protein\", \"uniprot\": \"P09341\", \"fam\": null, \"famext\": null, \"tdl\": \"Tbio\", \"novelty\": 0.00072061, \"articles\": \"http://api.newdrugtargets.org/diseases/62/targets/7262/articles\", \"importance\": 0.3547619, \"id\": 7262}, {\"name\": \"TATA element modulatory factor\", \"uniprot\": \"P82094\", \"fam\": null, \"famext\": null, \"tdl\": \"Tbio\", \"novelty\": 0.00481845, \"articles\": \"http://api.newdrugtargets.org/diseases/62/targets/17966/articles\", \"importance\": 0.11111111, \"id\": 17966}, {\"name\": \"Nuclear factor erythroid 2-related factor 2\", \"uniprot\": \"Q16236\", \"fam\": \"TF\", \"famext\": \"TF\", \"tdl\": \"Tchem\", \"novelty\": 0.00071971, \"articles\": \"http://api.newdrugtargets.org/diseases/62/targets/11180/articles\", \"importance\": 0.00961538, \"id\": 11180}, {\"name\": \"Hepatocyte nuclear factor 1-beta\", \"uniprot\": \"P35680\", \"fam\": \"TF\", \"famext\": \"TF\", \"tdl\": \"Tbio\", \"novelty\": 0.00231686, \"articles\": \"http://api.newdrugtargets.org/diseases/62/targets/7479/articles\", \"importance\": 0.71876738, \"id\": 7479}, {\"name\": \"Na(+)/H(+) exchange regulatory cofactor NHE-RF3\", \"uniprot\": \"Q5T2W1\", \"fam\": null, \"famext\": null, \"tdl\": \"Tbio\", \"novelty\": 0.01430514, \"articles\": \"http://api.newdrugtargets.org/diseases/62/targets/11290/articles\", \"importance\": 0.43812854, \"id\": 11290}, {\"name\": \"E3 ubiquitin-protein ligase RNF139\", \"uniprot\": \"Q8WU17\", \"fam\": \"Enzyme\", \"famext\": null, \"tdl\": \"Tbio\", \"novelty\": 0.06734641, \"articles\": \"http://api.newdrugtargets.org/diseases/62/targets/14751/articles\", \"importance\": 0.02083333, \"id\": 14751}, {\"name\": \"Neutrophil cytosol factor 1\", \"uniprot\": \"P14598\", \"fam\": null, \"famext\": null, \"tdl\": \"Tbio\", \"novelty\": 0.00257999, \"articles\": \"http://api.newdrugtargets.org/diseases/62/targets/11144/articles\", \"importance\": 0.03102453, \"id\": 11144}, {\"name\": \"C-X-C motif chemokine 2\", \"uniprot\": \"P19875\", \"fam\": null, \"famext\": null, \"tdl\": \"Tbio\", \"novelty\": 0.00344756, \"articles\": \"http://api.newdrugtargets.org/diseases/62/targets/4117/articles\", \"importance\": 0.025, \"id\": 4117}, {\"name\": \"Ectonucleotide pyrophosphatase/phosphodiesterase family member 1\", \"uniprot\": \"P22413\", \"fam\": \"Enzyme\", \"famext\": \"phosphatase\", \"tdl\": \"Tchem\", \"novelty\": 0.0017997, \"articles\": \"http://api.newdrugtargets.org/diseases/62/targets/5125/articles\", \"importance\": 0.04545455, \"id\": 5125}, {\"name\": \"Tropomodulin-4\", \"uniprot\": \"Q9NZQ9\", \"fam\": null, \"famext\": null, \"tdl\": \"Tbio\", \"novelty\": 0.01142642, \"articles\": \"http://api.newdrugtargets.org/diseases/62/targets/17823/articles\", \"importance\": 0.04545455, \"id\": 17823}, {\"name\": \"Endophilin-A2\", \"uniprot\": \"Q99961\", \"fam\": null, \"famext\": null, \"tdl\": \"Tbio\", \"novelty\": 0.00700174, \"articles\": \"http://api.newdrugtargets.org/diseases/62/targets/15138/articles\", \"importance\": 0.05882353, \"id\": 15138}, {\"name\": \"Uromodulin\", \"uniprot\": \"P07911\", \"fam\": null, \"famext\": null, \"tdl\": \"Tbio\", \"novelty\": 0.00177978, \"articles\": \"http://api.newdrugtargets.org/diseases/62/targets/18506/articles\", \"importance\": 2.69481124, \"id\": 18506}, {\"name\": \"Arachidonate 5-lipoxygenase\", \"uniprot\": \"P09917\", \"fam\": \"Enzyme\", \"famext\": null, \"tdl\": \"Tclin\", \"novelty\": 0.00074627, \"articles\": \"http://api.newdrugtargets.org/diseases/62/targets/8938/articles\", \"importance\": 0.12291667, \"id\": 8938}, {\"name\": \"Taste receptor type 2 member 31\", \"uniprot\": \"P59538\", \"fam\": \"GPCR\", \"famext\": \"GPCR\", \"tdl\": \"Tbio\", \"novelty\": 0.13186813, \"articles\": \"http://api.newdrugtargets.org/diseases/62/targets/17261/articles\", \"importance\": 0.025, \"id\": 17261}, {\"name\": \"Interleukin-10\", \"uniprot\": \"P22301\", \"fam\": null, \"famext\": null, \"tdl\": \"Tbio\", \"novelty\": 7.848e-05, \"articles\": \"http://api.newdrugtargets.org/diseases/62/targets/7922/articles\", \"importance\": 0.53964204, \"id\": 7922}, {\"name\": \"E3 ubiquitin-protein ligase TRIM33\", \"uniprot\": \"Q9UPN9\", \"fam\": \"Epigenetic\", \"famext\": null, \"tdl\": \"Tbio\", \"novelty\": 0.00078065, \"articles\": \"http://api.newdrugtargets.org/diseases/62/targets/17919/articles\", \"importance\": 0.02, \"id\": 17919}, {\"name\": \"Low density lipoprotein receptor adapter protein 1\", \"uniprot\": \"Q5SW96\", \"fam\": null, \"famext\": null, \"tdl\": \"Tbio\", \"novelty\": 0.00359907, \"articles\": \"http://api.newdrugtargets.org/diseases/62/targets/1108/articles\", \"importance\": 0.03030303, \"id\": 1108}, {\"name\": \"Vascular endothelial growth factor A\", \"uniprot\": \"P15692\", \"fam\": null, \"famext\": null, \"tdl\": \"Tclin\", \"novelty\": 5.346e-05, \"articles\": \"http://api.newdrugtargets.org/diseases/62/targets/18877/articles\", \"importance\": 0.17790404, \"id\": 18877}, {\"name\": \"Transgelin\", \"uniprot\": \"Q01995\", \"fam\": null, \"famext\": null, \"tdl\": \"Tbio\", \"novelty\": 0.00246079, \"articles\": \"http://api.newdrugtargets.org/diseases/62/targets/17062/articles\", \"importance\": 0.03846154, \"id\": 17062}, {\"name\": \"Clusterin\", \"uniprot\": \"P10909\", \"fam\": null, \"famext\": null, \"tdl\": \"Tbio\", \"novelty\": 0.000517, \"articles\": \"http://api.newdrugtargets.org/diseases/62/targets/3535/articles\", \"importance\": 0.04545455, \"id\": 3535}, {\"name\": \"Interleukin-1 receptor-associated kinase 1\", \"uniprot\": \"P51617\", \"fam\": \"Kinase\", \"famext\": \"Kinase\", \"tdl\": \"Tchem\", \"novelty\": 0.00258184, \"articles\": \"http://api.newdrugtargets.org/diseases/62/targets/8529/articles\", \"importance\": 0.07988426, \"id\": 8529}, {\"name\": \"DNA repair protein RAD51 homolog 1\", \"uniprot\": \"Q06609\", \"fam\": null, \"famext\": null, \"tdl\": \"Tchem\", \"novelty\": 0.00014911, \"articles\": \"http://api.newdrugtargets.org/diseases/62/targets/13991/articles\", \"importance\": 0.05555556, \"id\": 13991}, {\"name\": \"Lymphocyte antigen 96\", \"uniprot\": \"Q9Y6Y9\", \"fam\": null, \"famext\": null, \"tdl\": \"Tbio\", \"novelty\": 0.00167192, \"articles\": \"http://api.newdrugtargets.org/diseases/62/targets/8974/articles\", \"importance\": 0.25, \"id\": 8974}, {\"name\": \"Thymidylate synthase\", \"uniprot\": \"P04818\", \"fam\": \"Enzyme\", \"famext\": null, \"tdl\": \"Tclin\", \"novelty\": 0.00116342, \"articles\": \"http://api.newdrugtargets.org/diseases/62/targets/18619/articles\", \"importance\": 0.04545455, \"id\": 18619}, {\"name\": \"Stromelysin-1\", \"uniprot\": \"P08254\", \"fam\": null, \"famext\": null, \"tdl\": \"Tchem\", \"novelty\": 0.00052253, \"articles\": \"http://api.newdrugtargets.org/diseases/62/targets/10217/articles\", \"importance\": 0.18744748, \"id\": 10217}, {\"name\": \"Interleukin-11\", \"uniprot\": \"P20809\", \"fam\": null, \"famext\": null, \"tdl\": \"Tbio\", \"novelty\": 0.00156357, \"articles\": \"http://api.newdrugtargets.org/diseases/62/targets/8044/articles\", \"importance\": 0.02, \"id\": 8044}, {\"name\": \"Adenosine receptor A2a\", \"uniprot\": \"P29274\", \"fam\": \"GPCR\", \"famext\": \"GPCR\", \"tdl\": \"Tclin\", \"novelty\": 0.00103913, \"articles\": \"http://api.newdrugtargets.org/diseases/62/targets/385/articles\", \"importance\": 0.01234568, \"id\": 385}, {\"name\": \"Alcohol dehydrogenase 1B\", \"uniprot\": \"P00325\", \"fam\": \"Enzyme\", \"famext\": \"zinc-containing_alcohol_dehydrogenase\", \"tdl\": \"Tclin\", \"novelty\": 0.00377514, \"articles\": \"http://api.newdrugtargets.org/diseases/62/targets/243/articles\", \"importance\": 0.02272727, \"id\": 243}, {\"name\": \"Solute carrier family 12 member 1\", \"uniprot\": \"Q13621\", \"fam\": \"Transporter\", \"famext\": \"SLC12A_transporter\", \"tdl\": \"Tclin\", \"novelty\": 0.00425356, \"articles\": \"http://api.newdrugtargets.org/diseases/62/targets/15028/articles\", \"importance\": 0.04910714, \"id\": 15028}, {\"name\": \"Platelet-activating factor receptor\", \"uniprot\": \"P25105\", \"fam\": \"GPCR\", \"famext\": \"GPCR\", \"tdl\": \"Tchem\", \"novelty\": 0.00945798, \"articles\": \"http://api.newdrugtargets.org/diseases/62/targets/13658/articles\", \"importance\": 0.025, \"id\": 13658}, {\"name\": \"Dentin matrix acidic phosphoprotein 1\", \"uniprot\": \"Q13316\", \"fam\": null, \"famext\": null, \"tdl\": \"Tbio\", \"novelty\": 0.02147276, \"articles\": \"http://api.newdrugtargets.org/diseases/62/targets/4467/articles\", \"importance\": 0.09090909, \"id\": 4467}, {\"name\": \"Proto-oncogene c-Rel\", \"uniprot\": \"Q04864\", \"fam\": \"TF\", \"famext\": \"TF\", \"tdl\": \"Tbio\", \"novelty\": 0.00072043, \"articles\": \"http://api.newdrugtargets.org/diseases/62/targets/14189/articles\", \"importance\": 0.01388889, \"id\": 14189}, {\"name\": \"NACHT, LRR and PYD domains-containing protein 1\", \"uniprot\": \"Q9C000\", \"fam\": null, \"famext\": null, \"tdl\": \"Tbio\", \"novelty\": 0.00921332, \"articles\": \"http://api.newdrugtargets.org/diseases/62/targets/11516/articles\", \"importance\": 0.07561224, \"id\": 11516}, {\"name\": \"Ataxin-2\", \"uniprot\": \"Q99700\", \"fam\": null, \"famext\": null, \"tdl\": \"Tbio\", \"novelty\": 0.00472904, \"articles\": \"http://api.newdrugtargets.org/diseases/62/targets/1437/articles\", \"importance\": 0.00735294, \"id\": 1437}, {\"name\": \"Lysozyme C\", \"uniprot\": \"P61626\", \"fam\": \"Enzyme\", \"famext\": \"glycosyl_hydrolase\", \"tdl\": \"Tbio\", \"novelty\": 0.00021407, \"articles\": \"http://api.newdrugtargets.org/diseases/62/targets/9829/articles\", \"importance\": 0.0515873, \"id\": 9829}, {\"name\": \"HLA class I histocompatibility antigen, B-50 alpha chain\", \"uniprot\": \"P30488\", \"fam\": null, \"famext\": null, \"tdl\": \"Tbio\", \"novelty\": 0.01295613, \"articles\": \"http://api.newdrugtargets.org/diseases/62/targets/17/articles\", \"importance\": 0.00848339, \"id\": 17}, {\"name\": \"Serum paraoxonase/arylesterase 1\", \"uniprot\": \"P27169\", \"fam\": \"Enzyme\", \"famext\": null, \"tdl\": \"Tbio\", \"novelty\": 0.00040416, \"articles\": \"http://api.newdrugtargets.org/diseases/62/targets/12974/articles\", \"importance\": 0.03333333, \"id\": 12974}, {\"name\": \"C-X-C chemokine receptor type 2\", \"uniprot\": \"P25025\", \"fam\": \"GPCR\", \"famext\": \"GPCR\", \"tdl\": \"Tchem\", \"novelty\": 0.00133927, \"articles\": \"http://api.newdrugtargets.org/diseases/62/targets/4024/articles\", \"importance\": 0.040625, \"id\": 4024}, {\"name\": \"Tyrosine-protein kinase SYK\", \"uniprot\": \"P43405\", \"fam\": \"Kinase\", \"famext\": \"Kinase\", \"tdl\": \"Tchem\", \"novelty\": 0.00071064, \"articles\": \"http://api.newdrugtargets.org/diseases/62/targets/9339/articles\", \"importance\": 0.27664566, \"id\": 9339}, {\"name\": \"Interleukin-4\", \"uniprot\": \"P05112\", \"fam\": null, \"famext\": null, \"tdl\": \"Tbio\", \"novelty\": 0.00010395, \"articles\": \"http://api.newdrugtargets.org/diseases/62/targets/7968/articles\", \"importance\": 0.20086279, \"id\": 7968}, {\"name\": \"CD40 ligand\", \"uniprot\": \"P29965\", \"fam\": null, \"famext\": null, \"tdl\": \"Tbio\", \"novelty\": 2.618e-05, \"articles\": \"http://api.newdrugtargets.org/diseases/62/targets/3029/articles\", \"importance\": 1.08576101, \"id\": 3029}, {\"name\": \"Leucine-rich repeat-containing protein 3\", \"uniprot\": \"Q9BY71\", \"fam\": null, \"famext\": null, \"tdl\": \"Tdark\", \"novelty\": 0.33443928, \"articles\": \"http://api.newdrugtargets.org/diseases/62/targets/9999/articles\", \"importance\": 0.025, \"id\": 9999}, {\"name\": \"Serine/threonine-protein kinase receptor R3\", \"uniprot\": \"P37023\", \"fam\": \"Kinase\", \"famext\": \"Kinase\", \"tdl\": \"Tchem\", \"novelty\": 0.00103824, \"articles\": \"http://api.newdrugtargets.org/diseases/62/targets/313/articles\", \"importance\": 0.00735294, \"id\": 313}, {\"name\": \"Plasma protease C1 inhibitor\", \"uniprot\": \"P05155\", \"fam\": \"Enzyme\", \"famext\": \"serpin_family\", \"tdl\": \"Tbio\", \"novelty\": 0.00081626, \"articles\": \"http://api.newdrugtargets.org/diseases/62/targets/7887/articles\", \"importance\": 0.00740741, \"id\": 7887}, {\"name\": \"Galactoside-binding soluble lectin 13\", \"uniprot\": \"Q9UHV8\", \"fam\": null, \"famext\": null, \"tdl\": \"Tbio\", \"novelty\": 0.01092735, \"articles\": \"http://api.newdrugtargets.org/diseases/62/targets/12979/articles\", \"importance\": 0.1, \"id\": 12979}, {\"name\": \"Transcription factor Sp9\", \"uniprot\": \"P0CG40\", \"fam\": \"TF\", \"famext\": \"TF\", \"tdl\": \"Tdark\", \"novelty\": 0.00978588, \"articles\": \"http://api.newdrugtargets.org/diseases/62/targets/16122/articles\", \"importance\": 0.19791667, \"id\": 16122}, {\"name\": \"Autophagy-related protein 16-1\", \"uniprot\": \"Q676U5\", \"fam\": null, \"famext\": null, \"tdl\": \"Tbio\", \"novelty\": 0.00545223, \"articles\": \"http://api.newdrugtargets.org/diseases/62/targets/452/articles\", \"importance\": 0.015625, \"id\": 452}, {\"name\": \"Tyrosine-protein kinase JAK2\", \"uniprot\": \"O60674\", \"fam\": \"Kinase\", \"famext\": \"Kinase\", \"tdl\": \"Tclin\", \"novelty\": 0.00028816, \"articles\": \"http://api.newdrugtargets.org/diseases/62/targets/8242/articles\", \"importance\": 0.1075, \"id\": 8242}, {\"name\": \"Complement C2\", \"uniprot\": \"P06681\", \"fam\": null, \"famext\": null, \"tdl\": \"Tbio\", \"novelty\": 0.00617678, \"articles\": \"http://api.newdrugtargets.org/diseases/62/targets/3728/articles\", \"importance\": 0.01176471, \"id\": 3728}, {\"name\": \"Paired box protein Pax-4\", \"uniprot\": \"O43316\", \"fam\": \"TF\", \"famext\": \"TF\", \"tdl\": \"Tbio\", \"novelty\": 0.00729895, \"articles\": \"http://api.newdrugtargets.org/diseases/62/targets/11688/articles\", \"importance\": 0.04347826, \"id\": 11688}, {\"name\": \"HLA class I histocompatibility antigen, B-73 alpha chain\", \"uniprot\": \"Q31612\", \"fam\": null, \"famext\": null, \"tdl\": \"Tbio\", \"novelty\": 0.01295613, \"articles\": \"http://api.newdrugtargets.org/diseases/62/targets/296/articles\", \"importance\": 0.00848339, \"id\": 296}, {\"name\": \"Early growth response protein 1\", \"uniprot\": \"P18146\", \"fam\": \"TF\", \"famext\": \"TF\", \"tdl\": \"Tbio\", \"novelty\": 0.0005033, \"articles\": \"http://api.newdrugtargets.org/diseases/62/targets/4970/articles\", \"importance\": 0.01136364, \"id\": 4970}, {\"name\": \"Serrate RNA effector molecule homolog\", \"uniprot\": \"Q9BXP5\", \"fam\": null, \"famext\": null, \"tdl\": \"Tbio\", \"novelty\": 0.00805478, \"articles\": \"http://api.newdrugtargets.org/diseases/62/targets/16104/articles\", \"importance\": 0.09090909, \"id\": 16104}, {\"name\": \"Peroxiredoxin-5, mitochondrial\", \"uniprot\": \"P30044\", \"fam\": null, \"famext\": null, \"tdl\": \"Tbio\", \"novelty\": 0.00096986, \"articles\": \"http://api.newdrugtargets.org/diseases/62/targets/13459/articles\", \"importance\": 0.03030303, \"id\": 13459}, {\"name\": \"Filamin-A\", \"uniprot\": \"P21333\", \"fam\": null, \"famext\": null, \"tdl\": \"Tbio\", \"novelty\": 0.0004279, \"articles\": \"http://api.newdrugtargets.org/diseases/62/targets/6152/articles\", \"importance\": 0.04347826, \"id\": 6152}, {\"name\": \"PDZ and LIM domain protein 1\", \"uniprot\": \"O00151\", \"fam\": null, \"famext\": null, \"tdl\": \"Tbio\", \"novelty\": 0.00311127, \"articles\": \"http://api.newdrugtargets.org/diseases/62/targets/12638/articles\", \"importance\": 0.04166667, \"id\": 12638}, {\"name\": \"Nucleotide-binding oligomerization domain-containing protein 2\", \"uniprot\": \"Q9HC29\", \"fam\": null, \"famext\": null, \"tdl\": \"Tclin\", \"novelty\": 0.00073078, \"articles\": \"http://api.newdrugtargets.org/diseases/62/targets/11526/articles\", \"importance\": 0.17560913, \"id\": 11526}, {\"name\": \"Interleukin-8\", \"uniprot\": \"P10145\", \"fam\": null, \"famext\": null, \"tdl\": \"Tchem\", \"novelty\": 9.83e-05, \"articles\": \"http://api.newdrugtargets.org/diseases/62/targets/8671/articles\", \"importance\": 1.8630666, \"id\": 8671}, {\"name\": \"Monocarboxylate transporter 9\", \"uniprot\": \"Q7RTY1\", \"fam\": \"Transporter\", \"famext\": \"SLC16A_transporter\", \"tdl\": \"Tbio\", \"novelty\": 0.12344932, \"articles\": \"http://api.newdrugtargets.org/diseases/62/targets/10327/articles\", \"importance\": 0.17837926, \"id\": 10327}, {\"name\": \"Somatostatin\", \"uniprot\": \"P61278\", \"fam\": null, \"famext\": null, \"tdl\": \"Tbio\", \"novelty\": 7.098e-05, \"articles\": \"http://api.newdrugtargets.org/diseases/62/targets/16050/articles\", \"importance\": 0.01851852, \"id\": 16050}, {\"name\": \"Translationally-controlled tumor protein\", \"uniprot\": \"P13693\", \"fam\": null, \"famext\": null, \"tdl\": \"Tbio\", \"novelty\": 0.00170683, \"articles\": \"http://api.newdrugtargets.org/diseases/62/targets/17106/articles\", \"importance\": 0.01612903, \"id\": 17106}, {\"name\": \"Androgen receptor\", \"uniprot\": \"P10275\", \"fam\": \"NR\", \"famext\": \"NR\", \"tdl\": \"Tclin\", \"novelty\": 0.00014834, \"articles\": \"http://api.newdrugtargets.org/diseases/62/targets/875/articles\", \"importance\": 0.09090909, \"id\": 875}, {\"name\": \"Homeobox protein cut-like 2\", \"uniprot\": \"O14529\", \"fam\": \"TF\", \"famext\": \"TF\", \"tdl\": \"Tbio\", \"novelty\": 0.01960087, \"articles\": \"http://api.newdrugtargets.org/diseases/62/targets/4300/articles\", \"importance\": 0.04568765, \"id\": 4300}, {\"name\": \"CD27 antigen\", \"uniprot\": \"P26842\", \"fam\": null, \"famext\": null, \"tdl\": \"Tbio\", \"novelty\": 0.00097737, \"articles\": \"http://api.newdrugtargets.org/diseases/62/targets/3122/articles\", \"importance\": 0.03846154, \"id\": 3122}, {\"name\": \"NADH dehydrogenase [ubiquinone] iron-sulfur protein 7, mitochondrial\", \"uniprot\": \"O75251\", \"fam\": \"Enzyme\", \"famext\": null, \"tdl\": \"Tclin\", \"novelty\": 0.00116817, \"articles\": \"http://api.newdrugtargets.org/diseases/62/targets/11052/articles\", \"importance\": 0.1, \"id\": 11052}, {\"name\": \"Plasminogen-like protein A\", \"uniprot\": \"Q15195\", \"fam\": null, \"famext\": null, \"tdl\": \"Tdark\", \"novelty\": 0.00010903, \"articles\": \"http://api.newdrugtargets.org/diseases/62/targets/13224/articles\", \"importance\": 0.17874579, \"id\": 13224}, {\"name\": \"Testis-specific Y-encoded-like protein 5\", \"uniprot\": \"Q86VY4\", \"fam\": null, \"famext\": null, \"tdl\": \"Tbio\", \"novelty\": 0.10496398, \"articles\": \"http://api.newdrugtargets.org/diseases/62/targets/18015/articles\", \"importance\": 0.01098901, \"id\": 18015}, {\"name\": \"Interleukin-23 receptor\", \"uniprot\": \"Q5VWK5\", \"fam\": null, \"famext\": null, \"tdl\": \"Tbio\", \"novelty\": 0.00781209, \"articles\": \"http://api.newdrugtargets.org/diseases/62/targets/7799/articles\", \"importance\": 0.03125, \"id\": 7799}, {\"name\": \"Tyrosine-protein phosphatase non-receptor type 11\", \"uniprot\": \"Q06124\", \"fam\": \"Enzyme\", \"famext\": \"phosphatase\", \"tdl\": \"Tchem\", \"novelty\": 0.00077567, \"articles\": \"http://api.newdrugtargets.org/diseases/62/targets/13700/articles\", \"importance\": 0.01388889, \"id\": 13700}, {\"name\": \"ATP-binding cassette sub-family G member 8\", \"uniprot\": \"Q9H221\", \"fam\": \"Transporter\", \"famext\": \"ATP_binding_cassette_Transporter\", \"tdl\": \"Tbio\", \"novelty\": 0.00579111, \"articles\": \"http://api.newdrugtargets.org/diseases/62/targets/188/articles\", \"importance\": 0.18863636, \"id\": 188}, {\"name\": \"F-actin-uncapping protein LRRC16A\", \"uniprot\": \"Q5VZK9\", \"fam\": null, \"famext\": null, \"tdl\": \"Tbio\", \"novelty\": 0.04696586, \"articles\": \"http://api.newdrugtargets.org/diseases/62/targets/1838/articles\", \"importance\": 0.2921509, \"id\": 1838}, {\"name\": \"Endothelin-1\", \"uniprot\": \"P05305\", \"fam\": null, \"famext\": null, \"tdl\": \"Tbio\", \"novelty\": 8.41e-05, \"articles\": \"http://api.newdrugtargets.org/diseases/62/targets/5004/articles\", \"importance\": 0.12916667, \"id\": 5004}, {\"name\": \"Thioredoxin-interacting protein\", \"uniprot\": \"Q9H3M7\", \"fam\": null, \"famext\": null, \"tdl\": \"Tbio\", \"novelty\": 0.00334329, \"articles\": \"http://api.newdrugtargets.org/diseases/62/targets/18842/articles\", \"importance\": 0.04294872, \"id\": 18842}, {\"name\": \"Catalase\", \"uniprot\": \"P04040\", \"fam\": \"Enzyme\", \"famext\": null, \"tdl\": \"Tbio\", \"novelty\": 0.00023107, \"articles\": \"http://api.newdrugtargets.org/diseases/62/targets/2302/articles\", \"importance\": 0.08282967, \"id\": 2302}, {\"name\": \"Signal transducer and activator of transcription 3\", \"uniprot\": \"P40763\", \"fam\": \"TF\", \"famext\": \"TF\", \"tdl\": \"Tchem\", \"novelty\": 0.00015311, \"articles\": \"http://api.newdrugtargets.org/diseases/62/targets/16901/articles\", \"importance\": 0.04417211, \"id\": 16901}, {\"name\": \"Glycylpeptide N-tetradecanoyltransferase 1\", \"uniprot\": \"P30419\", \"fam\": \"Enzyme\", \"famext\": null, \"tdl\": \"Tchem\", \"novelty\": 0.00461292, \"articles\": \"http://api.newdrugtargets.org/diseases/62/targets/11093/articles\", \"importance\": 0.00757576, \"id\": 11093}, {\"name\": \"cAMP-responsive element modulator\", \"uniprot\": \"Q03060\", \"fam\": \"TF\", \"famext\": \"TF\", \"tdl\": \"Tbio\", \"novelty\": 0.00103198, \"articles\": \"http://api.newdrugtargets.org/diseases/62/targets/4242/articles\", \"importance\": 0.16233766, \"id\": 4242}, {\"name\": \"Ectodysplasin-A receptor-associated adapter protein\", \"uniprot\": \"Q8WWZ3\", \"fam\": null, \"famext\": null, \"tdl\": \"Tbio\", \"novelty\": 0.03620732, \"articles\": \"http://api.newdrugtargets.org/diseases/62/targets/4901/articles\", \"importance\": 0.01098901, \"id\": 4901}, {\"name\": \"Juxtaposed with another zinc finger protein 1\", \"uniprot\": \"Q86VZ6\", \"fam\": null, \"famext\": null, \"tdl\": \"Tbio\", \"novelty\": 0.02421856, \"articles\": \"http://api.newdrugtargets.org/diseases/62/targets/8727/articles\", \"importance\": 0.01785714, \"id\": 8727}, {\"name\": \"NAD-dependent protein deacetylase sirtuin-2\", \"uniprot\": \"Q8IXJ6\", \"fam\": \"Epigenetic\", \"famext\": null, \"tdl\": \"Tchem\", \"novelty\": 0.00144999, \"articles\": \"http://api.newdrugtargets.org/diseases/62/targets/15951/articles\", \"importance\": 0.01041667, \"id\": 15951}, {\"name\": \"Complement component C9\", \"uniprot\": \"P02748\", \"fam\": null, \"famext\": null, \"tdl\": \"Tbio\", \"novelty\": 0.01290924, \"articles\": \"http://api.newdrugtargets.org/diseases/62/targets/3564/articles\", \"importance\": 0.01388889, \"id\": 3564}, {\"name\": \"E3 ubiquitin-protein ligase LRSAM1\", \"uniprot\": \"Q6UWE0\", \"fam\": \"Enzyme\", \"famext\": null, \"tdl\": \"Tbio\", \"novelty\": 0.00120957, \"articles\": \"http://api.newdrugtargets.org/diseases/62/targets/10098/articles\", \"importance\": 0.04761905, \"id\": 10098}, {\"name\": \"Transthyretin\", \"uniprot\": \"P02766\", \"fam\": null, \"famext\": null, \"tdl\": \"Tclin\", \"novelty\": 0.00015997, \"articles\": \"http://api.newdrugtargets.org/diseases/62/targets/18606/articles\", \"importance\": 0.03571429, \"id\": 18606}, {\"name\": \"Beta-2-microglobulin\", \"uniprot\": \"P61769\", \"fam\": null, \"famext\": null, \"tdl\": \"Tbio\", \"novelty\": 0.00012309, \"articles\": \"http://api.newdrugtargets.org/diseases/62/targets/1308/articles\", \"importance\": 0.65466334, \"id\": 1308}, {\"name\": \"L-amino-acid oxidase\", \"uniprot\": \"Q96RQ9\", \"fam\": \"Enzyme\", \"famext\": null, \"tdl\": \"Tbio\", \"novelty\": 0.00161905, \"articles\": \"http://api.newdrugtargets.org/diseases/62/targets/12110/articles\", \"importance\": 0.06666667, \"id\": 12110}, {\"name\": \"Amine oxidase [flavin-containing] A\", \"uniprot\": \"P21397\", \"fam\": \"Enzyme\", \"famext\": null, \"tdl\": \"Tclin\", \"novelty\": 0.00040449, \"articles\": \"http://api.newdrugtargets.org/diseases/62/targets/1028/articles\", \"importance\": 0.11868687, \"id\": 1028}, {\"name\": \"Prostaglandin G/H synthase 1\", \"uniprot\": \"P23219\", \"fam\": \"Enzyme\", \"famext\": null, \"tdl\": \"Tclin\", \"novelty\": 0.00058837, \"articles\": \"http://api.newdrugtargets.org/diseases/62/targets/13316/articles\", \"importance\": 0.08881579, \"id\": 13316}, {\"name\": \"Lumican\", \"uniprot\": \"P51884\", \"fam\": null, \"famext\": null, \"tdl\": \"Tbio\", \"novelty\": 0.00188466, \"articles\": \"http://api.newdrugtargets.org/diseases/62/targets/9760/articles\", \"importance\": 0.14141414, \"id\": 9760}, {\"name\": \"ATP-binding cassette sub-family G member 2\", \"uniprot\": \"Q9UNQ0\", \"fam\": \"Transporter\", \"famext\": \"ATP_binding_cassette_Transporter\", \"tdl\": \"Tchem\", \"novelty\": 0.00038127, \"articles\": \"http://api.newdrugtargets.org/diseases/62/targets/616/articles\", \"importance\": 6.75221347, \"id\": 616}, {\"name\": \"HLA class I histocompatibility antigen, B-40 alpha chain\", \"uniprot\": \"Q04826\", \"fam\": null, \"famext\": null, \"tdl\": \"Tbio\", \"novelty\": 0.01295613, \"articles\": \"http://api.newdrugtargets.org/diseases/62/targets/12/articles\", \"importance\": 0.00848339, \"id\": 12}, {\"name\": \"Insulin-like growth factor-binding protein 1\", \"uniprot\": \"P08833\", \"fam\": null, \"famext\": null, \"tdl\": \"Tchem\", \"novelty\": 0.00085058, \"articles\": \"http://api.newdrugtargets.org/diseases/62/targets/7884/articles\", \"importance\": 0.01136364, \"id\": 7884}, {\"name\": \"Putative high mobility group protein B1-like 1\", \"uniprot\": \"B2RPK0\", \"fam\": null, \"famext\": null, \"tdl\": \"Tdark\", \"novelty\": 0.00088718, \"articles\": \"http://api.newdrugtargets.org/diseases/62/targets/7355/articles\", \"importance\": 0.04513557, \"id\": 7355}, {\"name\": \"Purine nucleoside phosphorylase\", \"uniprot\": \"P00491\", \"fam\": \"Enzyme\", \"famext\": null, \"tdl\": \"Tclin\", \"novelty\": 0.00176982, \"articles\": \"http://api.newdrugtargets.org/diseases/62/targets/13410/articles\", \"importance\": 0.03636364, \"id\": 13410}, {\"name\": \"Mucin-5AC\", \"uniprot\": \"P98088\", \"fam\": null, \"famext\": null, \"tdl\": \"Tbio\", \"novelty\": 0.00060076, \"articles\": \"http://api.newdrugtargets.org/diseases/62/targets/10686/articles\", \"importance\": 0.07142857, \"id\": 10686}, {\"name\": \"Toll-like receptor 3\", \"uniprot\": \"O15455\", \"fam\": null, \"famext\": null, \"tdl\": \"Tbio\", \"novelty\": 0.00081168, \"articles\": \"http://api.newdrugtargets.org/diseases/62/targets/17568/articles\", \"importance\": 0.00925926, \"id\": 17568}, {\"name\": \"HLA class I histocompatibility antigen, B-48 alpha chain\", \"uniprot\": \"P30486\", \"fam\": null, \"famext\": null, \"tdl\": \"Tbio\", \"novelty\": 0.01295613, \"articles\": \"http://api.newdrugtargets.org/diseases/62/targets/15/articles\", \"importance\": 0.00848339, \"id\": 15}, {\"name\": \"Apolipoprotein C-III\", \"uniprot\": \"P02656\", \"fam\": null, \"famext\": null, \"tdl\": \"Tbio\", \"novelty\": 0.00116552, \"articles\": \"http://api.newdrugtargets.org/diseases/62/targets/1092/articles\", \"importance\": 0.07738095, \"id\": 1092}, {\"name\": \"Proline-rich AKT1 substrate 1\", \"uniprot\": \"Q96B36\", \"fam\": null, \"famext\": null, \"tdl\": \"Tchem\", \"novelty\": 0.00552645, \"articles\": \"http://api.newdrugtargets.org/diseases/62/targets/246/articles\", \"importance\": 0.02083333, \"id\": 246}, {\"name\": \"R3H domain-containing protein 2\", \"uniprot\": \"Q9Y2K5\", \"fam\": null, \"famext\": null, \"tdl\": \"Tdark\", \"novelty\": 0.1509434, \"articles\": \"http://api.newdrugtargets.org/diseases/62/targets/14130/articles\", \"importance\": 0.02281746, \"id\": 14130}, {\"name\": \"Cathepsin D\", \"uniprot\": \"P07339\", \"fam\": \"Enzyme\", \"famext\": \"peptidase\", \"tdl\": \"Tchem\", \"novelty\": 0.00033837, \"articles\": \"http://api.newdrugtargets.org/diseases/62/targets/1707/articles\", \"importance\": 0.02083333, \"id\": 1707}, {\"name\": \"Interleukin-17A\", \"uniprot\": \"Q16552\", \"fam\": null, \"famext\": null, \"tdl\": \"Tclin\", \"novelty\": 0.00020347, \"articles\": \"http://api.newdrugtargets.org/diseases/62/targets/7964/articles\", \"importance\": 0.23260629, \"id\": 7964}, {\"name\": \"Adenine phosphoribosyltransferase\", \"uniprot\": \"P07741\", \"fam\": \"Enzyme\", \"famext\": null, \"tdl\": \"Tbio\", \"novelty\": 0.00414027, \"articles\": \"http://api.newdrugtargets.org/diseases/62/targets/1494/articles\", \"importance\": 0.1194488, \"id\": 1494}, {\"name\": \"DNA repair protein RAD51 homolog 2\", \"uniprot\": \"O15315\", \"fam\": null, \"famext\": null, \"tdl\": \"Tbio\", \"novelty\": 0.01133334, \"articles\": \"http://api.newdrugtargets.org/diseases/62/targets/14133/articles\", \"importance\": 0.06666667, \"id\": 14133}, {\"name\": \"Macrophage colony-stimulating factor 1\", \"uniprot\": \"P09603\", \"fam\": null, \"famext\": null, \"tdl\": \"Tbio\", \"novelty\": 0.00070532, \"articles\": \"http://api.newdrugtargets.org/diseases/62/targets/3843/articles\", \"importance\": 0.02083333, \"id\": 3843}, {\"name\": \"Interferon alpha-1/13\", \"uniprot\": \"P01562\", \"fam\": null, \"famext\": null, \"tdl\": \"Tbio\", \"novelty\": 0.0001344, \"articles\": \"http://api.newdrugtargets.org/diseases/62/targets/8187/articles\", \"importance\": 0.01052632, \"id\": 8187}, {\"name\": \"Early activation antigen CD69\", \"uniprot\": \"Q07108\", \"fam\": null, \"famext\": null, \"tdl\": \"Tbio\", \"novelty\": 0.00058841, \"articles\": \"http://api.newdrugtargets.org/diseases/62/targets/2992/articles\", \"importance\": 0.03571429, \"id\": 2992}, {\"name\": \"Eukaryotic translation initiation factor 2-alpha kinase 3\", \"uniprot\": \"Q9NZJ5\", \"fam\": \"Kinase\", \"famext\": \"Kinase\", \"tdl\": \"Tchem\", \"novelty\": 0.00087537, \"articles\": \"http://api.newdrugtargets.org/diseases/62/targets/5174/articles\", \"importance\": 0.0625, \"id\": 5174}, {\"name\": \"NADH dehydrogenase [ubiquinone] iron-sulfur protein 4, mitochondrial\", \"uniprot\": \"O43181\", \"fam\": \"Enzyme\", \"famext\": null, \"tdl\": \"Tclin\", \"novelty\": 0.00106531, \"articles\": \"http://api.newdrugtargets.org/diseases/62/targets/11051/articles\", \"importance\": 0.02272727, \"id\": 11051}, {\"name\": \"Melanocortin-2 receptor accessory protein\", \"uniprot\": \"Q8TCY5\", \"fam\": null, \"famext\": null, \"tdl\": \"Tbio\", \"novelty\": 0.00024849, \"articles\": \"http://api.newdrugtargets.org/diseases/62/targets/10340/articles\", \"importance\": 0.91632516, \"id\": 10340}, {\"name\": \"Optineurin\", \"uniprot\": \"Q96CV9\", \"fam\": null, \"famext\": null, \"tdl\": \"Tbio\", \"novelty\": 0.00061877, \"articles\": \"http://api.newdrugtargets.org/diseases/62/targets/12383/articles\", \"importance\": 0.01851852, \"id\": 12383}, {\"name\": \"Thyroid hormone receptor beta\", \"uniprot\": \"P10828\", \"fam\": \"NR\", \"famext\": \"NR\", \"tdl\": \"Tclin\", \"novelty\": 0.00149672, \"articles\": \"http://api.newdrugtargets.org/diseases/62/targets/17465/articles\", \"importance\": 0.02380952, \"id\": 17465}, {\"name\": \"Vascular endothelial growth factor receptor 2\", \"uniprot\": \"P35968\", \"fam\": \"Kinase\", \"famext\": \"Kinase\", \"tdl\": \"Tclin\", \"novelty\": 0.00021108, \"articles\": \"http://api.newdrugtargets.org/diseases/62/targets/18451/articles\", \"importance\": 0.125, \"id\": 18451}, {\"name\": \"Calmodulin-1\", \"uniprot\": \"P0DP23\", \"fam\": null, \"famext\": null, \"tdl\": \"Tclin\", \"novelty\": 0.00025649, \"articles\": \"http://api.newdrugtargets.org/diseases/62/targets/1980/articles\", \"importance\": 0.01785714, \"id\": 1980}, {\"name\": \"C-X-C motif chemokine 16\", \"uniprot\": \"Q9H2A7\", \"fam\": null, \"famext\": null, \"tdl\": \"Tbio\", \"novelty\": 0.00689478, \"articles\": \"http://api.newdrugtargets.org/diseases/62/targets/4029/articles\", \"importance\": 0.03846154, \"id\": 4029}, {\"name\": \"Glutamine--fructose-6-phosphate aminotransferase [isomerizing] 2\", \"uniprot\": \"O94808\", \"fam\": \"Enzyme\", \"famext\": null, \"tdl\": \"Tbio\", \"novelty\": 0.00201958, \"articles\": \"http://api.newdrugtargets.org/diseases/62/targets/7035/articles\", \"importance\": 0.0625, \"id\": 7035}, {\"name\": \"Free fatty acid receptor 4\", \"uniprot\": \"Q5NUL3\", \"fam\": \"GPCR\", \"famext\": \"GPCR\", \"tdl\": \"Tchem\", \"novelty\": 0.0065975, \"articles\": \"http://api.newdrugtargets.org/diseases/62/targets/5789/articles\", \"importance\": 0.01538462, \"id\": 5789}, {\"name\": \"Cytochrome c oxidase subunit 2\", \"uniprot\": \"P00403\", \"fam\": \"Enzyme\", \"famext\": null, \"tdl\": \"Tchem\", \"novelty\": 0.00109603, \"articles\": \"http://api.newdrugtargets.org/diseases/62/targets/3405/articles\", \"importance\": 0.04545455, \"id\": 3405}, {\"name\": \"HLA class I histocompatibility antigen, B-78 alpha chain\", \"uniprot\": \"P30498\", \"fam\": null, \"famext\": null, \"tdl\": \"Tbio\", \"novelty\": 0.01295613, \"articles\": \"http://api.newdrugtargets.org/diseases/62/targets/297/articles\", \"importance\": 0.00848339, \"id\": 297}, {\"name\": \"C-type lectin domain family 12 member A\", \"uniprot\": \"Q5QGZ9\", \"fam\": null, \"famext\": null, \"tdl\": \"Tbio\", \"novelty\": 0.04106228, \"articles\": \"http://api.newdrugtargets.org/diseases/62/targets/3204/articles\", \"importance\": 0.125, \"id\": 3204}, {\"name\": \"Apolipoprotein C-II\", \"uniprot\": \"P02655\", \"fam\": null, \"famext\": null, \"tdl\": \"Tbio\", \"novelty\": 0.00308417, \"articles\": \"http://api.newdrugtargets.org/diseases/62/targets/816/articles\", \"importance\": 0.125, \"id\": 816}, {\"name\": \"HLA class I histocompatibility antigen, B-38 alpha chain\", \"uniprot\": \"Q95365\", \"fam\": null, \"famext\": null, \"tdl\": \"Tbio\", \"novelty\": 0.01295613, \"articles\": \"http://api.newdrugtargets.org/diseases/62/targets/11/articles\", \"importance\": 0.00848339, \"id\": 11}, {\"name\": \"Stanniocalcin-1\", \"uniprot\": \"P52823\", \"fam\": null, \"famext\": null, \"tdl\": \"Tbio\", \"novelty\": 0.00128999, \"articles\": \"http://api.newdrugtargets.org/diseases/62/targets/16687/articles\", \"importance\": 0.02124183, \"id\": 16687}, {\"name\": \"Carbonic anhydrase 2\", \"uniprot\": \"P00918\", \"fam\": \"Enzyme\", \"famext\": \"carbonic anhydrase\", \"tdl\": \"Tclin\", \"novelty\": 0.00027048, \"articles\": \"http://api.newdrugtargets.org/diseases/62/targets/2741/articles\", \"importance\": 0.04027778, \"id\": 2741}, {\"name\": \"Ceruloplasmin\", \"uniprot\": \"P00450\", \"fam\": null, \"famext\": null, \"tdl\": \"Tbio\", \"novelty\": 0.00131556, \"articles\": \"http://api.newdrugtargets.org/diseases/62/targets/2664/articles\", \"importance\": 0.015625, \"id\": 2664}, {\"name\": \"Tyrosine-protein kinase HCK\", \"uniprot\": \"P08631\", \"fam\": \"Kinase\", \"famext\": \"Kinase\", \"tdl\": \"Tclin\", \"novelty\": 0.00029163, \"articles\": \"http://api.newdrugtargets.org/diseases/62/targets/7302/articles\", \"importance\": 0.19444444, \"id\": 7302}, {\"name\": \"Small nuclear ribonucleoprotein Sm D1\", \"uniprot\": \"P62314\", \"fam\": null, \"famext\": null, \"tdl\": \"Tbio\", \"novelty\": 0.00383947, \"articles\": \"http://api.newdrugtargets.org/diseases/62/targets/15903/articles\", \"importance\": 0.04, \"id\": 15903}, {\"name\": \"C-C motif chemokine 2\", \"uniprot\": \"P13500\", \"fam\": null, \"famext\": null, \"tdl\": \"Tchem\", \"novelty\": 0.00014184, \"articles\": \"http://api.newdrugtargets.org/diseases/62/targets/2285/articles\", \"importance\": 0.73816239, \"id\": 2285}, {\"name\": \"Integrin alpha-4\", \"uniprot\": \"P13612\", \"fam\": null, \"famext\": null, \"tdl\": \"Tclin\", \"novelty\": 0.00293346, \"articles\": \"http://api.newdrugtargets.org/diseases/62/targets/8086/articles\", \"importance\": 0.025, \"id\": 8086}, {\"name\": \"Plasminogen activator inhibitor 1\", \"uniprot\": \"P05121\", \"fam\": null, \"famext\": null, \"tdl\": \"Tchem\", \"novelty\": 0.00020794, \"articles\": \"http://api.newdrugtargets.org/diseases/62/targets/11786/articles\", \"importance\": 0.05689571, \"id\": 11786}, {\"name\": \"Peptidyl-prolyl cis-trans isomerase G\", \"uniprot\": \"Q13427\", \"fam\": \"Enzyme\", \"famext\": null, \"tdl\": \"Tchem\", \"novelty\": 0.00020227, \"articles\": \"http://api.newdrugtargets.org/diseases/62/targets/13498/articles\", \"importance\": 0.40467172, \"id\": 13498}, {\"name\": \"Interleukin-1 alpha\", \"uniprot\": \"P01583\", \"fam\": null, \"famext\": null, \"tdl\": \"Tchem\", \"novelty\": 0.00027088, \"articles\": \"http://api.newdrugtargets.org/diseases/62/targets/8207/articles\", \"importance\": 0.04719298, \"id\": 8207}, {\"name\": \"[Pyruvate dehydrogenase (acetyl-transferring)] kinase isozyme 2, mitochondrial\", \"uniprot\": \"Q15119\", \"fam\": \"Kinase\", \"famext\": \"Kinase\", \"tdl\": \"Tchem\", \"novelty\": 0.02049314, \"articles\": \"http://api.newdrugtargets.org/diseases/62/targets/12568/articles\", \"importance\": 0.0625, \"id\": 12568}, {\"name\": \"Cytochrome P450 3A4\", \"uniprot\": \"P08684\", \"fam\": \"Enzyme\", \"famext\": \"cytochrome_P450\", \"tdl\": \"Tclin\", \"novelty\": 0.00021959, \"articles\": \"http://api.newdrugtargets.org/diseases/62/targets/3507/articles\", \"importance\": 0.80965909, \"id\": 3507}, {\"name\": \"Serine/threonine-protein kinase mTOR\", \"uniprot\": \"P42345\", \"fam\": \"Kinase\", \"famext\": \"Kinase\", \"tdl\": \"Tclin\", \"novelty\": 0.00012707, \"articles\": \"http://api.newdrugtargets.org/diseases/62/targets/11035/articles\", \"importance\": 0.31051587, \"id\": 11035}, {\"name\": \"Peroxisome proliferator-activated receptor gamma\", \"uniprot\": \"P37231\", \"fam\": \"NR\", \"famext\": \"NR\", \"tdl\": \"Tclin\", \"novelty\": 0.00010866, \"articles\": \"http://api.newdrugtargets.org/diseases/62/targets/13436/articles\", \"importance\": 0.30844156, \"id\": 13436}, {\"name\": \"Pro-opiomelanocortin\", \"uniprot\": \"P01189\", \"fam\": null, \"famext\": null, \"tdl\": \"Tbio\", \"novelty\": 2.754e-05, \"articles\": \"http://api.newdrugtargets.org/diseases/62/targets/3818/articles\", \"importance\": 4.57829456, \"id\": 3818}, {\"name\": \"Protein FAM35A\", \"uniprot\": \"Q86V20\", \"fam\": null, \"famext\": null, \"tdl\": \"Tdark\", \"novelty\": 1.26436782, \"articles\": \"http://api.newdrugtargets.org/diseases/62/targets/5433/articles\", \"importance\": 0.0625, \"id\": 5433}, {\"name\": \"Polypeptide N-acetylgalactosaminyltransferase 3\", \"uniprot\": \"Q14435\", \"fam\": \"Enzyme\", \"famext\": null, \"tdl\": \"Tbio\", \"novelty\": 0.00155259, \"articles\": \"http://api.newdrugtargets.org/diseases/62/targets/6229/articles\", \"importance\": 0.40324762, \"id\": 6229}, {\"name\": \"Sodium/hydrogen exchanger 3\", \"uniprot\": \"P48764\", \"fam\": \"Transporter\", \"famext\": \"SLC9A_transporter\", \"tdl\": \"Tbio\", \"novelty\": 0.00171813, \"articles\": \"http://api.newdrugtargets.org/diseases/62/targets/15890/articles\", \"importance\": 0.01785714, \"id\": 15890}, {\"name\": \"Rho guanine nucleotide exchange factor 28\", \"uniprot\": \"Q8N1W1\", \"fam\": null, \"famext\": null, \"tdl\": \"Tbio\", \"novelty\": 0.0237103, \"articles\": \"http://api.newdrugtargets.org/diseases/62/targets/657/articles\", \"importance\": 0.008, \"id\": 657}, {\"name\": \"Isoleucine--tRNA ligase, cytoplasmic\", \"uniprot\": \"P41252\", \"fam\": \"Enzyme\", \"famext\": \"tRNA-ligase_Class-I\", \"tdl\": \"Tchem\", \"novelty\": 0.00077286, \"articles\": \"http://api.newdrugtargets.org/diseases/62/targets/16721/articles\", \"importance\": 0.62327189, \"id\": 16721}, {\"name\": \"AMP deaminase 3\", \"uniprot\": \"Q01432\", \"fam\": \"Enzyme\", \"famext\": \"adenosine_and _AMP_deaminases\", \"tdl\": \"Tchem\", \"novelty\": 0.01385948, \"articles\": \"http://api.newdrugtargets.org/diseases/62/targets/1074/articles\", \"importance\": 0.04166667, \"id\": 1074}, {\"name\": \"Hepatic triacylglycerol lipase\", \"uniprot\": \"P11150\", \"fam\": \"Enzyme\", \"famext\": null, \"tdl\": \"Tchem\", \"novelty\": 0.00270148, \"articles\": \"http://api.newdrugtargets.org/diseases/62/targets/9531/articles\", \"importance\": 0.0625, \"id\": 9531}, {\"name\": \"Complement decay-accelerating factor\", \"uniprot\": \"P08174\", \"fam\": null, \"famext\": null, \"tdl\": \"Tbio\", \"novelty\": 0.00088059, \"articles\": \"http://api.newdrugtargets.org/diseases/62/targets/4047/articles\", \"importance\": 0.0379867, \"id\": 4047}, {\"name\": \"cAMP-specific 3',5'-cyclic phosphodiesterase 4A\", \"uniprot\": \"P27815\", \"fam\": \"Enzyme\", \"famext\": \"cyclic nucleotide phosphodiesterase\", \"tdl\": \"Tclin\", \"novelty\": 0.00083502, \"articles\": \"http://api.newdrugtargets.org/diseases/62/targets/12769/articles\", \"importance\": 0.08333333, \"id\": 12769}, {\"name\": \"Cystic fibrosis transmembrane conductance regulator\", \"uniprot\": \"P13569\", \"fam\": \"IC\", \"famext\": \"IC\", \"tdl\": \"Tclin\", \"novelty\": 0.00016064, \"articles\": \"http://api.newdrugtargets.org/diseases/62/targets/3299/articles\", \"importance\": 0.06876457, \"id\": 3299}, {\"name\": \"C-X-C chemokine receptor type 4\", \"uniprot\": \"P61073\", \"fam\": \"GPCR\", \"famext\": \"GPCR\", \"tdl\": \"Tclin\", \"novelty\": 0.00038365, \"articles\": \"http://api.newdrugtargets.org/diseases/62/targets/4120/articles\", \"importance\": 0.025, \"id\": 4120}, {\"name\": \"2-oxoisovalerate dehydrogenase subunit alpha, mitochondrial\", \"uniprot\": \"P12694\", \"fam\": \"Enzyme\", \"famext\": null, \"tdl\": \"Tbio\", \"novelty\": 0.00142014, \"articles\": \"http://api.newdrugtargets.org/diseases/62/targets/11891/articles\", \"importance\": 24.57064056, \"id\": 11891}, {\"name\": \"GTPase HRas\", \"uniprot\": \"P01112\", \"fam\": \"Enzyme\", \"famext\": \"small GTPase\", \"tdl\": \"Tchem\", \"novelty\": 9.705e-05, \"articles\": \"http://api.newdrugtargets.org/diseases/62/targets/14098/articles\", \"importance\": 0.26147772, \"id\": 14098}, {\"name\": \"Free fatty acid receptor 2\", \"uniprot\": \"O15552\", \"fam\": \"GPCR\", \"famext\": \"GPCR\", \"tdl\": \"Tbio\", \"novelty\": 0.0074787, \"articles\": \"http://api.newdrugtargets.org/diseases/62/targets/6167/articles\", \"importance\": 0.03125, \"id\": 6167}, {\"name\": \"Serine/threonine-protein kinase SIK1\", \"uniprot\": \"P57059\", \"fam\": \"Kinase\", \"famext\": \"Kinase\", \"tdl\": \"Tchem\", \"novelty\": 0.0012783, \"articles\": \"http://api.newdrugtargets.org/diseases/62/targets/15161/articles\", \"importance\": 0.89918027, \"id\": 15161}, {\"name\": \"Glucose-6-phosphate isomerase\", \"uniprot\": \"P06744\", \"fam\": \"Enzyme\", \"famext\": null, \"tdl\": \"Tbio\", \"novelty\": 0.00134572, \"articles\": \"http://api.newdrugtargets.org/diseases/62/targets/6317/articles\", \"importance\": 0.03001792, \"id\": 6317}, {\"name\": \"Delta-like protein 1\", \"uniprot\": \"O00548\", \"fam\": null, \"famext\": null, \"tdl\": \"Tbio\", \"novelty\": 0.00080585, \"articles\": \"http://api.newdrugtargets.org/diseases/62/targets/4433/articles\", \"importance\": 0.03333333, \"id\": 4433}, {\"name\": \"Latent-transforming growth factor beta-binding protein 3\", \"uniprot\": \"Q9NS15\", \"fam\": null, \"famext\": null, \"tdl\": \"Tbio\", \"novelty\": 0.00071947, \"articles\": \"http://api.newdrugtargets.org/diseases/62/targets/10014/articles\", \"importance\": 0.04166667, \"id\": 10014}, {\"name\": \"Homeobox protein Hox-A1\", \"uniprot\": \"P49639\", \"fam\": \"TF\", \"famext\": \"TF\", \"tdl\": \"Tbio\", \"novelty\": 0.00915285, \"articles\": \"http://api.newdrugtargets.org/diseases/62/targets/8623/articles\", \"importance\": 0.125, \"id\": 8623}, {\"name\": \"Calcium-binding and coiled-coil domain-containing protein 2\", \"uniprot\": \"Q13137\", \"fam\": null, \"famext\": null, \"tdl\": \"Tbio\", \"novelty\": 0.00385743, \"articles\": \"http://api.newdrugtargets.org/diseases/62/targets/1960/articles\", \"importance\": 0.125, \"id\": 1960}, {\"name\": \"Ketimine reductase mu-crystallin\", \"uniprot\": \"Q14894\", \"fam\": \"Enzyme\", \"famext\": null, \"tdl\": \"Tbio\", \"novelty\": 0.01965883, \"articles\": \"http://api.newdrugtargets.org/diseases/62/targets/4060/articles\", \"importance\": 0.03333333, \"id\": 4060}, {\"name\": \"Coagulation factor XII\", \"uniprot\": \"P00748\", \"fam\": \"Enzyme\", \"famext\": \"peptidase\", \"tdl\": \"Tchem\", \"novelty\": 0.00136935, \"articles\": \"http://api.newdrugtargets.org/diseases/62/targets/5922/articles\", \"importance\": 0.51417148, \"id\": 5922}, {\"name\": \"ATP-binding cassette sub-family G member 1\", \"uniprot\": \"P45844\", \"fam\": \"Transporter\", \"famext\": \"ATP_binding_cassette_Transporter\", \"tdl\": \"Tbio\", \"novelty\": 0.00297157, \"articles\": \"http://api.newdrugtargets.org/diseases/62/targets/135/articles\", \"importance\": 0.01086957, \"id\": 135}, {\"name\": \"Bone morphogenetic protein 7\", \"uniprot\": \"P18075\", \"fam\": null, \"famext\": null, \"tdl\": \"Tbio\", \"novelty\": 0.00068882, \"articles\": \"http://api.newdrugtargets.org/diseases/62/targets/2013/articles\", \"importance\": 0.00793651, \"id\": 2013}, {\"name\": \"Thioredoxin reductase 2, mitochondrial\", \"uniprot\": \"Q9NNW7\", \"fam\": \"Enzyme\", \"famext\": null, \"tdl\": \"Tbio\", \"novelty\": 0.00220965, \"articles\": \"http://api.newdrugtargets.org/diseases/62/targets/18796/articles\", \"importance\": 0.02380952, \"id\": 18796}, {\"name\": \"Galactoside 2-alpha-L-fucosyltransferase 2\", \"uniprot\": \"Q10981\", \"fam\": \"Enzyme\", \"famext\": \"glycosyltransferase\", \"tdl\": \"Tbio\", \"novelty\": 0.00086973, \"articles\": \"http://api.newdrugtargets.org/diseases/62/targets/6284/articles\", \"importance\": 0.0625, \"id\": 6284}, {\"name\": \"Nucleotide-binding oligomerization domain-containing protein 1\", \"uniprot\": \"Q9Y239\", \"fam\": null, \"famext\": null, \"tdl\": \"Tchem\", \"novelty\": 0.00337956, \"articles\": \"http://api.newdrugtargets.org/diseases/62/targets/11308/articles\", \"importance\": 0.00925926, \"id\": 11308}, {\"name\": \"ATP-binding cassette sub-family G member 5\", \"uniprot\": \"Q9H222\", \"fam\": \"Transporter\", \"famext\": \"ATP_binding_cassette_Transporter\", \"tdl\": \"Tbio\", \"novelty\": 0.00508389, \"articles\": \"http://api.newdrugtargets.org/diseases/62/targets/463/articles\", \"importance\": 0.09583333, \"id\": 463}, {\"name\": \"Calcineurin-binding protein cabin-1\", \"uniprot\": \"Q9Y6J0\", \"fam\": null, \"famext\": null, \"tdl\": \"Tbio\", \"novelty\": 0.00042488, \"articles\": \"http://api.newdrugtargets.org/diseases/62/targets/1953/articles\", \"importance\": 0.22662338, \"id\": 1953}, {\"name\": \"FAS-associated death domain protein\", \"uniprot\": \"Q13158\", \"fam\": null, \"famext\": null, \"tdl\": \"Tbio\", \"novelty\": 0.00199145, \"articles\": \"http://api.newdrugtargets.org/diseases/62/targets/5450/articles\", \"importance\": 0.01666667, \"id\": 5450}, {\"name\": \"Ribose-phosphate pyrophosphokinase 2\", \"uniprot\": \"P11908\", \"fam\": \"Kinase\", \"famext\": \"Kinase\", \"tdl\": \"Tbio\", \"novelty\": 0.01988666, \"articles\": \"http://api.newdrugtargets.org/diseases/62/targets/13588/articles\", \"importance\": 0.48827214, \"id\": 13588}, {\"name\": \"Forkhead box protein M1\", \"uniprot\": \"Q08050\", \"fam\": \"TF\", \"famext\": \"TF\", \"tdl\": \"Tbio\", \"novelty\": 0.00070097, \"articles\": \"http://api.newdrugtargets.org/diseases/62/targets/6261/articles\", \"importance\": 0.03125, \"id\": 6261}, {\"name\": \"Solute carrier organic anion transporter family member 2A1\", \"uniprot\": \"Q92959\", \"fam\": \"Transporter\", \"famext\": \"SLCO2_transporter\", \"tdl\": \"Tbio\", \"novelty\": 0.00155111, \"articles\": \"http://api.newdrugtargets.org/diseases/62/targets/16360/articles\", \"importance\": 0.05, \"id\": 16360}, {\"name\": \"Nuclear receptor ROR-gamma\", \"uniprot\": \"P51449\", \"fam\": \"NR\", \"famext\": \"NR\", \"tdl\": \"Tchem\", \"novelty\": 0.00673618, \"articles\": \"http://api.newdrugtargets.org/diseases/62/targets/14837/articles\", \"importance\": 0.01111111, \"id\": 14837}, {\"name\": \"Myeloid differentiation primary response protein MyD88\", \"uniprot\": \"Q99836\", \"fam\": null, \"famext\": null, \"tdl\": \"Tbio\", \"novelty\": 0.00054017, \"articles\": \"http://api.newdrugtargets.org/diseases/62/targets/10693/articles\", \"importance\": 0.2632944, \"id\": 10693}, {\"name\": \"Thyroglobulin\", \"uniprot\": \"P01266\", \"fam\": null, \"famext\": null, \"tdl\": \"Tbio\", \"novelty\": 0.00012979, \"articles\": \"http://api.newdrugtargets.org/diseases/62/targets/17140/articles\", \"importance\": 0.09090909, \"id\": 17140}, {\"name\": \"Cellular tumor antigen p53\", \"uniprot\": \"P04637\", \"fam\": \"TF\", \"famext\": \"TF\", \"tdl\": \"Tchem\", \"novelty\": 1.815e-05, \"articles\": \"http://api.newdrugtargets.org/diseases/62/targets/12488/articles\", \"importance\": 0.07777778, \"id\": 12488}, {\"name\": \"Dynamin-1\", \"uniprot\": \"Q05193\", \"fam\": null, \"famext\": null, \"tdl\": \"Tbio\", \"novelty\": 0.00210419, \"articles\": \"http://api.newdrugtargets.org/diseases/62/targets/4839/articles\", \"importance\": 0.0625, \"id\": 4839}, {\"name\": \"Fms-related tyrosine kinase 3 ligand\", \"uniprot\": \"P49771\", \"fam\": \"Enzyme\", \"famext\": null, \"tdl\": \"Tbio\", \"novelty\": 0.0048959, \"articles\": \"http://api.newdrugtargets.org/diseases/62/targets/6239/articles\", \"importance\": 0.01234568, \"id\": 6239}, {\"name\": \"Tumor necrosis factor receptor superfamily member 11A\", \"uniprot\": \"Q9Y6Q6\", \"fam\": null, \"famext\": null, \"tdl\": \"Tbio\", \"novelty\": 0.00054352, \"articles\": \"http://api.newdrugtargets.org/diseases/62/targets/18159/articles\", \"importance\": 0.025, \"id\": 18159}, {\"name\": \"Proto-oncogene tyrosine-protein kinase Src\", \"uniprot\": \"P12931\", \"fam\": \"Kinase\", \"famext\": \"Kinase\", \"tdl\": \"Tclin\", \"novelty\": 9.933e-05, \"articles\": \"http://api.newdrugtargets.org/diseases/62/targets/16099/articles\", \"importance\": 0.16061508, \"id\": 16099}, {\"name\": \"ETS translocation variant 3\", \"uniprot\": \"P41162\", \"fam\": \"TF\", \"famext\": \"TF\", \"tdl\": \"Tbio\", \"novelty\": 0.00054509, \"articles\": \"http://api.newdrugtargets.org/diseases/62/targets/5872/articles\", \"importance\": 0.05882353, \"id\": 5872}, {\"name\": \"Peripheral plasma membrane protein CASK\", \"uniprot\": \"O14936\", \"fam\": \"Kinase\", \"famext\": \"Kinase\", \"tdl\": \"Tchem\", \"novelty\": 0.00754374, \"articles\": \"http://api.newdrugtargets.org/diseases/62/targets/4266/articles\", \"importance\": 0.07692308, \"id\": 4266}, {\"name\": \"Putative inactive group IIC secretory phospholipase A2\", \"uniprot\": \"Q5R387\", \"fam\": \"Enzyme\", \"famext\": null, \"tdl\": \"Tchem\", \"novelty\": 0.00046733, \"articles\": \"http://api.newdrugtargets.org/diseases/62/targets/12284/articles\", \"importance\": 0.09090909, \"id\": 12284}, {\"name\": \"Transcription factor AP-2-alpha\", \"uniprot\": \"P05549\", \"fam\": \"TF\", \"famext\": \"TF\", \"tdl\": \"Tbio\", \"novelty\": 0.00327986, \"articles\": \"http://api.newdrugtargets.org/diseases/62/targets/1089/articles\", \"importance\": 0.0625, \"id\": 1089}, {\"name\": \"UbiA prenyltransferase domain-containing protein 1\", \"uniprot\": \"Q9Y5Z9\", \"fam\": \"Enzyme\", \"famext\": null, \"tdl\": \"Tbio\", \"novelty\": 0.02518111, \"articles\": \"http://api.newdrugtargets.org/diseases/62/targets/18559/articles\", \"importance\": 0.00900901, \"id\": 18559}, {\"name\": \"Reelin\", \"uniprot\": \"P78509\", \"fam\": null, \"famext\": null, \"tdl\": \"Tbio\", \"novelty\": 0.00164988, \"articles\": \"http://api.newdrugtargets.org/diseases/62/targets/14188/articles\", \"importance\": 0.04545455, \"id\": 14188}, {\"name\": \"C-C motif chemokine 3\", \"uniprot\": \"P10147\", \"fam\": null, \"famext\": null, \"tdl\": \"Tbio\", \"novelty\": 0.0006882, \"articles\": \"http://api.newdrugtargets.org/diseases/62/targets/2432/articles\", \"importance\": 0.09578373, \"id\": 2432}, {\"name\": \"Acrosin\", \"uniprot\": \"P10323\", \"fam\": \"Enzyme\", \"famext\": \"peptidase\", \"tdl\": \"Tchem\", \"novelty\": 0.00094615, \"articles\": \"http://api.newdrugtargets.org/diseases/62/targets/156/articles\", \"importance\": 0.09090909, \"id\": 156}, {\"name\": \"Thioredoxin-related transmembrane protein 1\", \"uniprot\": \"Q9H3N1\", \"fam\": null, \"famext\": null, \"tdl\": \"Tbio\", \"novelty\": 0.01752775, \"articles\": \"http://api.newdrugtargets.org/diseases/62/targets/18150/articles\", \"importance\": 0.125, \"id\": 18150}, {\"name\": \"Galectin-9\", \"uniprot\": \"O00182\", \"fam\": null, \"famext\": null, \"tdl\": \"Tchem\", \"novelty\": 0.00501771, \"articles\": \"http://api.newdrugtargets.org/diseases/62/targets/8874/articles\", \"importance\": 0.09632937, \"id\": 8874}, {\"name\": \"N-acetyllactosaminide beta-1,3-N-acetylglucosaminyltransferase 4\", \"uniprot\": \"Q9C0J1\", \"fam\": \"Enzyme\", \"famext\": \"glycosyltransferase\", \"tdl\": \"Tbio\", \"novelty\": 0.70601561, \"articles\": \"http://api.newdrugtargets.org/diseases/62/targets/1352/articles\", \"importance\": 0.00735294, \"id\": 1352}, {\"name\": \"P-selectin\", \"uniprot\": \"P16109\", \"fam\": null, \"famext\": null, \"tdl\": \"Tchem\", \"novelty\": 0.00024598, \"articles\": \"http://api.newdrugtargets.org/diseases/62/targets/9588/articles\", \"importance\": 0.15, \"id\": 9588}, {\"name\": \"Triggering receptor expressed on myeloid cells 1\", \"uniprot\": \"Q9NP99\", \"fam\": null, \"famext\": null, \"tdl\": \"Tbio\", \"novelty\": 0.00311243, \"articles\": \"http://api.newdrugtargets.org/diseases/62/targets/18241/articles\", \"importance\": 0.28219697, \"id\": 18241}, {\"name\": \"HLA class I histocompatibility antigen, B-51 alpha chain\", \"uniprot\": \"P18464\", \"fam\": null, \"famext\": null, \"tdl\": \"Tbio\", \"novelty\": 0.01295613, \"articles\": \"http://api.newdrugtargets.org/diseases/62/targets/18/articles\", \"importance\": 0.00848339, \"id\": 18}, {\"name\": \"Atrophin-1\", \"uniprot\": \"P54259\", \"fam\": null, \"famext\": null, \"tdl\": \"Tbio\", \"novelty\": 0.00370887, \"articles\": \"http://api.newdrugtargets.org/diseases/62/targets/1491/articles\", \"importance\": 0.12382112, \"id\": 1491}, {\"name\": \"Pannexin-1\", \"uniprot\": \"Q96RD7\", \"fam\": \"IC\", \"famext\": \"IC\", \"tdl\": \"Tbio\", \"novelty\": 0.00251839, \"articles\": \"http://api.newdrugtargets.org/diseases/62/targets/11793/articles\", \"importance\": 0.33585859, \"id\": 11793}, {\"name\": \"Adenosine kinase\", \"uniprot\": \"P55263\", \"fam\": \"Kinase\", \"famext\": \"Kinase\", \"tdl\": \"Tchem\", \"novelty\": 0.00290099, \"articles\": \"http://api.newdrugtargets.org/diseases/62/targets/77/articles\", \"importance\": 0.125, \"id\": 77}, {\"name\": \"Deoxyribonuclease-1\", \"uniprot\": \"P24855\", \"fam\": \"Enzyme\", \"famext\": null, \"tdl\": \"Tchem\", \"novelty\": 0.0024607, \"articles\": \"http://api.newdrugtargets.org/diseases/62/targets/4774/articles\", \"importance\": 0.04017857, \"id\": 4774}, {\"name\": \"HLA class I histocompatibility antigen, B-56 alpha chain\", \"uniprot\": \"P30495\", \"fam\": null, \"famext\": null, \"tdl\": \"Tbio\", \"novelty\": 0.01295613, \"articles\": \"http://api.newdrugtargets.org/diseases/62/targets/364/articles\", \"importance\": 0.00848339, \"id\": 364}, {\"name\": \"Neutrophil gelatinase-associated lipocalin\", \"uniprot\": \"P80188\", \"fam\": \"Enzyme\", \"famext\": \"calycin superfamily\", \"tdl\": \"Tbio\", \"novelty\": 0.00044486, \"articles\": \"http://api.newdrugtargets.org/diseases/62/targets/11380/articles\", \"importance\": 0.05, \"id\": 11380}, {\"name\": \"Transforming growth factor beta-1\", \"uniprot\": \"P01137\", \"fam\": null, \"famext\": null, \"tdl\": \"Tchem\", \"novelty\": 0.0001423, \"articles\": \"http://api.newdrugtargets.org/diseases/62/targets/17534/articles\", \"importance\": 0.40104167, \"id\": 17534}, {\"name\": \"Catenin beta-1\", \"uniprot\": \"P35222\", \"fam\": null, \"famext\": null, \"tdl\": \"Tchem\", \"novelty\": 0.00010012, \"articles\": \"http://api.newdrugtargets.org/diseases/62/targets/4096/articles\", \"importance\": 0.02272727, \"id\": 4096}, {\"name\": \"Sodium/hydrogen exchanger 10\", \"uniprot\": \"Q4G0N8\", \"fam\": \"Transporter\", \"famext\": \"SLC9C_transporter\", \"tdl\": \"Tdark\", \"novelty\": 0.00613532, \"articles\": \"http://api.newdrugtargets.org/diseases/62/targets/15955/articles\", \"importance\": 0.125, \"id\": 15955}, {\"name\": \"CD2-associated protein\", \"uniprot\": \"Q9Y5K6\", \"fam\": null, \"famext\": null, \"tdl\": \"Tbio\", \"novelty\": 0.00035865, \"articles\": \"http://api.newdrugtargets.org/diseases/62/targets/2355/articles\", \"importance\": 0.01010101, \"id\": 2355}, {\"name\": \"HLA class I histocompatibility antigen, B-67 alpha chain\", \"uniprot\": \"Q29836\", \"fam\": null, \"famext\": null, \"tdl\": \"Tbio\", \"novelty\": 0.01295613, \"articles\": \"http://api.newdrugtargets.org/diseases/62/targets/89/articles\", \"importance\": 0.00848339, \"id\": 89}, {\"name\": \"HLA class I histocompatibility antigen, B-46 alpha chain\", \"uniprot\": \"P30484\", \"fam\": null, \"famext\": null, \"tdl\": \"Tbio\", \"novelty\": 0.01295613, \"articles\": \"http://api.newdrugtargets.org/diseases/62/targets/362/articles\", \"importance\": 0.00848339, \"id\": 362}, {\"name\": \"TRAF family member-associated NF-kappa-B activator\", \"uniprot\": \"Q92844\", \"fam\": null, \"famext\": null, \"tdl\": \"Tbio\", \"novelty\": 0.01513855, \"articles\": \"http://api.newdrugtargets.org/diseases/62/targets/16753/articles\", \"importance\": 0.01098901, \"id\": 16753}, {\"name\": \"Phosphoribosyl pyrophosphate synthase-associated protein 1\", \"uniprot\": \"Q14558\", \"fam\": \"Enzyme\", \"famext\": null, \"tdl\": \"Tbio\", \"novelty\": 0.08325899, \"articles\": \"http://api.newdrugtargets.org/diseases/62/targets/8463/articles\", \"importance\": 0.06155303, \"id\": 8463}, {\"name\": \"Serotransferrin\", \"uniprot\": \"P02787\", \"fam\": null, \"famext\": null, \"tdl\": \"Tbio\", \"novelty\": 7.068e-05, \"articles\": \"http://api.newdrugtargets.org/diseases/62/targets/17844/articles\", \"importance\": 0.31256713, \"id\": 17844}, {\"name\": \"Inhibin beta B chain\", \"uniprot\": \"P09529\", \"fam\": null, \"famext\": null, \"tdl\": \"Tbio\", \"novelty\": 0.031447, \"articles\": \"http://api.newdrugtargets.org/diseases/62/targets/7974/articles\", \"importance\": 0.03942365, \"id\": 7974}, {\"name\": \"Glyceraldehyde-3-phosphate dehydrogenase\", \"uniprot\": \"P04406\", \"fam\": \"Enzyme\", \"famext\": null, \"tdl\": \"Tchem\", \"novelty\": 0.00020802, \"articles\": \"http://api.newdrugtargets.org/diseases/62/targets/6212/articles\", \"importance\": 0.14772727, \"id\": 6212}, {\"name\": \"Protein AMBP\", \"uniprot\": \"P02760\", \"fam\": null, \"famext\": null, \"tdl\": \"Tbio\", \"novelty\": 0.00245294, \"articles\": \"http://api.newdrugtargets.org/diseases/62/targets/1190/articles\", \"importance\": 0.02173913, \"id\": 1190}, {\"name\": \"Myosin-1\", \"uniprot\": \"P12882\", \"fam\": null, \"famext\": null, \"tdl\": \"Tbio\", \"novelty\": 0.01141524, \"articles\": \"http://api.newdrugtargets.org/diseases/62/targets/10994/articles\", \"importance\": 0.02272727, \"id\": 10994}, {\"name\": \"Troponin I, cardiac muscle\", \"uniprot\": \"P19429\", \"fam\": null, \"famext\": null, \"tdl\": \"Tbio\", \"novelty\": 0.00028002, \"articles\": \"http://api.newdrugtargets.org/diseases/62/targets/17727/articles\", \"importance\": 0.01515152, \"id\": 17727}, {\"name\": \"Cyclin-dependent kinase 9\", \"uniprot\": \"P50750\", \"fam\": \"Kinase\", \"famext\": \"Kinase\", \"tdl\": \"Tchem\", \"novelty\": 0.00096506, \"articles\": \"http://api.newdrugtargets.org/diseases/62/targets/2442/articles\", \"importance\": 0.04166667, \"id\": 2442}, {\"name\": \"Hematopoietic prostaglandin D synthase\", \"uniprot\": \"O60760\", \"fam\": \"Enzyme\", \"famext\": null, \"tdl\": \"Tchem\", \"novelty\": 0.00018151, \"articles\": \"http://api.newdrugtargets.org/diseases/62/targets/7598/articles\", \"importance\": 0.09090909, \"id\": 7598}, {\"name\": \"Protein-glutamine gamma-glutamyltransferase 2\", \"uniprot\": \"P21980\", \"fam\": \"Enzyme\", \"famext\": \"transglutaminase_superfamily\", \"tdl\": \"Tchem\", \"novelty\": 0.00060188, \"articles\": \"http://api.newdrugtargets.org/diseases/62/targets/17792/articles\", \"importance\": 0.05030303, \"id\": 17792}, {\"name\": \"Bcl-2-like protein 13\", \"uniprot\": \"Q9BXK5\", \"fam\": null, \"famext\": null, \"tdl\": \"Tbio\", \"novelty\": 0.02734169, \"articles\": \"http://api.newdrugtargets.org/diseases/62/targets/1307/articles\", \"importance\": 0.01666667, \"id\": 1307}, {\"name\": \"Amyloid-beta A4 protein\", \"uniprot\": \"P05067\", \"fam\": null, \"famext\": null, \"tdl\": \"Tchem\", \"novelty\": 0.0001018, \"articles\": \"http://api.newdrugtargets.org/diseases/62/targets/36/articles\", \"importance\": 0.02777778, \"id\": 36}, {\"name\": \"Solute carrier family 22 member 7\", \"uniprot\": \"Q9Y694\", \"fam\": \"Transporter\", \"famext\": \"SLC22A_transporter\", \"tdl\": \"Tbio\", \"novelty\": 0.00713292, \"articles\": \"http://api.newdrugtargets.org/diseases/62/targets/15721/articles\", \"importance\": 0.02272727, \"id\": 15721}, {\"name\": \"Cyclin-A2\", \"uniprot\": \"P20248\", \"fam\": null, \"famext\": null, \"tdl\": \"Tchem\", \"novelty\": 0.00461202, \"articles\": \"http://api.newdrugtargets.org/diseases/62/targets/2765/articles\", \"importance\": 0.03030303, \"id\": 2765}, {\"name\": \"Cis-aconitate decarboxylase\", \"uniprot\": \"A6NK06\", \"fam\": \"Enzyme\", \"famext\": null, \"tdl\": \"Tbio\", \"novelty\": 0.01611513, \"articles\": \"http://api.newdrugtargets.org/diseases/62/targets/7996/articles\", \"importance\": 0.01136364, \"id\": 7996}, {\"name\": \"Macrosialin\", \"uniprot\": \"P34810\", \"fam\": null, \"famext\": null, \"tdl\": \"Tbio\", \"novelty\": 0.00025227, \"articles\": \"http://api.newdrugtargets.org/diseases/62/targets/2991/articles\", \"importance\": 0.30689337, \"id\": 2991}, {\"name\": \"Macrophage receptor MARCO\", \"uniprot\": \"Q9UEW3\", \"fam\": null, \"famext\": null, \"tdl\": \"Tbio\", \"novelty\": 0.00424562, \"articles\": \"http://api.newdrugtargets.org/diseases/62/targets/10140/articles\", \"importance\": 0.05, \"id\": 10140}, {\"name\": \"Potassium voltage-gated channel subfamily H member 1\", \"uniprot\": \"O95259\", \"fam\": \"IC\", \"famext\": \"IC\", \"tdl\": \"Tclin\", \"novelty\": 0.00137685, \"articles\": \"http://api.newdrugtargets.org/diseases/62/targets/8318/articles\", \"importance\": 0.09090909, \"id\": 8318}, {\"name\": \"Vitamin K-dependent protein S\", \"uniprot\": \"P07225\", \"fam\": null, \"famext\": null, \"tdl\": \"Tbio\", \"novelty\": 0.00043262, \"articles\": \"http://api.newdrugtargets.org/diseases/62/targets/13916/articles\", \"importance\": 0.16666667, \"id\": 13916}, {\"name\": \"Tyrosine-protein kinase Mer\", \"uniprot\": \"Q12866\", \"fam\": \"Kinase\", \"famext\": \"Kinase\", \"tdl\": \"Tchem\", \"novelty\": 0.00533627, \"articles\": \"http://api.newdrugtargets.org/diseases/62/targets/10456/articles\", \"importance\": 0.05101852, \"id\": 10456}, {\"name\": \"ATP-sensitive inward rectifier potassium channel 1\", \"uniprot\": \"P48048\", \"fam\": \"IC\", \"famext\": \"IC\", \"tdl\": \"Tchem\", \"novelty\": 0.00313538, \"articles\": \"http://api.newdrugtargets.org/diseases/62/targets/8168/articles\", \"importance\": 0.01785714, \"id\": 8168}, {\"name\": \"cGMP-specific 3',5'-cyclic phosphodiesterase\", \"uniprot\": \"O76074\", \"fam\": \"Enzyme\", \"famext\": null, \"tdl\": \"Tclin\", \"novelty\": 0.00044365, \"articles\": \"http://api.newdrugtargets.org/diseases/62/targets/12630/articles\", \"importance\": 0.08333333, \"id\": 12630}, {\"name\": \"Cell surface glycoprotein MUC18\", \"uniprot\": \"P43121\", \"fam\": null, \"famext\": null, \"tdl\": \"Tbio\", \"novelty\": 0.00170724, \"articles\": \"http://api.newdrugtargets.org/diseases/62/targets/10916/articles\", \"importance\": 0.03333333, \"id\": 10916}, {\"name\": \"Melanoma-associated antigen E1\", \"uniprot\": \"Q9HCI5\", \"fam\": null, \"famext\": null, \"tdl\": \"Tbio\", \"novelty\": 0.01290878, \"articles\": \"http://api.newdrugtargets.org/diseases/62/targets/9905/articles\", \"importance\": 0.125, \"id\": 9905}, {\"name\": \"WD repeat-containing protein 1\", \"uniprot\": \"O75083\", \"fam\": null, \"famext\": null, \"tdl\": \"Tbio\", \"novelty\": 0.02315075, \"articles\": \"http://api.newdrugtargets.org/diseases/62/targets/19142/articles\", \"importance\": 0.16666667, \"id\": 19142}, {\"name\": \"NACHT, LRR and PYD domains-containing protein 6\", \"uniprot\": \"P59044\", \"fam\": null, \"famext\": null, \"tdl\": \"Tbio\", \"novelty\": 0.00120963, \"articles\": \"http://api.newdrugtargets.org/diseases/62/targets/11395/articles\", \"importance\": 0.03422619, \"id\": 11395}, {\"name\": \"HLA class I histocompatibility antigen, B-49 alpha chain\", \"uniprot\": \"P30487\", \"fam\": null, \"famext\": null, \"tdl\": \"Tbio\", \"novelty\": 0.01295613, \"articles\": \"http://api.newdrugtargets.org/diseases/62/targets/16/articles\", \"importance\": 0.00848339, \"id\": 16}, {\"name\": \"Cob(I)yrinic acid a,c-diamide adenosyltransferase, mitochondrial\", \"uniprot\": \"Q96EY8\", \"fam\": \"Enzyme\", \"famext\": null, \"tdl\": \"Tbio\", \"novelty\": 0.01614053, \"articles\": \"http://api.newdrugtargets.org/diseases/62/targets/10394/articles\", \"importance\": 0.01587302, \"id\": 10394}, {\"name\": \"X-box-binding protein 1\", \"uniprot\": \"P17861\", \"fam\": \"TF\", \"famext\": \"TF\", \"tdl\": \"Tchem\", \"novelty\": 0.00124611, \"articles\": \"http://api.newdrugtargets.org/diseases/62/targets/19078/articles\", \"importance\": 0.01923077, \"id\": 19078}, {\"name\": \"Prokineticin-2\", \"uniprot\": \"Q9HC23\", \"fam\": null, \"famext\": null, \"tdl\": \"Tbio\", \"novelty\": 0.00585606, \"articles\": \"http://api.newdrugtargets.org/diseases/62/targets/13915/articles\", \"importance\": 0.01136364, \"id\": 13915}, {\"name\": \"Cathepsin G\", \"uniprot\": \"P08311\", \"fam\": \"Enzyme\", \"famext\": \"peptidase\", \"tdl\": \"Tchem\", \"novelty\": 0.0011515, \"articles\": \"http://api.newdrugtargets.org/diseases/62/targets/1708/articles\", \"importance\": 0.0078125, \"id\": 1708}, {\"name\": \"Endosialin\", \"uniprot\": \"Q9HCU0\", \"fam\": null, \"famext\": null, \"tdl\": \"Tbio\", \"novelty\": 0.00083907, \"articles\": \"http://api.newdrugtargets.org/diseases/62/targets/2354/articles\", \"importance\": 0.02564103, \"id\": 2354}, {\"name\": \"T-box transcription factor TBX21\", \"uniprot\": \"Q9UL17\", \"fam\": \"TF\", \"famext\": \"TF\", \"tdl\": \"Tbio\", \"novelty\": 0.00111277, \"articles\": \"http://api.newdrugtargets.org/diseases/62/targets/17081/articles\", \"importance\": 0.01111111, \"id\": 17081}, {\"name\": \"Low affinity immunoglobulin gamma Fc region receptor II-c\", \"uniprot\": \"P31995\", \"fam\": null, \"famext\": null, \"tdl\": \"Tbio\", \"novelty\": 0.00241727, \"articles\": \"http://api.newdrugtargets.org/diseases/62/targets/5949/articles\", \"importance\": 0.01785714, \"id\": 5949}, {\"name\": \"Toll-interacting protein\", \"uniprot\": \"Q9H0E2\", \"fam\": null, \"famext\": null, \"tdl\": \"Tbio\", \"novelty\": 0.0133218, \"articles\": \"http://api.newdrugtargets.org/diseases/62/targets/17882/articles\", \"importance\": 0.01587302, \"id\": 17882}, {\"name\": \"Interleukin-13\", \"uniprot\": \"P35225\", \"fam\": null, \"famext\": null, \"tdl\": \"Tbio\", \"novelty\": 0.00048016, \"articles\": \"http://api.newdrugtargets.org/diseases/62/targets/8199/articles\", \"importance\": 0.00757576, \"id\": 8199}, {\"name\": \"HLA class I histocompatibility antigen, B-44 alpha chain\", \"uniprot\": \"P30481\", \"fam\": null, \"famext\": null, \"tdl\": \"Tbio\", \"novelty\": 0.01295613, \"articles\": \"http://api.newdrugtargets.org/diseases/62/targets/361/articles\", \"importance\": 0.00848339, \"id\": 361}, {\"name\": \"Gastrin\", \"uniprot\": \"P01350\", \"fam\": null, \"famext\": null, \"tdl\": \"Tbio\", \"novelty\": 0.00012426, \"articles\": \"http://api.newdrugtargets.org/diseases/62/targets/6949/articles\", \"importance\": 0.04545455, \"id\": 6949}, {\"name\": \"NAD-dependent protein deacetylase sirtuin-1\", \"uniprot\": \"Q96EB6\", \"fam\": \"Epigenetic\", \"famext\": null, \"tdl\": \"Tchem\", \"novelty\": 0.00031161, \"articles\": \"http://api.newdrugtargets.org/diseases/62/targets/15171/articles\", \"importance\": 0.0232589, \"id\": 15171}, {\"name\": \"Cathepsin S\", \"uniprot\": \"P25774\", \"fam\": \"Enzyme\", \"famext\": \"peptidase\", \"tdl\": \"Tchem\", \"novelty\": 0.00048866, \"articles\": \"http://api.newdrugtargets.org/diseases/62/targets/2380/articles\", \"importance\": 0.00625, \"id\": 2380}, {\"name\": \"Tissue-type plasminogen activator\", \"uniprot\": \"P00750\", \"fam\": \"Enzyme\", \"famext\": \"peptidase\", \"tdl\": \"Tclin\", \"novelty\": 0.00019197, \"articles\": \"http://api.newdrugtargets.org/diseases/62/targets/18170/articles\", \"importance\": 0.0922619, \"id\": 18170}, {\"name\": \"Leptin\", \"uniprot\": \"P41159\", \"fam\": null, \"famext\": null, \"tdl\": \"Tbio\", \"novelty\": 6.641e-05, \"articles\": \"http://api.newdrugtargets.org/diseases/62/targets/9160/articles\", \"importance\": 0.54749361, \"id\": 9160}, {\"name\": \"Serine/threonine-protein kinase Sgk1\", \"uniprot\": \"O00141\", \"fam\": \"Kinase\", \"famext\": \"Kinase\", \"tdl\": \"Tchem\", \"novelty\": 0.00209031, \"articles\": \"http://api.newdrugtargets.org/diseases/62/targets/16280/articles\", \"importance\": 0.03125, \"id\": 16280}, {\"name\": \"Kallistatin\", \"uniprot\": \"P29622\", \"fam\": null, \"famext\": null, \"tdl\": \"Tbio\", \"novelty\": 0.00105686, \"articles\": \"http://api.newdrugtargets.org/diseases/62/targets/8250/articles\", \"importance\": 0.04166667, \"id\": 8250}, {\"name\": \"Potassium voltage-gated channel subfamily KQT member 1\", \"uniprot\": \"P51787\", \"fam\": \"IC\", \"famext\": \"IC\", \"tdl\": \"Tclin\", \"novelty\": 0.00123952, \"articles\": \"http://api.newdrugtargets.org/diseases/62/targets/9447/articles\", \"importance\": 0.03939394, \"id\": 9447}, {\"name\": \"Paxillin\", \"uniprot\": \"P49023\", \"fam\": null, \"famext\": null, \"tdl\": \"Tbio\", \"novelty\": 0.00101304, \"articles\": \"http://api.newdrugtargets.org/diseases/62/targets/11819/articles\", \"importance\": 0.03511905, \"id\": 11819}, {\"name\": \"Sodium-coupled monocarboxylate transporter 2\", \"uniprot\": \"Q1EHB4\", \"fam\": \"Transporter\", \"famext\": \"SLC5A_transporter\", \"tdl\": \"Tdark\", \"novelty\": 0.21796656, \"articles\": \"http://api.newdrugtargets.org/diseases/62/targets/15647/articles\", \"importance\": 0.01010101, \"id\": 15647}, {\"name\": \"Solute carrier family 2, facilitated glucose transporter member 9\", \"uniprot\": \"Q9NRM0\", \"fam\": \"Transporter\", \"famext\": \"SLC2A_transporter\", \"tdl\": \"Tbio\", \"novelty\": 0.0091226, \"articles\": \"http://api.newdrugtargets.org/diseases/62/targets/7276/articles\", \"importance\": 3.54103838, \"id\": 7276}, {\"name\": \"Serum albumin\", \"uniprot\": \"P02768\", \"fam\": null, \"famext\": null, \"tdl\": \"Tchem\", \"novelty\": 9.72e-06, \"articles\": \"http://api.newdrugtargets.org/diseases/62/targets/576/articles\", \"importance\": 3.65660103, \"id\": 576}, {\"name\": \"HLA class I histocompatibility antigen, B-55 alpha chain\", \"uniprot\": \"P30493\", \"fam\": null, \"famext\": null, \"tdl\": \"Tbio\", \"novelty\": 0.01295613, \"articles\": \"http://api.newdrugtargets.org/diseases/62/targets/22/articles\", \"importance\": 0.00848339, \"id\": 22}, {\"name\": \"Leupaxin\", \"uniprot\": \"O60711\", \"fam\": null, \"famext\": null, \"tdl\": \"Tbio\", \"novelty\": 0.00639504, \"articles\": \"http://api.newdrugtargets.org/diseases/62/targets/10061/articles\", \"importance\": 0.03846154, \"id\": 10061}, {\"name\": \"Calcium uniporter protein, mitochondrial\", \"uniprot\": \"Q8NE86\", \"fam\": \"IC\", \"famext\": \"IC\", \"tdl\": \"Tbio\", \"novelty\": 0.00213427, \"articles\": \"http://api.newdrugtargets.org/diseases/62/targets/9893/articles\", \"importance\": 0.0625, \"id\": 9893}, {\"name\": \"Endoribonuclease Dicer\", \"uniprot\": \"Q9UPY3\", \"fam\": \"Enzyme\", \"famext\": \"RNase_family\", \"tdl\": \"Tbio\", \"novelty\": 0.00045523, \"articles\": \"http://api.newdrugtargets.org/diseases/62/targets/4660/articles\", \"importance\": 0.0625, \"id\": 4660}, {\"name\": \"Immediate early response 3-interacting protein 1\", \"uniprot\": \"Q9Y5U9\", \"fam\": null, \"famext\": null, \"tdl\": \"Tbio\", \"novelty\": 0.00336186, \"articles\": \"http://api.newdrugtargets.org/diseases/62/targets/8528/articles\", \"importance\": 0.0625, \"id\": 8528}, {\"name\": \"Solute carrier family 2, facilitated glucose transporter member 1\", \"uniprot\": \"P11166\", \"fam\": \"Transporter\", \"famext\": \"SLC2A_transporter\", \"tdl\": \"Tchem\", \"novelty\": 0.00035476, \"articles\": \"http://api.newdrugtargets.org/diseases/62/targets/6936/articles\", \"importance\": 0.11548822, \"id\": 6936}, {\"name\": \"Tribbles homolog 1\", \"uniprot\": \"Q96RU8\", \"fam\": \"Kinase\", \"famext\": \"Kinase\", \"tdl\": \"Tbio\", \"novelty\": 0.01804278, \"articles\": \"http://api.newdrugtargets.org/diseases/62/targets/17932/articles\", \"importance\": 0.01041667, \"id\": 17932}, {\"name\": \"Insulin-like growth factor I\", \"uniprot\": \"P05019\", \"fam\": null, \"famext\": null, \"tdl\": \"Tbio\", \"novelty\": 4.7e-05, \"articles\": \"http://api.newdrugtargets.org/diseases/62/targets/8038/articles\", \"importance\": 0.07734205, \"id\": 8038}, {\"name\": \"Dickkopf-related protein 1\", \"uniprot\": \"O94907\", \"fam\": null, \"famext\": null, \"tdl\": \"Tchem\", \"novelty\": 0.00161174, \"articles\": \"http://api.newdrugtargets.org/diseases/62/targets/4669/articles\", \"importance\": 0.03571429, \"id\": 4669}, {\"name\": \"Multidrug resistance protein 1\", \"uniprot\": \"P08183\", \"fam\": \"Transporter\", \"famext\": \"ATP_binding_cassette_Transporter\", \"tdl\": \"Tchem\", \"novelty\": 0.00024084, \"articles\": \"http://api.newdrugtargets.org/diseases/62/targets/9948/articles\", \"importance\": 0.23068182, \"id\": 9948}, {\"name\": \"Acrosomal protein SP-10\", \"uniprot\": \"P26436\", \"fam\": null, \"famext\": null, \"tdl\": \"Tbio\", \"novelty\": 0.00498308, \"articles\": \"http://api.newdrugtargets.org/diseases/62/targets/955/articles\", \"importance\": 0.02380952, \"id\": 955}, {\"name\": \"HLA class I histocompatibility antigen, B-14 alpha chain\", \"uniprot\": \"P30462\", \"fam\": null, \"famext\": null, \"tdl\": \"Tbio\", \"novelty\": 0.01295613, \"articles\": \"http://api.newdrugtargets.org/diseases/62/targets/8/articles\", \"importance\": 0.00848339, \"id\": 8}, {\"name\": \"Tumor necrosis factor\", \"uniprot\": \"P01375\", \"fam\": null, \"famext\": null, \"tdl\": \"Tclin\", \"novelty\": 1.914e-05, \"articles\": \"http://api.newdrugtargets.org/diseases/62/targets/17609/articles\", \"importance\": 3.44995873, \"id\": 17609}, {\"name\": \"Low affinity immunoglobulin gamma Fc region receptor III-A\", \"uniprot\": \"P08637\", \"fam\": null, \"famext\": null, \"tdl\": \"Tbio\", \"novelty\": 0.00055995, \"articles\": \"http://api.newdrugtargets.org/diseases/62/targets/5823/articles\", \"importance\": 0.07738095, \"id\": 5823}, {\"name\": \"Mitogen-activated protein kinase 8\", \"uniprot\": \"P45983\", \"fam\": \"Kinase\", \"famext\": \"Kinase\", \"tdl\": \"Tchem\", \"novelty\": 0.00015397, \"articles\": \"http://api.newdrugtargets.org/diseases/62/targets/10467/articles\", \"importance\": 0.06820437, \"id\": 10467}, {\"name\": \"Tyrosine-protein kinase BAZ1B\", \"uniprot\": \"Q9UIG0\", \"fam\": \"Epigenetic\", \"famext\": null, \"tdl\": \"Tbio\", \"novelty\": 0.03497293, \"articles\": \"http://api.newdrugtargets.org/diseases/62/targets/2165/articles\", \"importance\": 0.00735294, \"id\": 2165}, {\"name\": \"CD276 antigen\", \"uniprot\": \"Q5ZPR3\", \"fam\": null, \"famext\": null, \"tdl\": \"Tbio\", \"novelty\": 0.00093026, \"articles\": \"http://api.newdrugtargets.org/diseases/62/targets/2981/articles\", \"importance\": 0.0625, \"id\": 2981}, {\"name\": \"Protein-tyrosine kinase 2-beta\", \"uniprot\": \"Q14289\", \"fam\": \"Kinase\", \"famext\": \"Kinase\", \"tdl\": \"Tchem\", \"novelty\": 0.00206897, \"articles\": \"http://api.newdrugtargets.org/diseases/62/targets/5803/articles\", \"importance\": 0.02083333, \"id\": 5803}, {\"name\": \"C-X-C motif chemokine 10\", \"uniprot\": \"P02778\", \"fam\": null, \"famext\": null, \"tdl\": \"Tbio\", \"novelty\": 0.00053557, \"articles\": \"http://api.newdrugtargets.org/diseases/62/targets/4027/articles\", \"importance\": 0.09540598, \"id\": 4027}, {\"name\": \"Disintegrin and metalloproteinase domain-containing protein 17\", \"uniprot\": \"P78536\", \"fam\": \"Enzyme\", \"famext\": \"peptidase\", \"tdl\": \"Tchem\", \"novelty\": 0.00028044, \"articles\": \"http://api.newdrugtargets.org/diseases/62/targets/61/articles\", \"importance\": 0.01234568, \"id\": 61}, {\"name\": \"Spectrin alpha chain, erythrocytic 1\", \"uniprot\": \"P02549\", \"fam\": null, \"famext\": null, \"tdl\": \"Tbio\", \"novelty\": 0.00115745, \"articles\": \"http://api.newdrugtargets.org/diseases/62/targets/15847/articles\", \"importance\": 0.75324675, \"id\": 15847}, {\"name\": \"Metalloproteinase inhibitor 3\", \"uniprot\": \"P35625\", \"fam\": \"Enzyme\", \"famext\": null, \"tdl\": \"Tbio\", \"novelty\": 0.00173151, \"articles\": \"http://api.newdrugtargets.org/diseases/62/targets/17150/articles\", \"importance\": 0.03125, \"id\": 17150}, {\"name\": \"Annexin A1\", \"uniprot\": \"P04083\", \"fam\": null, \"famext\": null, \"tdl\": \"Tbio\", \"novelty\": 0.00123413, \"articles\": \"http://api.newdrugtargets.org/diseases/62/targets/1026/articles\", \"importance\": 0.08333333, \"id\": 1026}, {\"name\": \"Inhibin beta C chain\", \"uniprot\": \"P55103\", \"fam\": null, \"famext\": null, \"tdl\": \"Tbio\", \"novelty\": 0.08234837, \"articles\": \"http://api.newdrugtargets.org/diseases/62/targets/8487/articles\", \"importance\": 0.10370879, \"id\": 8487}, {\"name\": \"Caspase-3\", \"uniprot\": \"P42574\", \"fam\": \"Enzyme\", \"famext\": \"peptidase\", \"tdl\": \"Tchem\", \"novelty\": 4.774e-05, \"articles\": \"http://api.newdrugtargets.org/diseases/62/targets/2298/articles\", \"importance\": 0.15814394, \"id\": 2298}, {\"name\": \"Activin receptor type-1B\", \"uniprot\": \"P36896\", \"fam\": \"Kinase\", \"famext\": \"Kinase\", \"tdl\": \"Tchem\", \"novelty\": 0.00987411, \"articles\": \"http://api.newdrugtargets.org/diseases/62/targets/312/articles\", \"importance\": 0.00735294, \"id\": 312}, {\"name\": \"DNA topoisomerase 3-alpha\", \"uniprot\": \"Q13472\", \"fam\": \"Enzyme\", \"famext\": null, \"tdl\": \"Tbio\", \"novelty\": 0.00166354, \"articles\": \"http://api.newdrugtargets.org/diseases/62/targets/17737/articles\", \"importance\": 0.08101852, \"id\": 17737}, {\"name\": \"Versican core protein\", \"uniprot\": \"P13611\", \"fam\": null, \"famext\": null, \"tdl\": \"Tbio\", \"novelty\": 0.00130315, \"articles\": \"http://api.newdrugtargets.org/diseases/62/targets/3652/articles\", \"importance\": 0.03125, \"id\": 3652}, {\"name\": \"Nephrocystin-1\", \"uniprot\": \"O15259\", \"fam\": null, \"famext\": null, \"tdl\": \"Tbio\", \"novelty\": 0.01731835, \"articles\": \"http://api.newdrugtargets.org/diseases/62/targets/11539/articles\", \"importance\": 0.02002315, \"id\": 11539}, {\"name\": \"Progressive ankylosis protein homolog\", \"uniprot\": \"Q9HCJ1\", \"fam\": null, \"famext\": null, \"tdl\": \"Tbio\", \"novelty\": 0.00930246, \"articles\": \"http://api.newdrugtargets.org/diseases/62/targets/1016/articles\", \"importance\": 0.13135027, \"id\": 1016}, {\"name\": \"Solute carrier family 22 member 13\", \"uniprot\": \"Q9Y226\", \"fam\": \"Transporter\", \"famext\": \"SLC22A_transporter\", \"tdl\": \"Tbio\", \"novelty\": 0.06037559, \"articles\": \"http://api.newdrugtargets.org/diseases/62/targets/15474/articles\", \"importance\": 0.01010101, \"id\": 15474}, {\"name\": \"Gamma-interferon-inducible protein 16\", \"uniprot\": \"Q16666\", \"fam\": null, \"famext\": null, \"tdl\": \"Tbio\", \"novelty\": 0.0107222, \"articles\": \"http://api.newdrugtargets.org/diseases/62/targets/7787/articles\", \"importance\": 0.00595238, \"id\": 7787}, {\"name\": \"Glycogen phosphorylase, brain form\", \"uniprot\": \"P11216\", \"fam\": \"Enzyme\", \"famext\": null, \"tdl\": \"Tbio\", \"novelty\": 0.0102747, \"articles\": \"http://api.newdrugtargets.org/diseases/62/targets/13761/articles\", \"importance\": 0.04166667, \"id\": 13761}, {\"name\": \"Aggrecan core protein\", \"uniprot\": \"P16112\", \"fam\": null, \"famext\": null, \"tdl\": \"Tbio\", \"novelty\": 0.00043413, \"articles\": \"http://api.newdrugtargets.org/diseases/62/targets/13193/articles\", \"importance\": 0.03125, \"id\": 13193}, {\"name\": \"Signal transducer and activator of transcription 1-alpha/beta\", \"uniprot\": \"P42224\", \"fam\": \"TF\", \"famext\": \"TF\", \"tdl\": \"Tchem\", \"novelty\": 0.00046721, \"articles\": \"http://api.newdrugtargets.org/diseases/62/targets/16684/articles\", \"importance\": 0.095625, \"id\": 16684}, {\"name\": \"60 kDa heat shock protein, mitochondrial\", \"uniprot\": \"P10809\", \"fam\": null, \"famext\": null, \"tdl\": \"Tbio\", \"novelty\": 0.00027556, \"articles\": \"http://api.newdrugtargets.org/diseases/62/targets/3079/articles\", \"importance\": 0.05555556, \"id\": 3079}, {\"name\": \"Low affinity immunoglobulin gamma Fc region receptor II-b\", \"uniprot\": \"P31994\", \"fam\": null, \"famext\": null, \"tdl\": \"Tbio\", \"novelty\": 0.00241727, \"articles\": \"http://api.newdrugtargets.org/diseases/62/targets/5822/articles\", \"importance\": 0.01785714, \"id\": 5822}, {\"name\": \"ATP-binding cassette sub-family F member 1\", \"uniprot\": \"Q8NE71\", \"fam\": \"Transporter\", \"famext\": \"ATP_binding_cassette_Transporter\", \"tdl\": \"Tbio\", \"novelty\": 0.06877743, \"articles\": \"http://api.newdrugtargets.org/diseases/62/targets/613/articles\", \"importance\": 0.04166667, \"id\": 613}, {\"name\": \"HLA class I histocompatibility antigen, B-39 alpha chain\", \"uniprot\": \"P30475\", \"fam\": null, \"famext\": null, \"tdl\": \"Tbio\", \"novelty\": 0.01295613, \"articles\": \"http://api.newdrugtargets.org/diseases/62/targets/359/articles\", \"importance\": 0.00848339, \"id\": 359}, {\"name\": \"Metalloproteinase inhibitor 1\", \"uniprot\": \"P01033\", \"fam\": \"Enzyme\", \"famext\": null, \"tdl\": \"Tbio\", \"novelty\": 0.00026763, \"articles\": \"http://api.newdrugtargets.org/diseases/62/targets/17149/articles\", \"importance\": 0.11282895, \"id\": 17149}, {\"name\": \"Kallikrein-4\", \"uniprot\": \"Q9Y5K2\", \"fam\": \"Enzyme\", \"famext\": \"peptidase\", \"tdl\": \"Tchem\", \"novelty\": 0.00021789, \"articles\": \"http://api.newdrugtargets.org/diseases/62/targets/8453/articles\", \"importance\": 0.02564103, \"id\": 8453}, {\"name\": \"Endothelin-2\", \"uniprot\": \"P20800\", \"fam\": null, \"famext\": null, \"tdl\": \"Tbio\", \"novelty\": 0.00220965, \"articles\": \"http://api.newdrugtargets.org/diseases/62/targets/4905/articles\", \"importance\": 0.05, \"id\": 4905}, {\"name\": \"Interleukin-6\", \"uniprot\": \"P05231\", \"fam\": null, \"famext\": null, \"tdl\": \"Tclin\", \"novelty\": 3.092e-05, \"articles\": \"http://api.newdrugtargets.org/diseases/62/targets/7928/articles\", \"importance\": 1.86393126, \"id\": 7928}, {\"name\": \"Mitogen-activated protein kinase 3\", \"uniprot\": \"P27361\", \"fam\": \"Kinase\", \"famext\": \"Kinase\", \"tdl\": \"Tchem\", \"novelty\": 0.00021764, \"articles\": \"http://api.newdrugtargets.org/diseases/62/targets/10302/articles\", \"importance\": 0.1406746, \"id\": 10302}, {\"name\": \"Transmembrane protein 171\", \"uniprot\": \"Q8WVE6\", \"fam\": null, \"famext\": null, \"tdl\": \"Tdark\", \"novelty\": 8.24242424, \"articles\": \"http://api.newdrugtargets.org/diseases/62/targets/18356/articles\", \"importance\": 0.00735294, \"id\": 18356}, {\"name\": \"Serine/threonine-protein kinase Nek7\", \"uniprot\": \"Q8TDX7\", \"fam\": \"Kinase\", \"famext\": \"Kinase\", \"tdl\": \"Tchem\", \"novelty\": 0.04844468, \"articles\": \"http://api.newdrugtargets.org/diseases/62/targets/10862/articles\", \"importance\": 0.01315789, \"id\": 10862}, {\"name\": \"Alpha-1-antitrypsin\", \"uniprot\": \"P01009\", \"fam\": null, \"famext\": null, \"tdl\": \"Tbio\", \"novelty\": 0.00017818, \"articles\": \"http://api.newdrugtargets.org/diseases/62/targets/377/articles\", \"importance\": 0.22908654, \"id\": 377}, {\"name\": \"Toll-like receptor 5\", \"uniprot\": \"O60602\", \"fam\": null, \"famext\": null, \"tdl\": \"Tbio\", \"novelty\": 0.00161138, \"articles\": \"http://api.newdrugtargets.org/diseases/62/targets/17703/articles\", \"importance\": 0.0125, \"id\": 17703}, {\"name\": \"Prostatic acid phosphatase\", \"uniprot\": \"P15309\", \"fam\": \"Enzyme\", \"famext\": \"phosphatase\", \"tdl\": \"Tchem\", \"novelty\": 0.00420481, \"articles\": \"http://api.newdrugtargets.org/diseases/62/targets/13435/articles\", \"importance\": 0.08333333, \"id\": 13435}, {\"name\": \"ERO1-like protein beta\", \"uniprot\": \"Q86YB8\", \"fam\": null, \"famext\": null, \"tdl\": \"Tbio\", \"novelty\": 0.11992093, \"articles\": \"http://api.newdrugtargets.org/diseases/62/targets/5150/articles\", \"importance\": 0.01098901, \"id\": 5150}, {\"name\": \"Interleukin-1 receptor accessory protein\", \"uniprot\": \"Q9NPH3\", \"fam\": null, \"famext\": null, \"tdl\": \"Tclin\", \"novelty\": 0.01524292, \"articles\": \"http://api.newdrugtargets.org/diseases/62/targets/8206/articles\", \"importance\": 0.01136364, \"id\": 8206}, {\"name\": \"Zinc finger protein 132\", \"uniprot\": \"P52740\", \"fam\": \"TF\", \"famext\": \"TF\", \"tdl\": \"Tdark\", \"novelty\": 0.56451613, \"articles\": \"http://api.newdrugtargets.org/diseases/62/targets/20142/articles\", \"importance\": 0.01538462, \"id\": 20142}, {\"name\": \"Calcium uptake protein 1, mitochondrial\", \"uniprot\": \"Q9BPX6\", \"fam\": null, \"famext\": null, \"tdl\": \"Tbio\", \"novelty\": 0.00303137, \"articles\": \"http://api.newdrugtargets.org/diseases/62/targets/10183/articles\", \"importance\": 0.04166667, \"id\": 10183}, {\"name\": \"HLA class I histocompatibility antigen, B-7 alpha chain\", \"uniprot\": \"P01889\", \"fam\": null, \"famext\": null, \"tdl\": \"Tbio\", \"novelty\": 0.01295613, \"articles\": \"http://api.newdrugtargets.org/diseases/62/targets/6/articles\", \"importance\": 0.00848339, \"id\": 6}, {\"name\": \"Prostaglandin G/H synthase 2\", \"uniprot\": \"P35354\", \"fam\": \"Enzyme\", \"famext\": null, \"tdl\": \"Tclin\", \"novelty\": 8.544e-05, \"articles\": \"http://api.newdrugtargets.org/diseases/62/targets/12865/articles\", \"importance\": 2.57653385, \"id\": 12865}, {\"name\": \"Galectin-3\", \"uniprot\": \"P17931\", \"fam\": null, \"famext\": null, \"tdl\": \"Tchem\", \"novelty\": 0.00042998, \"articles\": \"http://api.newdrugtargets.org/diseases/62/targets/9072/articles\", \"importance\": 0.04545455, \"id\": 9072}, {\"name\": \"Kinectin\", \"uniprot\": \"Q86UP2\", \"fam\": null, \"famext\": null, \"tdl\": \"Tbio\", \"novelty\": 0.01163833, \"articles\": \"http://api.newdrugtargets.org/diseases/62/targets/9145/articles\", \"importance\": 0.04545455, \"id\": 9145}, {\"name\": \"DCC-interacting protein 13-alpha\", \"uniprot\": \"Q9UKG1\", \"fam\": null, \"famext\": null, \"tdl\": \"Tbio\", \"novelty\": 0.00176425, \"articles\": \"http://api.newdrugtargets.org/diseases/62/targets/4808/articles\", \"importance\": 0.08744456, \"id\": 4808}, {\"name\": \"Transcription factor Maf\", \"uniprot\": \"O75444\", \"fam\": \"TF\", \"famext\": \"TF\", \"tdl\": \"Tbio\", \"novelty\": 0.00124167, \"articles\": \"http://api.newdrugtargets.org/diseases/62/targets/9704/articles\", \"importance\": 0.09941823, \"id\": 9704}, {\"name\": \"Matrix metalloproteinase-9\", \"uniprot\": \"P14780\", \"fam\": \"Enzyme\", \"famext\": null, \"tdl\": \"Tchem\", \"novelty\": 0.00010939, \"articles\": \"http://api.newdrugtargets.org/diseases/62/targets/10414/articles\", \"importance\": 0.36299429, \"id\": 10414}, {\"name\": \"Steroid 17-alpha-hydroxylase/17,20 lyase\", \"uniprot\": \"P05093\", \"fam\": \"Enzyme\", \"famext\": \"cytochrome_P450\", \"tdl\": \"Tclin\", \"novelty\": 0.00079921, \"articles\": \"http://api.newdrugtargets.org/diseases/62/targets/4215/articles\", \"importance\": 0.00724638, \"id\": 4215}, {\"name\": \"C-C chemokine receptor type 5\", \"uniprot\": \"P51681\", \"fam\": \"GPCR\", \"famext\": \"GPCR\", \"tdl\": \"Tclin\", \"novelty\": 0.00025185, \"articles\": \"http://api.newdrugtargets.org/diseases/62/targets/3104/articles\", \"importance\": 0.025, \"id\": 3104}, {\"name\": \"Thioredoxin\", \"uniprot\": \"P10599\", \"fam\": null, \"famext\": null, \"tdl\": \"Tchem\", \"novelty\": 0.0006327, \"articles\": \"http://api.newdrugtargets.org/diseases/62/targets/17138/articles\", \"importance\": 0.03030303, \"id\": 17138}, {\"name\": \"Mitogen-activated protein kinase 13\", \"uniprot\": \"O15264\", \"fam\": \"Kinase\", \"famext\": \"Kinase\", \"tdl\": \"Tchem\", \"novelty\": 0.00233731, \"articles\": \"http://api.newdrugtargets.org/diseases/62/targets/10471/articles\", \"importance\": 0.06547619, \"id\": 10471}, {\"name\": \"Death-associated protein kinase 1\", \"uniprot\": \"P53355\", \"fam\": \"Kinase\", \"famext\": \"Kinase\", \"tdl\": \"Tchem\", \"novelty\": 0.00455484, \"articles\": \"http://api.newdrugtargets.org/diseases/62/targets/4372/articles\", \"importance\": 0.00793651, \"id\": 4372}, {\"name\": \"Transcription factor RFX3\", \"uniprot\": \"P48380\", \"fam\": \"TF\", \"famext\": \"TF\", \"tdl\": \"Tbio\", \"novelty\": 0.08047535, \"articles\": \"http://api.newdrugtargets.org/diseases/62/targets/14439/articles\", \"importance\": 0.03939394, \"id\": 14439}, {\"name\": \"Sclerostin\", \"uniprot\": \"Q9BQB4\", \"fam\": null, \"famext\": null, \"tdl\": \"Tbio\", \"novelty\": 0.00110462, \"articles\": \"http://api.newdrugtargets.org/diseases/62/targets/15812/articles\", \"importance\": 0.04166667, \"id\": 15812}, {\"name\": \"Lymphocyte antigen 86\", \"uniprot\": \"O95711\", \"fam\": null, \"famext\": null, \"tdl\": \"Tbio\", \"novelty\": 0.0019124, \"articles\": \"http://api.newdrugtargets.org/diseases/62/targets/10118/articles\", \"importance\": 0.3125, \"id\": 10118}, {\"name\": \"Glucokinase\", \"uniprot\": \"P35557\", \"fam\": \"Kinase\", \"famext\": \"Kinase\", \"tdl\": \"Tchem\", \"novelty\": 0.00124658, \"articles\": \"http://api.newdrugtargets.org/diseases/62/targets/8626/articles\", \"importance\": 0.14880952, \"id\": 8626}, {\"name\": \"Carbonic anhydrase 1\", \"uniprot\": \"P00915\", \"fam\": \"Enzyme\", \"famext\": \"carbonic anhydrase\", \"tdl\": \"Tclin\", \"novelty\": 0.00047418, \"articles\": \"http://api.newdrugtargets.org/diseases/62/targets/1977/articles\", \"importance\": 0.02777778, \"id\": 1977}, {\"name\": \"Tumor necrosis factor ligand superfamily member 13B\", \"uniprot\": \"Q9Y275\", \"fam\": null, \"famext\": null, \"tdl\": \"Tclin\", \"novelty\": 0.00051468, \"articles\": \"http://api.newdrugtargets.org/diseases/62/targets/17603/articles\", \"importance\": 0.1, \"id\": 17603}, {\"name\": \"Interleukin-1 receptor type 1\", \"uniprot\": \"P14778\", \"fam\": null, \"famext\": null, \"tdl\": \"Tclin\", \"novelty\": 0.00208264, \"articles\": \"http://api.newdrugtargets.org/diseases/62/targets/7796/articles\", \"importance\": 0.13964838, \"id\": 7796}, {\"name\": \"Leukocyte cell-derived chemotaxin-2\", \"uniprot\": \"O14960\", \"fam\": null, \"famext\": null, \"tdl\": \"Tbio\", \"novelty\": 0.01248783, \"articles\": \"http://api.newdrugtargets.org/diseases/62/targets/8868/articles\", \"importance\": 0.05, \"id\": 8868}, {\"name\": \"Interferon-inducible protein AIM2\", \"uniprot\": \"O14862\", \"fam\": null, \"famext\": null, \"tdl\": \"Tbio\", \"novelty\": 0.00662124, \"articles\": \"http://api.newdrugtargets.org/diseases/62/targets/1049/articles\", \"importance\": 0.13507647, \"id\": 1049}, {\"name\": \"Probable small intestine urate exporter\", \"uniprot\": \"Q9Y2C5\", \"fam\": \"Transporter\", \"famext\": \"SLC17A_transporter\", \"tdl\": \"Tdark\", \"novelty\": 0.69902913, \"articles\": \"http://api.newdrugtargets.org/diseases/62/targets/15324/articles\", \"importance\": 0.01136364, \"id\": 15324}, {\"name\": \"Cytochrome P450 2C9\", \"uniprot\": \"P11712\", \"fam\": null, \"famext\": null, \"tdl\": \"Tchem\", \"novelty\": 0.00061362, \"articles\": \"http://api.newdrugtargets.org/diseases/62/targets/3412/articles\", \"importance\": 0.34404138, \"id\": 3412}, {\"name\": \"Proto-oncogene c-Fos\", \"uniprot\": \"P01100\", \"fam\": \"TF\", \"famext\": \"TF\", \"tdl\": \"Tbio\", \"novelty\": 7.206e-05, \"articles\": \"http://api.newdrugtargets.org/diseases/62/targets/6424/articles\", \"importance\": 0.19791667, \"id\": 6424}, {\"name\": \"Tripartite motif-containing protein 46\", \"uniprot\": \"Q7Z4K8\", \"fam\": null, \"famext\": null, \"tdl\": \"Tbio\", \"novelty\": 0.03064324, \"articles\": \"http://api.newdrugtargets.org/diseases/62/targets/17922/articles\", \"importance\": 0.01871658, \"id\": 17922}, {\"name\": \"Cytokine-inducible SH2-containing protein\", \"uniprot\": \"Q9NSE2\", \"fam\": null, \"famext\": null, \"tdl\": \"Tbio\", \"novelty\": 0.00116364, \"articles\": \"http://api.newdrugtargets.org/diseases/62/targets/3325/articles\", \"importance\": 0.01851852, \"id\": 3325}, {\"name\": \"Parathyroid hormone-related protein\", \"uniprot\": \"P12272\", \"fam\": null, \"famext\": null, \"tdl\": \"Tbio\", \"novelty\": 0.00052874, \"articles\": \"http://api.newdrugtargets.org/diseases/62/targets/13837/articles\", \"importance\": 0.0625, \"id\": 13837}, {\"name\": \"Transcription factor Sp6\", \"uniprot\": \"Q3SY56\", \"fam\": \"TF\", \"famext\": \"TF\", \"tdl\": \"Tbio\", \"novelty\": 0.00277442, \"articles\": \"http://api.newdrugtargets.org/diseases/62/targets/16121/articles\", \"importance\": 0.15922619, \"id\": 16121}, {\"name\": \"Nesprin-2\", \"uniprot\": \"Q8WXH0\", \"fam\": null, \"famext\": null, \"tdl\": \"Tbio\", \"novelty\": 0.00235794, \"articles\": \"http://api.newdrugtargets.org/diseases/62/targets/16613/articles\", \"importance\": 0.125, \"id\": 16613}, {\"name\": \"HLA class I histocompatibility antigen, B-27 alpha chain\", \"uniprot\": \"P03989\", \"fam\": null, \"famext\": null, \"tdl\": \"Tbio\", \"novelty\": 0.01295613, \"articles\": \"http://api.newdrugtargets.org/diseases/62/targets/357/articles\", \"importance\": 0.00848339, \"id\": 357}, {\"name\": \"Protein S100-A8\", \"uniprot\": \"P05109\", \"fam\": null, \"famext\": null, \"tdl\": \"Tbio\", \"novelty\": 0.00159082, \"articles\": \"http://api.newdrugtargets.org/diseases/62/targets/15023/articles\", \"importance\": 0.01785714, \"id\": 15023}, {\"name\": \"Transferrin receptor protein 1\", \"uniprot\": \"P02786\", \"fam\": null, \"famext\": null, \"tdl\": \"Tbio\", \"novelty\": 0.00036433, \"articles\": \"http://api.newdrugtargets.org/diseases/62/targets/17372/articles\", \"importance\": 0.01754386, \"id\": 17372}, {\"name\": \"P2X purinoceptor 7\", \"uniprot\": \"Q99572\", \"fam\": \"IC\", \"famext\": \"IC\", \"tdl\": \"Tchem\", \"novelty\": 0.00107301, \"articles\": \"http://api.newdrugtargets.org/diseases/62/targets/11650/articles\", \"importance\": 0.17334332, \"id\": 11650}, {\"name\": \"Putative neutrophil cytosol factor 1B\", \"uniprot\": \"A6NI72\", \"fam\": null, \"famext\": null, \"tdl\": \"Tdark\", \"novelty\": 0.00257999, \"articles\": \"http://api.newdrugtargets.org/diseases/62/targets/11268/articles\", \"importance\": 0.03102453, \"id\": 11268}, {\"name\": \"Sodium/bile acid cotransporter\", \"uniprot\": \"Q14973\", \"fam\": \"Transporter\", \"famext\": \"SLC10A_transporter\", \"tdl\": \"Tchem\", \"novelty\": 0.00203471, \"articles\": \"http://api.newdrugtargets.org/diseases/62/targets/11839/articles\", \"importance\": 0.01515152, \"id\": 11839}, {\"name\": \"Sodium-dependent phosphate transporter 1\", \"uniprot\": \"Q8WUM9\", \"fam\": \"Transporter\", \"famext\": \"SLC20A_transporter\", \"tdl\": \"Tbio\", \"novelty\": 0.01610358, \"articles\": \"http://api.newdrugtargets.org/diseases/62/targets/15329/articles\", \"importance\": 0.03125, \"id\": 15329}, {\"name\": \"Free fatty acid receptor 1\", \"uniprot\": \"O14842\", \"fam\": \"GPCR\", \"famext\": \"GPCR\", \"tdl\": \"Tchem\", \"novelty\": 0.00364742, \"articles\": \"http://api.newdrugtargets.org/diseases/62/targets/6166/articles\", \"importance\": 0.01538462, \"id\": 6166}, {\"name\": \"HLA class I histocompatibility antigen, B-35 alpha chain\", \"uniprot\": \"P30685\", \"fam\": null, \"famext\": null, \"tdl\": \"Tbio\", \"novelty\": 0.01295613, \"articles\": \"http://api.newdrugtargets.org/diseases/62/targets/358/articles\", \"importance\": 0.00848339, \"id\": 358}, {\"name\": \"TNF receptor-associated factor 6\", \"uniprot\": \"Q9Y4K3\", \"fam\": null, \"famext\": null, \"tdl\": \"Tbio\", \"novelty\": 0.00181048, \"articles\": \"http://api.newdrugtargets.org/diseases/62/targets/17911/articles\", \"importance\": 0.08983135, \"id\": 17911}, {\"name\": \"Melanocortin receptor 4\", \"uniprot\": \"P32245\", \"fam\": \"GPCR\", \"famext\": \"GPCR\", \"tdl\": \"Tchem\", \"novelty\": 0.00111903, \"articles\": \"http://api.newdrugtargets.org/diseases/62/targets/9934/articles\", \"importance\": 0.04166667, \"id\": 9934}, {\"name\": \"Phosphoglycerate kinase 1\", \"uniprot\": \"P00558\", \"fam\": \"Kinase\", \"famext\": \"Kinase\", \"tdl\": \"Tchem\", \"novelty\": 0.00159448, \"articles\": \"http://api.newdrugtargets.org/diseases/62/targets/12951/articles\", \"importance\": 0.01388889, \"id\": 12951}, {\"name\": \"B-cell antigen receptor complex-associated protein alpha chain\", \"uniprot\": \"P11912\", \"fam\": null, \"famext\": null, \"tdl\": \"Tbio\", \"novelty\": 3.536e-05, \"articles\": \"http://api.newdrugtargets.org/diseases/62/targets/3034/articles\", \"importance\": 0.43276033, \"id\": 3034}, {\"name\": \"Myeloblastin\", \"uniprot\": \"P24158\", \"fam\": \"Enzyme\", \"famext\": \"peptidase\", \"tdl\": \"Tchem\", \"novelty\": 0.000342, \"articles\": \"http://api.newdrugtargets.org/diseases/62/targets/13854/articles\", \"importance\": 0.06519457, \"id\": 13854}, {\"name\": \"Pancreatic triacylglycerol lipase\", \"uniprot\": \"P16233\", \"fam\": \"Enzyme\", \"famext\": null, \"tdl\": \"Tclin\", \"novelty\": 0.00048172, \"articles\": \"http://api.newdrugtargets.org/diseases/62/targets/9099/articles\", \"importance\": 0.1302521, \"id\": 9099}, {\"name\": \"C-X-C motif chemokine 5\", \"uniprot\": \"P42830\", \"fam\": null, \"famext\": null, \"tdl\": \"Tbio\", \"novelty\": 0.00358502, \"articles\": \"http://api.newdrugtargets.org/diseases/62/targets/4021/articles\", \"importance\": 0.00757576, \"id\": 4021}, {\"name\": \"Plasminogen\", \"uniprot\": \"P00747\", \"fam\": \"Enzyme\", \"famext\": \"peptidase\", \"tdl\": \"Tclin\", \"novelty\": 0.00010903, \"articles\": \"http://api.newdrugtargets.org/diseases/62/targets/13391/articles\", \"importance\": 0.17874579, \"id\": 13391}, {\"name\": \"C-C chemokine receptor type 2\", \"uniprot\": \"P41597\", \"fam\": \"GPCR\", \"famext\": \"GPCR\", \"tdl\": \"Tchem\", \"novelty\": 0.00086005, \"articles\": \"http://api.newdrugtargets.org/diseases/62/targets/2854/articles\", \"importance\": 0.01851852, \"id\": 2854}, {\"name\": \"C5a anaphylatoxin chemotactic receptor 1\", \"uniprot\": \"P21730\", \"fam\": \"GPCR\", \"famext\": \"GPCR\", \"tdl\": \"Tchem\", \"novelty\": 0.0022153, \"articles\": \"http://api.newdrugtargets.org/diseases/62/targets/1936/articles\", \"importance\": 0.02, \"id\": 1936}, {\"name\": \"Collagenase 3\", \"uniprot\": \"P45452\", \"fam\": \"Enzyme\", \"famext\": null, \"tdl\": \"Tchem\", \"novelty\": 0.00075557, \"articles\": \"http://api.newdrugtargets.org/diseases/62/targets/10481/articles\", \"importance\": 0.01111111, \"id\": 10481}, {\"name\": \"Interleukin-7\", \"uniprot\": \"P13232\", \"fam\": null, \"famext\": null, \"tdl\": \"Tbio\", \"novelty\": 0.00085761, \"articles\": \"http://api.newdrugtargets.org/diseases/62/targets/7929/articles\", \"importance\": 0.015625, \"id\": 7929}, {\"name\": \"Runt-related transcription factor 2\", \"uniprot\": \"Q13950\", \"fam\": \"TF\", \"famext\": \"TF\", \"tdl\": \"Tbio\", \"novelty\": 0.00039727, \"articles\": \"http://api.newdrugtargets.org/diseases/62/targets/14954/articles\", \"importance\": 0.03293651, \"id\": 14954}, {\"name\": \"Breast carcinoma-amplified sequence 3\", \"uniprot\": \"Q9H6U6\", \"fam\": null, \"famext\": null, \"tdl\": \"Tbio\", \"novelty\": 0.05659942, \"articles\": \"http://api.newdrugtargets.org/diseases/62/targets/2065/articles\", \"importance\": 0.03030303, \"id\": 2065}, {\"name\": \"Solute carrier family 40 member 1\", \"uniprot\": \"Q9NP59\", \"fam\": \"Transporter\", \"famext\": \"SLC40A_transporter\", \"tdl\": \"Tchem\", \"novelty\": 0.00329403, \"articles\": \"http://api.newdrugtargets.org/diseases/62/targets/15364/articles\", \"importance\": 0.91666667, \"id\": 15364}, {\"name\": \"Nuclear receptor-binding protein\", \"uniprot\": \"Q9UHY1\", \"fam\": \"Kinase\", \"famext\": \"Kinase\", \"tdl\": \"Tbio\", \"novelty\": 0.11285266, \"articles\": \"http://api.newdrugtargets.org/diseases/62/targets/11436/articles\", \"importance\": 0.0625, \"id\": 11436}, {\"name\": \"Tumor necrosis factor receptor superfamily member 25\", \"uniprot\": \"Q93038\", \"fam\": null, \"famext\": null, \"tdl\": \"Tbio\", \"novelty\": 0.00055928, \"articles\": \"http://api.newdrugtargets.org/diseases/62/targets/17613/articles\", \"importance\": 0.02325581, \"id\": 17613}, {\"name\": \"Hemoglobin subunit alpha\", \"uniprot\": \"P69905\", \"fam\": null, \"famext\": null, \"tdl\": \"Tbio\", \"novelty\": 0.00026291, \"articles\": \"http://api.newdrugtargets.org/diseases/62/targets/7225/articles\", \"importance\": 0.04938272, \"id\": 7225}, {\"name\": \"HLA class I histocompatibility antigen, B-57 alpha chain\", \"uniprot\": \"P18465\", \"fam\": null, \"famext\": null, \"tdl\": \"Tbio\", \"novelty\": 0.01295613, \"articles\": \"http://api.newdrugtargets.org/diseases/62/targets/88/articles\", \"importance\": 0.00848339, \"id\": 88}, {\"name\": \"C-X-C motif chemokine 9\", \"uniprot\": \"Q07325\", \"fam\": null, \"famext\": null, \"tdl\": \"Tbio\", \"novelty\": 0.00104825, \"articles\": \"http://api.newdrugtargets.org/diseases/62/targets/4023/articles\", \"importance\": 0.07291667, \"id\": 4023}, {\"name\": \"Tumor necrosis factor receptor superfamily member 10A\", \"uniprot\": \"O00220\", \"fam\": null, \"famext\": null, \"tdl\": \"Tchem\", \"novelty\": 0.00038572, \"articles\": \"http://api.newdrugtargets.org/diseases/62/targets/18186/articles\", \"importance\": 0.24209957, \"id\": 18186}, {\"name\": \"Protachykinin-1\", \"uniprot\": \"P20366\", \"fam\": null, \"famext\": null, \"tdl\": \"Tbio\", \"novelty\": 7.128e-05, \"articles\": \"http://api.newdrugtargets.org/diseases/62/targets/18339/articles\", \"importance\": 0.20594406, \"id\": 18339}, {\"name\": \"Nuclear factor NF-kappa-B p105 subunit\", \"uniprot\": \"P19838\", \"fam\": \"TF\", \"famext\": \"TF\", \"tdl\": \"Tchem\", \"novelty\": 0.00180513, \"articles\": \"http://api.newdrugtargets.org/diseases/62/targets/11347/articles\", \"importance\": 0.04166667, \"id\": 11347}, {\"name\": \"Ephrin type-A receptor 1\", \"uniprot\": \"P21709\", \"fam\": \"Kinase\", \"famext\": \"Kinase\", \"tdl\": \"Tchem\", \"novelty\": 0.00079481, \"articles\": \"http://api.newdrugtargets.org/diseases/62/targets/5359/articles\", \"importance\": 0.125, \"id\": 5359}, {\"name\": \"Gamma-sarcoglycan\", \"uniprot\": \"Q13326\", \"fam\": null, \"famext\": null, \"tdl\": \"Tbio\", \"novelty\": 0.00300035, \"articles\": \"http://api.newdrugtargets.org/diseases/62/targets/16278/articles\", \"importance\": 0.125, \"id\": 16278}, {\"name\": \"Alpha-L-iduronidase\", \"uniprot\": \"P35475\", \"fam\": \"Enzyme\", \"famext\": \"glycosyl_hydrolase\", \"tdl\": \"Tbio\", \"novelty\": 0.00349308, \"articles\": \"http://api.newdrugtargets.org/diseases/62/targets/8650/articles\", \"importance\": 0.01923077, \"id\": 8650}, {\"name\": \"Pyrin domain-containing protein 1\", \"uniprot\": \"Q8WXC3\", \"fam\": null, \"famext\": null, \"tdl\": \"Tbio\", \"novelty\": 0.00130115, \"articles\": \"http://api.newdrugtargets.org/diseases/62/targets/13723/articles\", \"importance\": 0.00571429, \"id\": 13723}, {\"name\": \"MHC class II transactivator\", \"uniprot\": \"P33076\", \"fam\": null, \"famext\": null, \"tdl\": \"Tbio\", \"novelty\": 0.00229315, \"articles\": \"http://api.newdrugtargets.org/diseases/62/targets/2103/articles\", \"importance\": 0.04166667, \"id\": 2103}, {\"name\": \"Otopetrin-1\", \"uniprot\": \"Q7RTM1\", \"fam\": null, \"famext\": null, \"tdl\": \"Tbio\", \"novelty\": 0.09199095, \"articles\": \"http://api.newdrugtargets.org/diseases/62/targets/12260/articles\", \"importance\": 0.01785714, \"id\": 12260}, {\"name\": \"Quinone oxidoreductase\", \"uniprot\": \"Q08257\", \"fam\": \"Enzyme\", \"famext\": \"zinc-containing_alcohol_dehydrogenase\", \"tdl\": \"Tbio\", \"novelty\": 0.00209268, \"articles\": \"http://api.newdrugtargets.org/diseases/62/targets/13955/articles\", \"importance\": 0.04086538, \"id\": 13955}, {\"name\": \"Kit ligand\", \"uniprot\": \"P21583\", \"fam\": null, \"famext\": null, \"tdl\": \"Tbio\", \"novelty\": 0.0005714, \"articles\": \"http://api.newdrugtargets.org/diseases/62/targets/15093/articles\", \"importance\": 0.02, \"id\": 15093}, {\"name\": \"Placenta growth factor\", \"uniprot\": \"P49763\", \"fam\": null, \"famext\": null, \"tdl\": \"Tclin\", \"novelty\": 0.00030065, \"articles\": \"http://api.newdrugtargets.org/diseases/62/targets/13225/articles\", \"importance\": 0.05882353, \"id\": 13225}, {\"name\": \"Natriuretic peptides B\", \"uniprot\": \"P16860\", \"fam\": null, \"famext\": null, \"tdl\": \"Tbio\", \"novelty\": 0.00042818, \"articles\": \"http://api.newdrugtargets.org/diseases/62/targets/1213/articles\", \"importance\": 0.05555556, \"id\": 1213}, {\"name\": \"Lipoprotein lipase\", \"uniprot\": \"P06858\", \"fam\": \"Enzyme\", \"famext\": null, \"tdl\": \"Tchem\", \"novelty\": 0.00080083, \"articles\": \"http://api.newdrugtargets.org/diseases/62/targets/9098/articles\", \"importance\": 0.0625, \"id\": 9098}, {\"name\": \"Transient receptor potential cation channel subfamily A member 1\", \"uniprot\": \"O75762\", \"fam\": \"IC\", \"famext\": \"IC\", \"tdl\": \"Tclin\", \"novelty\": 0.00131816, \"articles\": \"http://api.newdrugtargets.org/diseases/62/targets/17942/articles\", \"importance\": 0.05848214, \"id\": 17942}, {\"name\": \"A disintegrin and metalloproteinase with thrombospondin motifs 5\", \"uniprot\": \"Q9UNA0\", \"fam\": \"Enzyme\", \"famext\": null, \"tdl\": \"Tchem\", \"novelty\": 0.00546373, \"articles\": \"http://api.newdrugtargets.org/diseases/62/targets/1566/articles\", \"importance\": 0.03125, \"id\": 1566}, {\"name\": \"T-lymphocyte activation antigen CD86\", \"uniprot\": \"P42081\", \"fam\": null, \"famext\": null, \"tdl\": \"Tclin\", \"novelty\": 0.00032762, \"articles\": \"http://api.newdrugtargets.org/diseases/62/targets/2997/articles\", \"importance\": 0.05729167, \"id\": 2997}, {\"name\": \"Cytochrome P450 4B1\", \"uniprot\": \"P13584\", \"fam\": null, \"famext\": null, \"tdl\": \"Tbio\", \"novelty\": 0.01559723, \"articles\": \"http://api.newdrugtargets.org/diseases/62/targets/3416/articles\", \"importance\": 0.03125, \"id\": 3416}, {\"name\": \"Troponin T, slow skeletal muscle\", \"uniprot\": \"P13805\", \"fam\": null, \"famext\": null, \"tdl\": \"Tbio\", \"novelty\": 0.00033959, \"articles\": \"http://api.newdrugtargets.org/diseases/62/targets/17868/articles\", \"importance\": 0.01515152, \"id\": 17868}, {\"name\": \"Annexin A5\", \"uniprot\": \"P08758\", \"fam\": null, \"famext\": null, \"tdl\": \"Tbio\", \"novelty\": 0.00012257, \"articles\": \"http://api.newdrugtargets.org/diseases/62/targets/902/articles\", \"importance\": 0.17998737, \"id\": 902}, {\"name\": \"Transcription factor p65\", \"uniprot\": \"Q04206\", \"fam\": \"TF\", \"famext\": \"TF\", \"tdl\": \"Tchem\", \"novelty\": 0.00099248, \"articles\": \"http://api.newdrugtargets.org/diseases/62/targets/17529/articles\", \"importance\": 0.01388889, \"id\": 17529}, {\"name\": \"BET1 homolog\", \"uniprot\": \"O15155\", \"fam\": null, \"famext\": null, \"tdl\": \"Tdark\", \"novelty\": 0.00639691, \"articles\": \"http://api.newdrugtargets.org/diseases/62/targets/1380/articles\", \"importance\": 0.125, \"id\": 1380}, {\"name\": \"Voltage-dependent calcium channel gamma-like subunit\", \"uniprot\": \"Q8WXS4\", \"fam\": \"IC\", \"famext\": \"IC\", \"tdl\": \"Tbio\", \"novelty\": 0.00142219, \"articles\": \"http://api.newdrugtargets.org/diseases/62/targets/2845/articles\", \"importance\": 0.04, \"id\": 2845}, {\"name\": \"Hepatitis A virus cellular receptor 1\", \"uniprot\": \"Q96D42\", \"fam\": null, \"famext\": null, \"tdl\": \"Tbio\", \"novelty\": 0.0023467, \"articles\": \"http://api.newdrugtargets.org/diseases/62/targets/7131/articles\", \"importance\": 0.05, \"id\": 7131}, {\"name\": \"Alpha-galactosidase A\", \"uniprot\": \"P06280\", \"fam\": \"Enzyme\", \"famext\": \"glycosyl_hydrolase\", \"tdl\": \"Tclin\", \"novelty\": 0.00099041, \"articles\": \"http://api.newdrugtargets.org/diseases/62/targets/558/articles\", \"importance\": 0.00892857, \"id\": 558}, {\"name\": \"VIP peptides\", \"uniprot\": \"P01282\", \"fam\": null, \"famext\": null, \"tdl\": \"Tbio\", \"novelty\": 0.00027722, \"articles\": \"http://api.newdrugtargets.org/diseases/62/targets/18456/articles\", \"importance\": 0.025, \"id\": 18456}, {\"name\": \"Leukocyte immunoglobulin-like receptor subfamily A member 3\", \"uniprot\": \"Q8N6C8\", \"fam\": null, \"famext\": null, \"tdl\": \"Tbio\", \"novelty\": 0.04646906, \"articles\": \"http://api.newdrugtargets.org/diseases/62/targets/9102/articles\", \"importance\": 0.01666667, \"id\": 9102}, {\"name\": \"Cytotoxic T-lymphocyte protein 4\", \"uniprot\": \"P16410\", \"fam\": null, \"famext\": null, \"tdl\": \"Tclin\", \"novelty\": 0.00025963, \"articles\": \"http://api.newdrugtargets.org/diseases/62/targets/3934/articles\", \"importance\": 0.01470588, \"id\": 3934}, {\"name\": \"Dihydroorotate dehydrogenase (quinone), mitochondrial\", \"uniprot\": \"Q02127\", \"fam\": \"Enzyme\", \"famext\": null, \"tdl\": \"Tclin\", \"novelty\": 0.00333408, \"articles\": \"http://api.newdrugtargets.org/diseases/62/targets/14018/articles\", \"importance\": 0.04166667, \"id\": 14018}, {\"name\": \"Complement receptor type 2\", \"uniprot\": \"P20023\", \"fam\": null, \"famext\": null, \"tdl\": \"Tbio\", \"novelty\": 0.00104927, \"articles\": \"http://api.newdrugtargets.org/diseases/62/targets/3270/articles\", \"importance\": 0.03846154, \"id\": 3270}, {\"name\": \"Beta-3 adrenergic receptor\", \"uniprot\": \"P13945\", \"fam\": \"GPCR\", \"famext\": \"GPCR\", \"tdl\": \"Tclin\", \"novelty\": 0.00185823, \"articles\": \"http://api.newdrugtargets.org/diseases/62/targets/332/articles\", \"importance\": 0.09090909, \"id\": 332}, {\"name\": \"Prostaglandin E synthase\", \"uniprot\": \"O14684\", \"fam\": \"Enzyme\", \"famext\": null, \"tdl\": \"Tchem\", \"novelty\": 0.00088302, \"articles\": \"http://api.newdrugtargets.org/diseases/62/targets/13813/articles\", \"importance\": 0.2125947, \"id\": 13813}, {\"name\": \"Carcinoembryonic antigen-related cell adhesion molecule 8\", \"uniprot\": \"P31997\", \"fam\": null, \"famext\": null, \"tdl\": \"Tbio\", \"novelty\": 0.0052834, \"articles\": \"http://api.newdrugtargets.org/diseases/62/targets/2810/articles\", \"importance\": 0.09090909, \"id\": 2810}, {\"name\": \"Tubulin beta-4A chain\", \"uniprot\": \"P04350\", \"fam\": null, \"famext\": null, \"tdl\": \"Tclin\", \"novelty\": 0.00103822, \"articles\": \"http://api.newdrugtargets.org/diseases/62/targets/17391/articles\", \"importance\": 0.01388889, \"id\": 17391}, {\"name\": \"Molybdenum cofactor sulfurase\", \"uniprot\": \"Q96EN8\", \"fam\": \"Enzyme\", \"famext\": null, \"tdl\": \"Tbio\", \"novelty\": 0.07855046, \"articles\": \"http://api.newdrugtargets.org/diseases/62/targets/10313/articles\", \"importance\": 0.07142857, \"id\": 10313}, {\"name\": \"Melanocortin receptor 3\", \"uniprot\": \"P41968\", \"fam\": \"GPCR\", \"famext\": \"GPCR\", \"tdl\": \"Tchem\", \"novelty\": 0.00221026, \"articles\": \"http://api.newdrugtargets.org/diseases/62/targets/9933/articles\", \"importance\": 0.19583333, \"id\": 9933}, {\"name\": \"Conserved oligomeric Golgi complex subunit 2\", \"uniprot\": \"Q14746\", \"fam\": null, \"famext\": null, \"tdl\": \"Tbio\", \"novelty\": 0.00022023, \"articles\": \"http://api.newdrugtargets.org/diseases/62/targets/3391/articles\", \"importance\": 0.21042803, \"id\": 3391}, {\"name\": \"HLA class I histocompatibility antigen, B-37 alpha chain\", \"uniprot\": \"P18463\", \"fam\": null, \"famext\": null, \"tdl\": \"Tbio\", \"novelty\": 0.01295613, \"articles\": \"http://api.newdrugtargets.org/diseases/62/targets/10/articles\", \"importance\": 0.00848339, \"id\": 10}, {\"name\": \"Glucokinase regulatory protein\", \"uniprot\": \"Q14397\", \"fam\": \"Enzyme\", \"famext\": null, \"tdl\": \"Tchem\", \"novelty\": 0.00825853, \"articles\": \"http://api.newdrugtargets.org/diseases/62/targets/6599/articles\", \"importance\": 0.02380952, \"id\": 6599}, {\"name\": \"Granulocyte-macrophage colony-stimulating factor\", \"uniprot\": \"P04141\", \"fam\": null, \"famext\": null, \"tdl\": \"Tbio\", \"novelty\": 0.00012111, \"articles\": \"http://api.newdrugtargets.org/diseases/62/targets/3912/articles\", \"importance\": 0.18199717, \"id\": 3912}, {\"name\": \"Peroxiredoxin-2\", \"uniprot\": \"P32119\", \"fam\": null, \"famext\": null, \"tdl\": \"Tbio\", \"novelty\": 0.00268175, \"articles\": \"http://api.newdrugtargets.org/diseases/62/targets/13016/articles\", \"importance\": 0.125, \"id\": 13016}, {\"name\": \"Lethal(2) giant larvae protein homolog 1\", \"uniprot\": \"Q15334\", \"fam\": null, \"famext\": null, \"tdl\": \"Tbio\", \"novelty\": 0.00080908, \"articles\": \"http://api.newdrugtargets.org/diseases/62/targets/9267/articles\", \"importance\": 0.25, \"id\": 9267}, {\"name\": \"Guanine nucleotide-binding protein G(q) subunit alpha\", \"uniprot\": \"P50148\", \"fam\": null, \"famext\": null, \"tdl\": \"Tbio\", \"novelty\": 0.00184379, \"articles\": \"http://api.newdrugtargets.org/diseases/62/targets/7060/articles\", \"importance\": 0.1875, \"id\": 7060}, {\"name\": \"Solute carrier family 22 member 6\", \"uniprot\": \"Q4U2R8\", \"fam\": \"Transporter\", \"famext\": \"SLC22A_transporter\", \"tdl\": \"Tclin\", \"novelty\": 0.00471881, \"articles\": \"http://api.newdrugtargets.org/diseases/62/targets/15333/articles\", \"importance\": 0.25606061, \"id\": 15333}, {\"name\": \"cGMP-dependent protein kinase 2\", \"uniprot\": \"Q13237\", \"fam\": \"Kinase\", \"famext\": \"Kinase\", \"tdl\": \"Tchem\", \"novelty\": 0.01803898, \"articles\": \"http://api.newdrugtargets.org/diseases/62/targets/8795/articles\", \"importance\": 0.31491228, \"id\": 8795}, {\"name\": \"Glycogen phosphorylase, muscle form\", \"uniprot\": \"P11217\", \"fam\": \"Enzyme\", \"famext\": null, \"tdl\": \"Tchem\", \"novelty\": 0.00571168, \"articles\": \"http://api.newdrugtargets.org/diseases/62/targets/13696/articles\", \"importance\": 0.04166667, \"id\": 13696}, {\"name\": \"Neutrophil elastase\", \"uniprot\": \"P08246\", \"fam\": \"Enzyme\", \"famext\": \"peptidase\", \"tdl\": \"Tclin\", \"novelty\": 0.00024125, \"articles\": \"http://api.newdrugtargets.org/diseases/62/targets/5277/articles\", \"importance\": 0.28939394, \"id\": 5277}, {\"name\": \"Calcitonin gene-related peptide 2\", \"uniprot\": \"P10092\", \"fam\": null, \"famext\": null, \"tdl\": \"Tbio\", \"novelty\": 0.03420567, \"articles\": \"http://api.newdrugtargets.org/diseases/62/targets/1693/articles\", \"importance\": 0.025, \"id\": 1693}, {\"name\": \"Hematopoietic progenitor cell antigen CD34\", \"uniprot\": \"P28906\", \"fam\": null, \"famext\": null, \"tdl\": \"Tbio\", \"novelty\": 7.13e-05, \"articles\": \"http://api.newdrugtargets.org/diseases/62/targets/3126/articles\", \"importance\": 0.02, \"id\": 3126}, {\"name\": \"AP-1 complex subunit sigma-2\", \"uniprot\": \"P56377\", \"fam\": null, \"famext\": null, \"tdl\": \"Tbio\", \"novelty\": 0.00200468, \"articles\": \"http://api.newdrugtargets.org/diseases/62/targets/907/articles\", \"importance\": 0.11111111, \"id\": 907}, {\"name\": \"Ras-responsive element-binding protein 1\", \"uniprot\": \"Q92766\", \"fam\": \"TF\", \"famext\": \"TF\", \"tdl\": \"Tbio\", \"novelty\": 0.02132477, \"articles\": \"http://api.newdrugtargets.org/diseases/62/targets/14909/articles\", \"importance\": 0.00892857, \"id\": 14909}, {\"name\": \"Cytochrome c\", \"uniprot\": \"P99999\", \"fam\": null, \"famext\": null, \"tdl\": \"Tbio\", \"novelty\": 0.00017125, \"articles\": \"http://api.newdrugtargets.org/diseases/62/targets/3963/articles\", \"importance\": 0.02272727, \"id\": 3963}, {\"name\": \"HLA class I histocompatibility antigen, B-58 alpha chain\", \"uniprot\": \"P10319\", \"fam\": null, \"famext\": null, \"tdl\": \"Tbio\", \"novelty\": 0.01295613, \"articles\": \"http://api.newdrugtargets.org/diseases/62/targets/294/articles\", \"importance\": 0.00848339, \"id\": 294}, {\"name\": \"Connective tissue growth factor\", \"uniprot\": \"P29279\", \"fam\": null, \"famext\": null, \"tdl\": \"Tbio\", \"novelty\": 0.00052648, \"articles\": \"http://api.newdrugtargets.org/diseases/62/targets/3989/articles\", \"importance\": 0.06350806, \"id\": 3989}, {\"name\": \"Nephrocystin-4\", \"uniprot\": \"O75161\", \"fam\": null, \"famext\": null, \"tdl\": \"Tbio\", \"novelty\": 0.0384985, \"articles\": \"http://api.newdrugtargets.org/diseases/62/targets/11600/articles\", \"importance\": 0.01076389, \"id\": 11600}, {\"name\": \"Integrin beta-1\", \"uniprot\": \"P05556\", \"fam\": null, \"famext\": null, \"tdl\": \"Tclin\", \"novelty\": 0.00070146, \"articles\": \"http://api.newdrugtargets.org/diseases/62/targets/8261/articles\", \"importance\": 0.025, \"id\": 8261}, {\"name\": \"Myc proto-oncogene protein\", \"uniprot\": \"P01106\", \"fam\": \"TF\", \"famext\": \"TF\", \"tdl\": \"Tbio\", \"novelty\": 7.713e-05, \"articles\": \"http://api.newdrugtargets.org/diseases/62/targets/10758/articles\", \"importance\": 0.02083333, \"id\": 10758}, {\"name\": \"Basic helix-loop-helix transcription factor scleraxis\", \"uniprot\": \"Q7RTU7\", \"fam\": \"TF\", \"famext\": \"TF\", \"tdl\": \"Tbio\", \"novelty\": 0.00144046, \"articles\": \"http://api.newdrugtargets.org/diseases/62/targets/15551/articles\", \"importance\": 0.1875, \"id\": 15551}, {\"name\": \"Interleukin-1 receptor-associated kinase 4\", \"uniprot\": \"Q9NWZ3\", \"fam\": \"Kinase\", \"famext\": \"Kinase\", \"tdl\": \"Tchem\", \"novelty\": 0.00514991, \"articles\": \"http://api.newdrugtargets.org/diseases/62/targets/8530/articles\", \"importance\": 0.06057423, \"id\": 8530}, {\"name\": \"Hepatocyte nuclear factor 4-gamma\", \"uniprot\": \"Q14541\", \"fam\": \"NR\", \"famext\": \"NR\", \"tdl\": \"Tbio\", \"novelty\": 0.08190048, \"articles\": \"http://api.newdrugtargets.org/diseases/62/targets/7745/articles\", \"importance\": 0.01871658, \"id\": 7745}, {\"name\": \"Mast/stem cell growth factor receptor Kit\", \"uniprot\": \"P10721\", \"fam\": \"Kinase\", \"famext\": \"Kinase\", \"tdl\": \"Tclin\", \"novelty\": 0.00015667, \"articles\": \"http://api.newdrugtargets.org/diseases/62/targets/8988/articles\", \"importance\": 0.02083333, \"id\": 8988}, {\"name\": \"Complement receptor type 1\", \"uniprot\": \"P17927\", \"fam\": null, \"famext\": null, \"tdl\": \"Tbio\", \"novelty\": 0.00043143, \"articles\": \"http://api.newdrugtargets.org/diseases/62/targets/3516/articles\", \"importance\": 0.0625, \"id\": 3516}, {\"name\": \"Insulin-like growth factor 1 receptor\", \"uniprot\": \"P08069\", \"fam\": \"Kinase\", \"famext\": \"Kinase\", \"tdl\": \"Tclin\", \"novelty\": 0.00042493, \"articles\": \"http://api.newdrugtargets.org/diseases/62/targets/7911/articles\", \"importance\": 0.03909897, \"id\": 7911}, {\"name\": \"Putative glutathione hydrolase 3 proenzyme\", \"uniprot\": \"A6NGU5\", \"fam\": \"Enzyme\", \"famext\": \"gamma-glutamyltransferase\", \"tdl\": \"Tdark\", \"novelty\": 0.00080923, \"articles\": \"http://api.newdrugtargets.org/diseases/62/targets/6808/articles\", \"importance\": 0.05347222, \"id\": 6808}, {\"name\": \"Peroxisomal sarcosine oxidase\", \"uniprot\": \"Q9P0Z9\", \"fam\": \"Enzyme\", \"famext\": null, \"tdl\": \"Tbio\", \"novelty\": 0.00617101, \"articles\": \"http://api.newdrugtargets.org/diseases/62/targets/15815/articles\", \"importance\": 0.01612903, \"id\": 15815}, {\"name\": \"Elongation of very long chain fatty acids protein 6\", \"uniprot\": \"Q9H5J4\", \"fam\": null, \"famext\": null, \"tdl\": \"Tchem\", \"novelty\": 0.01303272, \"articles\": \"http://api.newdrugtargets.org/diseases/62/targets/5336/articles\", \"importance\": 0.0625, \"id\": 5336}, {\"name\": \"Cystatin-B\", \"uniprot\": \"P04080\", \"fam\": null, \"famext\": null, \"tdl\": \"Tbio\", \"novelty\": 0.0016562, \"articles\": \"http://api.newdrugtargets.org/diseases/62/targets/3878/articles\", \"importance\": 0.34090909, \"id\": 3878}, {\"name\": \"Transcription factor Sp7\", \"uniprot\": \"Q8TDD2\", \"fam\": \"TF\", \"famext\": \"TF\", \"tdl\": \"Tbio\", \"novelty\": 0.00154835, \"articles\": \"http://api.newdrugtargets.org/diseases/62/targets/15920/articles\", \"importance\": 0.03293651, \"id\": 15920}, {\"name\": \"Low affinity immunoglobulin gamma Fc region receptor II-a\", \"uniprot\": \"P12318\", \"fam\": null, \"famext\": null, \"tdl\": \"Tbio\", \"novelty\": 0.00128878, \"articles\": \"http://api.newdrugtargets.org/diseases/62/targets/5821/articles\", \"importance\": 0.01785714, \"id\": 5821}, {\"name\": \"Interleukin-1 receptor antagonist protein\", \"uniprot\": \"P18510\", \"fam\": null, \"famext\": null, \"tdl\": \"Tchem\", \"novelty\": 0.00078947, \"articles\": \"http://api.newdrugtargets.org/diseases/62/targets/8046/articles\", \"importance\": 3.44179491, \"id\": 8046}, {\"name\": \"Ephrin type-A receptor 8\", \"uniprot\": \"P29322\", \"fam\": \"Kinase\", \"famext\": \"Kinase\", \"tdl\": \"Tchem\", \"novelty\": 0.02103859, \"articles\": \"http://api.newdrugtargets.org/diseases/62/targets/5360/articles\", \"importance\": 0.03333333, \"id\": 5360}, {\"name\": \"AMP deaminase 2\", \"uniprot\": \"Q01433\", \"fam\": \"Enzyme\", \"famext\": \"adenosine_and _AMP_deaminases\", \"tdl\": \"Tchem\", \"novelty\": 0.01805485, \"articles\": \"http://api.newdrugtargets.org/diseases/62/targets/864/articles\", \"importance\": 0.04166667, \"id\": 864}, {\"name\": \"RILP-like protein 1\", \"uniprot\": \"Q5EBL4\", \"fam\": null, \"famext\": null, \"tdl\": \"Tbio\", \"novelty\": 0.00414663, \"articles\": \"http://api.newdrugtargets.org/diseases/62/targets/14544/articles\", \"importance\": 0.24833333, \"id\": 14544}, {\"name\": \"Alcohol dehydrogenase 1C\", \"uniprot\": \"P00326\", \"fam\": \"Enzyme\", \"famext\": \"zinc-containing_alcohol_dehydrogenase\", \"tdl\": \"Tclin\", \"novelty\": 0.00377514, \"articles\": \"http://api.newdrugtargets.org/diseases/62/targets/244/articles\", \"importance\": 0.02272727, \"id\": 244}, {\"name\": \"Taste receptor type 2 member 43\", \"uniprot\": \"P59537\", \"fam\": \"GPCR\", \"famext\": \"GPCR\", \"tdl\": \"Tbio\", \"novelty\": 0.15384615, \"articles\": \"http://api.newdrugtargets.org/diseases/62/targets/17265/articles\", \"importance\": 0.025, \"id\": 17265}, {\"name\": \"Renin\", \"uniprot\": \"P00797\", \"fam\": \"Enzyme\", \"famext\": \"peptidase\", \"tdl\": \"Tclin\", \"novelty\": 2.909e-05, \"articles\": \"http://api.newdrugtargets.org/diseases/62/targets/14456/articles\", \"importance\": 0.91201143, \"id\": 14456}, {\"name\": \"UPF0160 protein MYG1, mitochondrial\", \"uniprot\": \"Q9HB07\", \"fam\": null, \"famext\": null, \"tdl\": \"Tbio\", \"novelty\": 0.00343175, \"articles\": \"http://api.newdrugtargets.org/diseases/62/targets/10562/articles\", \"importance\": 0.125, \"id\": 10562}]}};\n",
              "    var embed_opt = {\"mode\": \"vega-lite\"};\n",
              "\n",
              "    function showError(el, error){\n",
              "        el.innerHTML = ('<div class=\"error\">'\n",
              "                        + '<p>JavaScript Error: ' + error.message + '</p>'\n",
              "                        + \"<p>This usually means there's a typo in your chart specification. \"\n",
              "                        + \"See the javascript console for the full traceback.</p>\"\n",
              "                        + '</div>');\n",
              "        throw error;\n",
              "    }\n",
              "    const el = document.getElementById('vis');\n",
              "    vegaEmbed(\"#vis\", spec, embed_opt)\n",
              "      .catch(error => showError(el, error));\n",
              "  </script>\n",
              "</body>\n",
              "</html>\n"
            ]
          },
          "metadata": {
            "tags": []
          },
          "execution_count": 12
        }
      ]
    },
    {
      "metadata": {
        "id": "plS_zaJWrhGY",
        "colab_type": "text"
      },
      "cell_type": "markdown",
      "source": [
        "### For a selected target, fetch articles."
      ]
    },
    {
      "metadata": {
        "id": "fiGAhPz9rm1L",
        "colab_type": "code",
        "colab": {
          "base_uri": "https://localhost:8080/",
          "height": 443
        },
        "outputId": "cfef77d6-6c79-4dd9-b7d7-94fbc3dd8bcb"
      },
      "cell_type": "code",
      "source": [
        "target_id = 3818\n",
        "action = [\"diseases\", \"targets\", \"articles\", \"list\"]\n",
        "params = { \"disease_id\":disease_id, \"target_id\":target_id, \"limit\":1000, \"offset\":0 }\n",
        "response = client.action(schema, action, params=params)\n",
        "articles = pandas.DataFrame(response['results'])\n",
        "print(\"Articles: %d\"%(articles.shape[0]))\n",
        "articles['PubMed_URL'] = articles.id.astype('str').str.replace('^(.*)$', 'https://www.ncbi.nlm.nih.gov/pubmed/\\\\1')\n",
        "articles.head()"
      ],
      "execution_count": 17,
      "outputs": [
        {
          "output_type": "stream",
          "text": [
            "Articles: 45\n"
          ],
          "name": "stdout"
        },
        {
          "output_type": "execute_result",
          "data": {
            "text/html": [
              "<div>\n",
              "<style scoped>\n",
              "    .dataframe tbody tr th:only-of-type {\n",
              "        vertical-align: middle;\n",
              "    }\n",
              "\n",
              "    .dataframe tbody tr th {\n",
              "        vertical-align: top;\n",
              "    }\n",
              "\n",
              "    .dataframe thead th {\n",
              "        text-align: right;\n",
              "    }\n",
              "</style>\n",
              "<table border=\"1\" class=\"dataframe\">\n",
              "  <thead>\n",
              "    <tr style=\"text-align: right;\">\n",
              "      <th></th>\n",
              "      <th>id</th>\n",
              "      <th>title</th>\n",
              "      <th>journal</th>\n",
              "      <th>date</th>\n",
              "      <th>authors</th>\n",
              "      <th>abstract</th>\n",
              "      <th>PubMed_URL</th>\n",
              "    </tr>\n",
              "  </thead>\n",
              "  <tbody>\n",
              "    <tr>\n",
              "      <th>0</th>\n",
              "      <td>25873399</td>\n",
              "      <td>Inpatient management of gout in a New Zealand ...</td>\n",
              "      <td>International journal of rheumatic diseases</td>\n",
              "      <td>2016-02</td>\n",
              "      <td>Kennedy, Nicholas J NJ, Healy, Paul J PJ and H...</td>\n",
              "      <td>To review inpatient management of acute gout i...</td>\n",
              "      <td>https://www.ncbi.nlm.nih.gov/pubmed/25873399</td>\n",
              "    </tr>\n",
              "    <tr>\n",
              "      <th>1</th>\n",
              "      <td>23195793</td>\n",
              "      <td>ACTH as first line treatment for acute gout in...</td>\n",
              "      <td>Joint, bone, spine : revue du rhumatisme</td>\n",
              "      <td>2013-05</td>\n",
              "      <td>Daoussis, Dimitrios D, Antonopoulos, Ioannis I...</td>\n",
              "      <td>We aimed at assessing the efficacy and safety ...</td>\n",
              "      <td>https://www.ncbi.nlm.nih.gov/pubmed/23195793</td>\n",
              "    </tr>\n",
              "    <tr>\n",
              "      <th>2</th>\n",
              "      <td>21575286</td>\n",
              "      <td>Gout.</td>\n",
              "      <td>BMJ clinical evidence</td>\n",
              "      <td>2011-05-17</td>\n",
              "      <td>and Underwood, Martin M.</td>\n",
              "      <td>Gout affects about 5% of men and 1% of women, ...</td>\n",
              "      <td>https://www.ncbi.nlm.nih.gov/pubmed/21575286</td>\n",
              "    </tr>\n",
              "    <tr>\n",
              "      <th>3</th>\n",
              "      <td>21222262</td>\n",
              "      <td>Melanocortin control of cell trafficking in va...</td>\n",
              "      <td>Advances in experimental medicine and biology</td>\n",
              "      <td>2010</td>\n",
              "      <td>Patel, Hetal B HB, Leoni, Giovanna G, Melendez...</td>\n",
              "      <td>Over 20 years of research based upon applicati...</td>\n",
              "      <td>https://www.ncbi.nlm.nih.gov/pubmed/21222262</td>\n",
              "    </tr>\n",
              "    <tr>\n",
              "      <th>4</th>\n",
              "      <td>19463070</td>\n",
              "      <td>Gout--what are the treatment options?</td>\n",
              "      <td>Expert opinion on pharmacotherapy</td>\n",
              "      <td>2009-06</td>\n",
              "      <td>Schlesinger, Naomi N, Dalbeth, Nicola N and Pe...</td>\n",
              "      <td>There has been an increase in the incidence an...</td>\n",
              "      <td>https://www.ncbi.nlm.nih.gov/pubmed/19463070</td>\n",
              "    </tr>\n",
              "  </tbody>\n",
              "</table>\n",
              "</div>"
            ],
            "text/plain": [
              "         id                                              title  \\\n",
              "0  25873399  Inpatient management of gout in a New Zealand ...   \n",
              "1  23195793  ACTH as first line treatment for acute gout in...   \n",
              "2  21575286                                              Gout.   \n",
              "3  21222262  Melanocortin control of cell trafficking in va...   \n",
              "4  19463070              Gout--what are the treatment options?   \n",
              "\n",
              "                                         journal        date  \\\n",
              "0    International journal of rheumatic diseases     2016-02   \n",
              "1       Joint, bone, spine : revue du rhumatisme     2013-05   \n",
              "2                          BMJ clinical evidence  2011-05-17   \n",
              "3  Advances in experimental medicine and biology        2010   \n",
              "4              Expert opinion on pharmacotherapy     2009-06   \n",
              "\n",
              "                                             authors  \\\n",
              "0  Kennedy, Nicholas J NJ, Healy, Paul J PJ and H...   \n",
              "1  Daoussis, Dimitrios D, Antonopoulos, Ioannis I...   \n",
              "2                           and Underwood, Martin M.   \n",
              "3  Patel, Hetal B HB, Leoni, Giovanna G, Melendez...   \n",
              "4  Schlesinger, Naomi N, Dalbeth, Nicola N and Pe...   \n",
              "\n",
              "                                            abstract  \\\n",
              "0  To review inpatient management of acute gout i...   \n",
              "1  We aimed at assessing the efficacy and safety ...   \n",
              "2  Gout affects about 5% of men and 1% of women, ...   \n",
              "3  Over 20 years of research based upon applicati...   \n",
              "4  There has been an increase in the incidence an...   \n",
              "\n",
              "                                     PubMed_URL  \n",
              "0  https://www.ncbi.nlm.nih.gov/pubmed/25873399  \n",
              "1  https://www.ncbi.nlm.nih.gov/pubmed/23195793  \n",
              "2  https://www.ncbi.nlm.nih.gov/pubmed/21575286  \n",
              "3  https://www.ncbi.nlm.nih.gov/pubmed/21222262  \n",
              "4  https://www.ncbi.nlm.nih.gov/pubmed/19463070  "
            ]
          },
          "metadata": {
            "tags": []
          },
          "execution_count": 17
        }
      ]
    }
  ]
}